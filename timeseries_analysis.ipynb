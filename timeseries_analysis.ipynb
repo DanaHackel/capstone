{
 "cells": [
  {
   "cell_type": "code",
   "execution_count": 1,
   "metadata": {},
   "outputs": [],
   "source": [
    "import pandas as pd\n",
    "import numpy as np\n",
    "import matplotlib.pyplot as plt\n",
    "import statsmodels.api as sm\n",
    "from sklearn.model_selection import train_test_split\n",
    "from sklearn.metrics import r2_score, mean_squared_error\n",
    "from statsmodels.tsa.arima_model import ARIMA\n",
    "from statsmodels.tsa.stattools import adfuller"
   ]
  },
  {
   "cell_type": "code",
   "execution_count": 2,
   "metadata": {},
   "outputs": [
    {
     "name": "stderr",
     "output_type": "stream",
     "text": [
      "C:\\Users\\12155\\anaconda3\\lib\\site-packages\\IPython\\core\\interactiveshell.py:3063: DtypeWarning: Columns (11) have mixed types.Specify dtype option on import or set low_memory=False.\n",
      "  interactivity=interactivity, compiler=compiler, result=result)\n"
     ]
    },
    {
     "data": {
      "text/html": [
       "<div>\n",
       "<style scoped>\n",
       "    .dataframe tbody tr th:only-of-type {\n",
       "        vertical-align: middle;\n",
       "    }\n",
       "\n",
       "    .dataframe tbody tr th {\n",
       "        vertical-align: top;\n",
       "    }\n",
       "\n",
       "    .dataframe thead th {\n",
       "        text-align: right;\n",
       "    }\n",
       "</style>\n",
       "<table border=\"1\" class=\"dataframe\">\n",
       "  <thead>\n",
       "    <tr style=\"text-align: right;\">\n",
       "      <th></th>\n",
       "      <th>key_0</th>\n",
       "      <th>NDC Description</th>\n",
       "      <th>NDC</th>\n",
       "      <th>NADAC_Per_Unit</th>\n",
       "      <th>Effective_Date</th>\n",
       "      <th>Pricing_Unit</th>\n",
       "      <th>Pharmacy_Type_Indicator</th>\n",
       "      <th>OTC</th>\n",
       "      <th>Explanation_Code</th>\n",
       "      <th>Classification_for_Rate_Setting</th>\n",
       "      <th>...</th>\n",
       "      <th>Appl_No</th>\n",
       "      <th>Product_No</th>\n",
       "      <th>TE_Code</th>\n",
       "      <th>Approval_Date</th>\n",
       "      <th>RLD</th>\n",
       "      <th>RS</th>\n",
       "      <th>Type</th>\n",
       "      <th>Applicant_Full_Name</th>\n",
       "      <th>dosage_form</th>\n",
       "      <th>route</th>\n",
       "    </tr>\n",
       "  </thead>\n",
       "  <tbody>\n",
       "    <tr>\n",
       "      <th>0</th>\n",
       "      <td>OLANZAPINE 10MG ORAL</td>\n",
       "      <td>OLANZAPINE 10MG TABLET</td>\n",
       "      <td>904637661</td>\n",
       "      <td>0.2202</td>\n",
       "      <td>12/23/2015</td>\n",
       "      <td>EA</td>\n",
       "      <td>C/I</td>\n",
       "      <td>N</td>\n",
       "      <td>1</td>\n",
       "      <td>G</td>\n",
       "      <td>...</td>\n",
       "      <td>204320</td>\n",
       "      <td>2</td>\n",
       "      <td>NaN</td>\n",
       "      <td>May 30, 2017</td>\n",
       "      <td>No</td>\n",
       "      <td>No</td>\n",
       "      <td>DISCN</td>\n",
       "      <td>AJANTA PHARMA LTD</td>\n",
       "      <td>TABLET, ORALLY DISINTEGRATING</td>\n",
       "      <td>ORAL</td>\n",
       "    </tr>\n",
       "    <tr>\n",
       "      <th>1</th>\n",
       "      <td>OLANZAPINE 10MG ORAL</td>\n",
       "      <td>OLANZAPINE 10MG TABLET</td>\n",
       "      <td>904637661</td>\n",
       "      <td>0.2202</td>\n",
       "      <td>12/23/2015</td>\n",
       "      <td>EA</td>\n",
       "      <td>C/I</td>\n",
       "      <td>N</td>\n",
       "      <td>1</td>\n",
       "      <td>G</td>\n",
       "      <td>...</td>\n",
       "      <td>91265</td>\n",
       "      <td>2</td>\n",
       "      <td>AB</td>\n",
       "      <td>Oct 24, 2011</td>\n",
       "      <td>No</td>\n",
       "      <td>No</td>\n",
       "      <td>RX</td>\n",
       "      <td>APOTEX INC</td>\n",
       "      <td>TABLET, ORALLY DISINTEGRATING</td>\n",
       "      <td>ORAL</td>\n",
       "    </tr>\n",
       "    <tr>\n",
       "      <th>2</th>\n",
       "      <td>OLANZAPINE 10MG ORAL</td>\n",
       "      <td>OLANZAPINE 10MG TABLET</td>\n",
       "      <td>904637661</td>\n",
       "      <td>0.2202</td>\n",
       "      <td>12/23/2015</td>\n",
       "      <td>EA</td>\n",
       "      <td>C/I</td>\n",
       "      <td>N</td>\n",
       "      <td>1</td>\n",
       "      <td>G</td>\n",
       "      <td>...</td>\n",
       "      <td>203708</td>\n",
       "      <td>2</td>\n",
       "      <td>AB</td>\n",
       "      <td>May 15, 2014</td>\n",
       "      <td>No</td>\n",
       "      <td>No</td>\n",
       "      <td>RX</td>\n",
       "      <td>AUROBINDO PHARMA LTD</td>\n",
       "      <td>TABLET, ORALLY DISINTEGRATING</td>\n",
       "      <td>ORAL</td>\n",
       "    </tr>\n",
       "    <tr>\n",
       "      <th>3</th>\n",
       "      <td>OLANZAPINE 10MG ORAL</td>\n",
       "      <td>OLANZAPINE 10MG TABLET</td>\n",
       "      <td>904637661</td>\n",
       "      <td>0.2202</td>\n",
       "      <td>12/23/2015</td>\n",
       "      <td>EA</td>\n",
       "      <td>C/I</td>\n",
       "      <td>N</td>\n",
       "      <td>1</td>\n",
       "      <td>G</td>\n",
       "      <td>...</td>\n",
       "      <td>77243</td>\n",
       "      <td>2</td>\n",
       "      <td>AB</td>\n",
       "      <td>Jan 30, 2012</td>\n",
       "      <td>No</td>\n",
       "      <td>No</td>\n",
       "      <td>RX</td>\n",
       "      <td>BARR LABORATORIES INC</td>\n",
       "      <td>TABLET, ORALLY DISINTEGRATING</td>\n",
       "      <td>ORAL</td>\n",
       "    </tr>\n",
       "    <tr>\n",
       "      <th>4</th>\n",
       "      <td>OLANZAPINE 10MG ORAL</td>\n",
       "      <td>OLANZAPINE 10MG TABLET</td>\n",
       "      <td>904637661</td>\n",
       "      <td>0.2202</td>\n",
       "      <td>12/23/2015</td>\n",
       "      <td>EA</td>\n",
       "      <td>C/I</td>\n",
       "      <td>N</td>\n",
       "      <td>1</td>\n",
       "      <td>G</td>\n",
       "      <td>...</td>\n",
       "      <td>76534</td>\n",
       "      <td>2</td>\n",
       "      <td>AB</td>\n",
       "      <td>Oct 24, 2011</td>\n",
       "      <td>No</td>\n",
       "      <td>No</td>\n",
       "      <td>RX</td>\n",
       "      <td>DR REDDYS LABORATORIES LTD</td>\n",
       "      <td>TABLET, ORALLY DISINTEGRATING</td>\n",
       "      <td>ORAL</td>\n",
       "    </tr>\n",
       "  </tbody>\n",
       "</table>\n",
       "<p>5 rows × 30 columns</p>\n",
       "</div>"
      ],
      "text/plain": [
       "                  key_0         NDC Description        NDC  NADAC_Per_Unit  \\\n",
       "0  OLANZAPINE 10MG ORAL  OLANZAPINE 10MG TABLET  904637661          0.2202   \n",
       "1  OLANZAPINE 10MG ORAL  OLANZAPINE 10MG TABLET  904637661          0.2202   \n",
       "2  OLANZAPINE 10MG ORAL  OLANZAPINE 10MG TABLET  904637661          0.2202   \n",
       "3  OLANZAPINE 10MG ORAL  OLANZAPINE 10MG TABLET  904637661          0.2202   \n",
       "4  OLANZAPINE 10MG ORAL  OLANZAPINE 10MG TABLET  904637661          0.2202   \n",
       "\n",
       "  Effective_Date Pricing_Unit Pharmacy_Type_Indicator OTC Explanation_Code  \\\n",
       "0     12/23/2015           EA                     C/I   N                1   \n",
       "1     12/23/2015           EA                     C/I   N                1   \n",
       "2     12/23/2015           EA                     C/I   N                1   \n",
       "3     12/23/2015           EA                     C/I   N                1   \n",
       "4     12/23/2015           EA                     C/I   N                1   \n",
       "\n",
       "  Classification_for_Rate_Setting  ...  Appl_No Product_No TE_Code  \\\n",
       "0                               G  ...   204320          2     NaN   \n",
       "1                               G  ...    91265          2      AB   \n",
       "2                               G  ...   203708          2      AB   \n",
       "3                               G  ...    77243          2      AB   \n",
       "4                               G  ...    76534          2      AB   \n",
       "\n",
       "   Approval_Date RLD  RS   Type         Applicant_Full_Name  \\\n",
       "0   May 30, 2017  No  No  DISCN           AJANTA PHARMA LTD   \n",
       "1   Oct 24, 2011  No  No     RX                  APOTEX INC   \n",
       "2   May 15, 2014  No  No     RX        AUROBINDO PHARMA LTD   \n",
       "3   Jan 30, 2012  No  No     RX       BARR LABORATORIES INC   \n",
       "4   Oct 24, 2011  No  No     RX  DR REDDYS LABORATORIES LTD   \n",
       "\n",
       "                     dosage_form route  \n",
       "0  TABLET, ORALLY DISINTEGRATING  ORAL  \n",
       "1  TABLET, ORALLY DISINTEGRATING  ORAL  \n",
       "2  TABLET, ORALLY DISINTEGRATING  ORAL  \n",
       "3  TABLET, ORALLY DISINTEGRATING  ORAL  \n",
       "4  TABLET, ORALLY DISINTEGRATING  ORAL  \n",
       "\n",
       "[5 rows x 30 columns]"
      ]
     },
     "execution_count": 2,
     "metadata": {},
     "output_type": "execute_result"
    }
   ],
   "source": [
    "all_drugs = pd.read_csv('./data/all_drugs.csv')\n",
    "all_drugs.head()"
   ]
  },
  {
   "cell_type": "code",
   "execution_count": 3,
   "metadata": {},
   "outputs": [
    {
     "data": {
      "text/plain": [
       "Index(['IBUPROFEN 200MG TABLET', 'LEVETIRACETAM 500MG TABLET',\n",
       "       'LEVETIRACETAM 750MG TABLET', 'HYDROCHLOROTHIAZIDE 50MG TABLET ORAL',\n",
       "       'LOSARTAN POTASSIUM 50MG TABLET ORAL',\n",
       "       'LOSARTAN POTASSIUM 100MG TABLET ORAL', 'LAMOTRIGINE 25MG TABLET',\n",
       "       'HYDROCHLOROTHIAZIDE 25MG TABLET ORAL', 'METRONIDAZOLE 500MG TABLET',\n",
       "       'LISINOPRIL 20MG TABLET'],\n",
       "      dtype='object')"
      ]
     },
     "execution_count": 3,
     "metadata": {},
     "output_type": "execute_result"
    }
   ],
   "source": [
    "top_drugs = all_drugs['NDC Description'].value_counts().sort_values(ascending = False)\n",
    "top_generics = top_drugs.index.unique()\n",
    "top_generics\n",
    "top_10 = top_generics[:10]\n",
    "top_10"
   ]
  },
  {
   "cell_type": "code",
   "execution_count": 4,
   "metadata": {},
   "outputs": [
    {
     "data": {
      "text/html": [
       "<div>\n",
       "<style scoped>\n",
       "    .dataframe tbody tr th:only-of-type {\n",
       "        vertical-align: middle;\n",
       "    }\n",
       "\n",
       "    .dataframe tbody tr th {\n",
       "        vertical-align: top;\n",
       "    }\n",
       "\n",
       "    .dataframe thead th {\n",
       "        text-align: right;\n",
       "    }\n",
       "</style>\n",
       "<table border=\"1\" class=\"dataframe\">\n",
       "  <thead>\n",
       "    <tr style=\"text-align: right;\">\n",
       "      <th></th>\n",
       "      <th>key_0</th>\n",
       "      <th>NDC Description</th>\n",
       "      <th>NDC</th>\n",
       "      <th>NADAC_Per_Unit</th>\n",
       "      <th>Effective_Date</th>\n",
       "      <th>Pricing_Unit</th>\n",
       "      <th>Pharmacy_Type_Indicator</th>\n",
       "      <th>OTC</th>\n",
       "      <th>Explanation_Code</th>\n",
       "      <th>Classification_for_Rate_Setting</th>\n",
       "      <th>...</th>\n",
       "      <th>Appl_No</th>\n",
       "      <th>Product_No</th>\n",
       "      <th>TE_Code</th>\n",
       "      <th>Approval_Date</th>\n",
       "      <th>RLD</th>\n",
       "      <th>RS</th>\n",
       "      <th>Type</th>\n",
       "      <th>Applicant_Full_Name</th>\n",
       "      <th>dosage_form</th>\n",
       "      <th>route</th>\n",
       "    </tr>\n",
       "  </thead>\n",
       "  <tbody>\n",
       "    <tr>\n",
       "      <th>0</th>\n",
       "      <td>IBUPROFEN 200MG ORAL</td>\n",
       "      <td>IBUPROFEN 200MG TABLET</td>\n",
       "      <td>37205035071</td>\n",
       "      <td>0.02881</td>\n",
       "      <td>12/17/2014</td>\n",
       "      <td>EA</td>\n",
       "      <td>C/I</td>\n",
       "      <td>Y</td>\n",
       "      <td>1</td>\n",
       "      <td>G</td>\n",
       "      <td>...</td>\n",
       "      <td>74782</td>\n",
       "      <td>1</td>\n",
       "      <td>NaN</td>\n",
       "      <td>Jul 6, 1998</td>\n",
       "      <td>No</td>\n",
       "      <td>No</td>\n",
       "      <td>DISCN</td>\n",
       "      <td>CONTRACT PHARMACAL CORP</td>\n",
       "      <td>CAPSULE</td>\n",
       "      <td>ORAL</td>\n",
       "    </tr>\n",
       "    <tr>\n",
       "      <th>1</th>\n",
       "      <td>IBUPROFEN 200MG ORAL</td>\n",
       "      <td>IBUPROFEN 200MG TABLET</td>\n",
       "      <td>37205035071</td>\n",
       "      <td>0.02881</td>\n",
       "      <td>12/17/2014</td>\n",
       "      <td>EA</td>\n",
       "      <td>C/I</td>\n",
       "      <td>Y</td>\n",
       "      <td>1</td>\n",
       "      <td>G</td>\n",
       "      <td>...</td>\n",
       "      <td>79233</td>\n",
       "      <td>1</td>\n",
       "      <td>NaN</td>\n",
       "      <td>Mar 18, 2014</td>\n",
       "      <td>No</td>\n",
       "      <td>No</td>\n",
       "      <td>OTC</td>\n",
       "      <td>AMNEAL PHARMACEUTICALS OF NEW YORK LLC</td>\n",
       "      <td>TABLET</td>\n",
       "      <td>ORAL</td>\n",
       "    </tr>\n",
       "    <tr>\n",
       "      <th>2</th>\n",
       "      <td>IBUPROFEN 200MG ORAL</td>\n",
       "      <td>IBUPROFEN 200MG TABLET</td>\n",
       "      <td>37205035071</td>\n",
       "      <td>0.02881</td>\n",
       "      <td>12/17/2014</td>\n",
       "      <td>EA</td>\n",
       "      <td>C/I</td>\n",
       "      <td>Y</td>\n",
       "      <td>1</td>\n",
       "      <td>G</td>\n",
       "      <td>...</td>\n",
       "      <td>71333</td>\n",
       "      <td>1</td>\n",
       "      <td>NaN</td>\n",
       "      <td>Feb 17, 1987</td>\n",
       "      <td>No</td>\n",
       "      <td>No</td>\n",
       "      <td>OTC</td>\n",
       "      <td>AMNEAL PHARMACEUTICALS NY LLC</td>\n",
       "      <td>TABLET</td>\n",
       "      <td>ORAL</td>\n",
       "    </tr>\n",
       "  </tbody>\n",
       "</table>\n",
       "<p>3 rows × 30 columns</p>\n",
       "</div>"
      ],
      "text/plain": [
       "                  key_0         NDC Description          NDC  NADAC_Per_Unit  \\\n",
       "0  IBUPROFEN 200MG ORAL  IBUPROFEN 200MG TABLET  37205035071         0.02881   \n",
       "1  IBUPROFEN 200MG ORAL  IBUPROFEN 200MG TABLET  37205035071         0.02881   \n",
       "2  IBUPROFEN 200MG ORAL  IBUPROFEN 200MG TABLET  37205035071         0.02881   \n",
       "\n",
       "  Effective_Date Pricing_Unit Pharmacy_Type_Indicator OTC Explanation_Code  \\\n",
       "0     12/17/2014           EA                     C/I   Y                1   \n",
       "1     12/17/2014           EA                     C/I   Y                1   \n",
       "2     12/17/2014           EA                     C/I   Y                1   \n",
       "\n",
       "  Classification_for_Rate_Setting  ...  Appl_No Product_No TE_Code  \\\n",
       "0                               G  ...    74782          1     NaN   \n",
       "1                               G  ...    79233          1     NaN   \n",
       "2                               G  ...    71333          1     NaN   \n",
       "\n",
       "   Approval_Date RLD  RS   Type                     Applicant_Full_Name  \\\n",
       "0    Jul 6, 1998  No  No  DISCN                 CONTRACT PHARMACAL CORP   \n",
       "1   Mar 18, 2014  No  No    OTC  AMNEAL PHARMACEUTICALS OF NEW YORK LLC   \n",
       "2   Feb 17, 1987  No  No    OTC           AMNEAL PHARMACEUTICALS NY LLC   \n",
       "\n",
       "  dosage_form route  \n",
       "0     CAPSULE  ORAL  \n",
       "1      TABLET  ORAL  \n",
       "2      TABLET  ORAL  \n",
       "\n",
       "[3 rows x 30 columns]"
      ]
     },
     "execution_count": 4,
     "metadata": {},
     "output_type": "execute_result"
    }
   ],
   "source": [
    "top_10_generics = pd.DataFrame()\n",
    "for i in top_10:\n",
    "    i_df = all_drugs[all_drugs['NDC Description'] == i]\n",
    "    top_10_generics = top_10_generics.append(i_df, ignore_index = True)\n",
    "top_10_generics.head(3)"
   ]
  },
  {
   "cell_type": "code",
   "execution_count": 5,
   "metadata": {},
   "outputs": [
    {
     "data": {
      "text/plain": [
       "Index(['CHILDREN'S ADVIL 100MG/5ML', 'DALIRESP 500MCG TABLET',\n",
       "       'ENTRESTO 97MG-103MG TABLET', 'ENTRESTO 49MG-51MG TABLET',\n",
       "       'CARDIZEM LA 180MG TABLET', 'LOTEMAX 0.5% OPHTHALMIC GEL',\n",
       "       'ENTRESTO 24MG-26MG TABLET', 'GLUCOTROL XL 5MG TABLET',\n",
       "       'CARDIZEM LA 120MG TABLET', 'GLUCOTROL XL 10MG TABLET'],\n",
       "      dtype='object')"
      ]
     },
     "execution_count": 5,
     "metadata": {},
     "output_type": "execute_result"
    }
   ],
   "source": [
    "brands = all_drugs[(all_drugs['Classification_for_Rate_Setting'] == 'B')|(all_drugs['Classification_for_Rate_Setting'] == 'B_ANDA')]\n",
    "top_brands = brands['NDC Description'].value_counts().sort_values(ascending = False)\n",
    "top_brands = top_brands.index.unique()\n",
    "top_10_brands = top_brands[:10]\n",
    "top_10_brands"
   ]
  },
  {
   "cell_type": "code",
   "execution_count": 6,
   "metadata": {},
   "outputs": [
    {
     "data": {
      "text/html": [
       "<div>\n",
       "<style scoped>\n",
       "    .dataframe tbody tr th:only-of-type {\n",
       "        vertical-align: middle;\n",
       "    }\n",
       "\n",
       "    .dataframe tbody tr th {\n",
       "        vertical-align: top;\n",
       "    }\n",
       "\n",
       "    .dataframe thead th {\n",
       "        text-align: right;\n",
       "    }\n",
       "</style>\n",
       "<table border=\"1\" class=\"dataframe\">\n",
       "  <thead>\n",
       "    <tr style=\"text-align: right;\">\n",
       "      <th></th>\n",
       "      <th>key_0</th>\n",
       "      <th>NDC Description</th>\n",
       "      <th>NDC</th>\n",
       "      <th>NADAC_Per_Unit</th>\n",
       "      <th>Effective_Date</th>\n",
       "      <th>Pricing_Unit</th>\n",
       "      <th>Pharmacy_Type_Indicator</th>\n",
       "      <th>OTC</th>\n",
       "      <th>Explanation_Code</th>\n",
       "      <th>Classification_for_Rate_Setting</th>\n",
       "      <th>...</th>\n",
       "      <th>Appl_No</th>\n",
       "      <th>Product_No</th>\n",
       "      <th>TE_Code</th>\n",
       "      <th>Approval_Date</th>\n",
       "      <th>RLD</th>\n",
       "      <th>RS</th>\n",
       "      <th>Type</th>\n",
       "      <th>Applicant_Full_Name</th>\n",
       "      <th>dosage_form</th>\n",
       "      <th>route</th>\n",
       "    </tr>\n",
       "  </thead>\n",
       "  <tbody>\n",
       "    <tr>\n",
       "      <th>0</th>\n",
       "      <td>CHILDREN'S ADVIL 100MG/5ML ORAL</td>\n",
       "      <td>CHILDREN'S ADVIL 100MG/5ML</td>\n",
       "      <td>573029030</td>\n",
       "      <td>0.03677</td>\n",
       "      <td>08/19/2015</td>\n",
       "      <td>ML</td>\n",
       "      <td>C/I</td>\n",
       "      <td>Y</td>\n",
       "      <td>2, 5</td>\n",
       "      <td>B</td>\n",
       "      <td>...</td>\n",
       "      <td>19833</td>\n",
       "      <td>2</td>\n",
       "      <td>NaN</td>\n",
       "      <td>Sep 19, 1989</td>\n",
       "      <td>No</td>\n",
       "      <td>No</td>\n",
       "      <td>DISCN</td>\n",
       "      <td>GLAXOSMITHKLINE CONSUMER HEALTHCARE HOLDINGS U...</td>\n",
       "      <td>SUSPENSION</td>\n",
       "      <td>ORAL</td>\n",
       "    </tr>\n",
       "    <tr>\n",
       "      <th>1</th>\n",
       "      <td>CHILDREN'S ADVIL 100MG/5ML ORAL</td>\n",
       "      <td>CHILDREN'S ADVIL 100MG/5ML</td>\n",
       "      <td>573029030</td>\n",
       "      <td>0.03677</td>\n",
       "      <td>08/19/2015</td>\n",
       "      <td>ML</td>\n",
       "      <td>C/I</td>\n",
       "      <td>Y</td>\n",
       "      <td>2, 5</td>\n",
       "      <td>B</td>\n",
       "      <td>...</td>\n",
       "      <td>20589</td>\n",
       "      <td>1</td>\n",
       "      <td>NaN</td>\n",
       "      <td>Jun 27, 1996</td>\n",
       "      <td>No</td>\n",
       "      <td>No</td>\n",
       "      <td>OTC</td>\n",
       "      <td>GLAXOSMITHKLINE CONSUMER HEALTHCARE HOLDINGS U...</td>\n",
       "      <td>SUSPENSION</td>\n",
       "      <td>ORAL</td>\n",
       "    </tr>\n",
       "    <tr>\n",
       "      <th>2</th>\n",
       "      <td>CHILDREN'S ADVIL 100MG/5ML ORAL</td>\n",
       "      <td>CHILDREN'S ADVIL 100MG/5ML</td>\n",
       "      <td>573017130</td>\n",
       "      <td>0.03621</td>\n",
       "      <td>07/23/2014</td>\n",
       "      <td>ML</td>\n",
       "      <td>C/I</td>\n",
       "      <td>Y</td>\n",
       "      <td>2, 5</td>\n",
       "      <td>B</td>\n",
       "      <td>...</td>\n",
       "      <td>19833</td>\n",
       "      <td>2</td>\n",
       "      <td>NaN</td>\n",
       "      <td>Sep 19, 1989</td>\n",
       "      <td>No</td>\n",
       "      <td>No</td>\n",
       "      <td>DISCN</td>\n",
       "      <td>GLAXOSMITHKLINE CONSUMER HEALTHCARE HOLDINGS U...</td>\n",
       "      <td>SUSPENSION</td>\n",
       "      <td>ORAL</td>\n",
       "    </tr>\n",
       "  </tbody>\n",
       "</table>\n",
       "<p>3 rows × 30 columns</p>\n",
       "</div>"
      ],
      "text/plain": [
       "                             key_0             NDC Description        NDC  \\\n",
       "0  CHILDREN'S ADVIL 100MG/5ML ORAL  CHILDREN'S ADVIL 100MG/5ML  573029030   \n",
       "1  CHILDREN'S ADVIL 100MG/5ML ORAL  CHILDREN'S ADVIL 100MG/5ML  573029030   \n",
       "2  CHILDREN'S ADVIL 100MG/5ML ORAL  CHILDREN'S ADVIL 100MG/5ML  573017130   \n",
       "\n",
       "   NADAC_Per_Unit Effective_Date Pricing_Unit Pharmacy_Type_Indicator OTC  \\\n",
       "0         0.03677     08/19/2015           ML                     C/I   Y   \n",
       "1         0.03677     08/19/2015           ML                     C/I   Y   \n",
       "2         0.03621     07/23/2014           ML                     C/I   Y   \n",
       "\n",
       "  Explanation_Code Classification_for_Rate_Setting  ...  Appl_No Product_No  \\\n",
       "0             2, 5                               B  ...    19833          2   \n",
       "1             2, 5                               B  ...    20589          1   \n",
       "2             2, 5                               B  ...    19833          2   \n",
       "\n",
       "  TE_Code  Approval_Date RLD  RS   Type  \\\n",
       "0     NaN   Sep 19, 1989  No  No  DISCN   \n",
       "1     NaN   Jun 27, 1996  No  No    OTC   \n",
       "2     NaN   Sep 19, 1989  No  No  DISCN   \n",
       "\n",
       "                                 Applicant_Full_Name dosage_form route  \n",
       "0  GLAXOSMITHKLINE CONSUMER HEALTHCARE HOLDINGS U...  SUSPENSION  ORAL  \n",
       "1  GLAXOSMITHKLINE CONSUMER HEALTHCARE HOLDINGS U...  SUSPENSION  ORAL  \n",
       "2  GLAXOSMITHKLINE CONSUMER HEALTHCARE HOLDINGS U...  SUSPENSION  ORAL  \n",
       "\n",
       "[3 rows x 30 columns]"
      ]
     },
     "execution_count": 6,
     "metadata": {},
     "output_type": "execute_result"
    }
   ],
   "source": [
    "top_10_brands_df = pd.DataFrame()\n",
    "for i in top_10_brands:\n",
    "    i_df = all_drugs[all_drugs['NDC Description'] == i]\n",
    "    top_10_brands_df = top_10_brands_df.append(i_df, ignore_index = True)\n",
    "top_10_brands_df.head(3)"
   ]
  },
  {
   "cell_type": "code",
   "execution_count": 7,
   "metadata": {},
   "outputs": [],
   "source": [
    "top_10_brands_df['Effective_Date'] = pd.to_datetime(top_10_brands_df['Effective_Date'])"
   ]
  },
  {
   "cell_type": "code",
   "execution_count": 8,
   "metadata": {},
   "outputs": [],
   "source": [
    "top_10_generics['Effective_Date'] = pd.to_datetime(top_10_generics['Effective_Date'])"
   ]
  },
  {
   "cell_type": "code",
   "execution_count": 9,
   "metadata": {},
   "outputs": [
    {
     "data": {
      "text/plain": [
       "key_0                                                object\n",
       "NDC Description                                      object\n",
       "NDC                                                   int64\n",
       "NADAC_Per_Unit                                      float64\n",
       "Effective_Date                               datetime64[ns]\n",
       "Pricing_Unit                                         object\n",
       "Pharmacy_Type_Indicator                              object\n",
       "OTC                                                  object\n",
       "Explanation_Code                                     object\n",
       "Classification_for_Rate_Setting                      object\n",
       "Corresponding_Generic_Drug_NADAC_Per_Unit           float64\n",
       "Corresponding_Generic_Drug_Effective_Date            object\n",
       "As of Date                                           object\n",
       "Unnamed: 0                                            int64\n",
       "Ingredient                                           object\n",
       "DF;Route                                             object\n",
       "Trade_Name                                           object\n",
       "Applicant                                            object\n",
       "Strength                                             object\n",
       "Appl_Type                                            object\n",
       "Appl_No                                               int64\n",
       "Product_No                                            int64\n",
       "TE_Code                                              object\n",
       "Approval_Date                                        object\n",
       "RLD                                                  object\n",
       "RS                                                   object\n",
       "Type                                                 object\n",
       "Applicant_Full_Name                                  object\n",
       "dosage_form                                          object\n",
       "route                                                object\n",
       "dtype: object"
      ]
     },
     "execution_count": 9,
     "metadata": {},
     "output_type": "execute_result"
    }
   ],
   "source": [
    "top_10_brands_df.dtypes"
   ]
  },
  {
   "cell_type": "code",
   "execution_count": 10,
   "metadata": {},
   "outputs": [
    {
     "data": {
      "image/png": "[encoded data removed]",
      "text/plain": [
       "<Figure size 720x576 with 1 Axes>"
      ]
     },
     "metadata": {
      "needs_background": "light"
     },
     "output_type": "display_data"
    }
   ],
   "source": [
    "import seaborn as sns\n",
    "plt.figure(figsize=(10,8))\n",
    "sns.lineplot(x='Effective_Date', y='NADAC_Per_Unit', hue = 'NDC Description', data = top_10_generics)\n",
    "plt.title('Top 10 Generic Drug Prices per Unit over Time')\n",
    "plt.savefig('./images/top_20_generic_timeseries.jpg');\n",
    "#looking into metronidazole 500mg tablet and losartan potassium 100mg tablet"
   ]
  },
  {
   "cell_type": "code",
   "execution_count": 11,
   "metadata": {},
   "outputs": [
    {
     "data": {
      "image/png": "[encoded data removed]",
      "text/plain": [
       "<Figure size 720x576 with 1 Axes>"
      ]
     },
     "metadata": {
      "needs_background": "light"
     },
     "output_type": "display_data"
    }
   ],
   "source": [
    "plt.figure(figsize=(10,8))\n",
    "sns.lineplot(x='Effective_Date', y='NADAC_Per_Unit', hue = 'NDC Description', data = top_10_brands_df)\n",
    "plt.title('Top 10 Brand Drug Prices per Unit over Time')\n",
    "plt.savefig('./images/top_10_brand_timeseries.jpg');\n",
    "#these all look pretty stable\n"
   ]
  },
  {
   "cell_type": "code",
   "execution_count": 12,
   "metadata": {},
   "outputs": [
    {
     "data": {
      "text/html": [
       "<div>\n",
       "<style scoped>\n",
       "    .dataframe tbody tr th:only-of-type {\n",
       "        vertical-align: middle;\n",
       "    }\n",
       "\n",
       "    .dataframe tbody tr th {\n",
       "        vertical-align: top;\n",
       "    }\n",
       "\n",
       "    .dataframe thead th {\n",
       "        text-align: right;\n",
       "    }\n",
       "</style>\n",
       "<table border=\"1\" class=\"dataframe\">\n",
       "  <thead>\n",
       "    <tr style=\"text-align: right;\">\n",
       "      <th></th>\n",
       "      <th>key_0</th>\n",
       "      <th>NDC Description</th>\n",
       "      <th>NDC</th>\n",
       "      <th>NADAC_Per_Unit</th>\n",
       "      <th>Effective_Date</th>\n",
       "      <th>Pricing_Unit</th>\n",
       "      <th>Pharmacy_Type_Indicator</th>\n",
       "      <th>OTC</th>\n",
       "      <th>Explanation_Code</th>\n",
       "      <th>Classification_for_Rate_Setting</th>\n",
       "      <th>...</th>\n",
       "      <th>Appl_No</th>\n",
       "      <th>Product_No</th>\n",
       "      <th>TE_Code</th>\n",
       "      <th>Approval_Date</th>\n",
       "      <th>RLD</th>\n",
       "      <th>RS</th>\n",
       "      <th>Type</th>\n",
       "      <th>Applicant_Full_Name</th>\n",
       "      <th>dosage_form</th>\n",
       "      <th>route</th>\n",
       "    </tr>\n",
       "  </thead>\n",
       "  <tbody>\n",
       "    <tr>\n",
       "      <th>37805</th>\n",
       "      <td>METRONIDAZOLE 500MG ORAL</td>\n",
       "      <td>METRONIDAZOLE 500MG TABLET</td>\n",
       "      <td>68084096611</td>\n",
       "      <td>0.44439</td>\n",
       "      <td>12/23/2015</td>\n",
       "      <td>EA</td>\n",
       "      <td>C/I</td>\n",
       "      <td>N</td>\n",
       "      <td>1</td>\n",
       "      <td>G</td>\n",
       "      <td>...</td>\n",
       "      <td>76519</td>\n",
       "      <td>2</td>\n",
       "      <td>NaN</td>\n",
       "      <td>Jun 27, 2003</td>\n",
       "      <td>No</td>\n",
       "      <td>No</td>\n",
       "      <td>DISCN</td>\n",
       "      <td>ABLE LABORATORIES INC</td>\n",
       "      <td>TABLET</td>\n",
       "      <td>ORAL</td>\n",
       "    </tr>\n",
       "    <tr>\n",
       "      <th>37806</th>\n",
       "      <td>METRONIDAZOLE 500MG ORAL</td>\n",
       "      <td>METRONIDAZOLE 500MG TABLET</td>\n",
       "      <td>68084096611</td>\n",
       "      <td>0.44439</td>\n",
       "      <td>12/23/2015</td>\n",
       "      <td>EA</td>\n",
       "      <td>C/I</td>\n",
       "      <td>N</td>\n",
       "      <td>1</td>\n",
       "      <td>G</td>\n",
       "      <td>...</td>\n",
       "      <td>79067</td>\n",
       "      <td>2</td>\n",
       "      <td>AB</td>\n",
       "      <td>Mar 13, 2009</td>\n",
       "      <td>No</td>\n",
       "      <td>No</td>\n",
       "      <td>RX</td>\n",
       "      <td>ALEMBIC PHARMACEUTICALS LTD</td>\n",
       "      <td>TABLET</td>\n",
       "      <td>ORAL</td>\n",
       "    </tr>\n",
       "  </tbody>\n",
       "</table>\n",
       "<p>2 rows × 30 columns</p>\n",
       "</div>"
      ],
      "text/plain": [
       "                          key_0             NDC Description          NDC  \\\n",
       "37805  METRONIDAZOLE 500MG ORAL  METRONIDAZOLE 500MG TABLET  68084096611   \n",
       "37806  METRONIDAZOLE 500MG ORAL  METRONIDAZOLE 500MG TABLET  68084096611   \n",
       "\n",
       "       NADAC_Per_Unit Effective_Date Pricing_Unit Pharmacy_Type_Indicator OTC  \\\n",
       "37805         0.44439     12/23/2015           EA                     C/I   N   \n",
       "37806         0.44439     12/23/2015           EA                     C/I   N   \n",
       "\n",
       "      Explanation_Code Classification_for_Rate_Setting  ...  Appl_No  \\\n",
       "37805                1                               G  ...    76519   \n",
       "37806                1                               G  ...    79067   \n",
       "\n",
       "      Product_No TE_Code  Approval_Date RLD  RS   Type  \\\n",
       "37805          2     NaN   Jun 27, 2003  No  No  DISCN   \n",
       "37806          2      AB   Mar 13, 2009  No  No     RX   \n",
       "\n",
       "               Applicant_Full_Name dosage_form route  \n",
       "37805        ABLE LABORATORIES INC      TABLET  ORAL  \n",
       "37806  ALEMBIC PHARMACEUTICALS LTD      TABLET  ORAL  \n",
       "\n",
       "[2 rows x 30 columns]"
      ]
     },
     "execution_count": 12,
     "metadata": {},
     "output_type": "execute_result"
    }
   ],
   "source": [
    "metron = all_drugs[all_drugs['NDC Description'] == 'METRONIDAZOLE 500MG TABLET']\n",
    "metron.head(2)"
   ]
  },
  {
   "cell_type": "code",
   "execution_count": 13,
   "metadata": {},
   "outputs": [
    {
     "data": {
      "text/html": [
       "<div>\n",
       "<style scoped>\n",
       "    .dataframe tbody tr th:only-of-type {\n",
       "        vertical-align: middle;\n",
       "    }\n",
       "\n",
       "    .dataframe tbody tr th {\n",
       "        vertical-align: top;\n",
       "    }\n",
       "\n",
       "    .dataframe thead th {\n",
       "        text-align: right;\n",
       "    }\n",
       "</style>\n",
       "<table border=\"1\" class=\"dataframe\">\n",
       "  <thead>\n",
       "    <tr style=\"text-align: right;\">\n",
       "      <th></th>\n",
       "      <th>key_0</th>\n",
       "      <th>NDC Description</th>\n",
       "      <th>NDC</th>\n",
       "      <th>NADAC_Per_Unit</th>\n",
       "      <th>Effective_Date</th>\n",
       "      <th>Pricing_Unit</th>\n",
       "      <th>Pharmacy_Type_Indicator</th>\n",
       "      <th>OTC</th>\n",
       "      <th>Explanation_Code</th>\n",
       "      <th>Classification_for_Rate_Setting</th>\n",
       "      <th>...</th>\n",
       "      <th>Appl_No</th>\n",
       "      <th>Product_No</th>\n",
       "      <th>TE_Code</th>\n",
       "      <th>Approval_Date</th>\n",
       "      <th>RLD</th>\n",
       "      <th>RS</th>\n",
       "      <th>Type</th>\n",
       "      <th>Applicant_Full_Name</th>\n",
       "      <th>dosage_form</th>\n",
       "      <th>route</th>\n",
       "    </tr>\n",
       "  </thead>\n",
       "  <tbody>\n",
       "    <tr>\n",
       "      <th>46387</th>\n",
       "      <td>LOSARTAN POTASSIUM 100MG ORAL</td>\n",
       "      <td>LOSARTAN POTASSIUM 100MG TABLET ORAL</td>\n",
       "      <td>43547036209</td>\n",
       "      <td>0.08175</td>\n",
       "      <td>12/23/2015</td>\n",
       "      <td>EA</td>\n",
       "      <td>C/I</td>\n",
       "      <td>N</td>\n",
       "      <td>1</td>\n",
       "      <td>G</td>\n",
       "      <td>...</td>\n",
       "      <td>90428</td>\n",
       "      <td>3</td>\n",
       "      <td>AB</td>\n",
       "      <td>Oct 6, 2010</td>\n",
       "      <td>No</td>\n",
       "      <td>No</td>\n",
       "      <td>RX</td>\n",
       "      <td>ALEMBIC PHARMACEUTICALS LTD</td>\n",
       "      <td>TABLET</td>\n",
       "      <td>ORAL</td>\n",
       "    </tr>\n",
       "    <tr>\n",
       "      <th>46388</th>\n",
       "      <td>LOSARTAN POTASSIUM 100MG ORAL</td>\n",
       "      <td>LOSARTAN POTASSIUM 100MG TABLET ORAL</td>\n",
       "      <td>43547036209</td>\n",
       "      <td>0.08175</td>\n",
       "      <td>12/23/2015</td>\n",
       "      <td>EA</td>\n",
       "      <td>C/I</td>\n",
       "      <td>N</td>\n",
       "      <td>1</td>\n",
       "      <td>G</td>\n",
       "      <td>...</td>\n",
       "      <td>90790</td>\n",
       "      <td>3</td>\n",
       "      <td>NaN</td>\n",
       "      <td>Oct 6, 2010</td>\n",
       "      <td>No</td>\n",
       "      <td>No</td>\n",
       "      <td>DISCN</td>\n",
       "      <td>APOTEX CORP</td>\n",
       "      <td>TABLET</td>\n",
       "      <td>ORAL</td>\n",
       "    </tr>\n",
       "  </tbody>\n",
       "</table>\n",
       "<p>2 rows × 30 columns</p>\n",
       "</div>"
      ],
      "text/plain": [
       "                               key_0                       NDC Description  \\\n",
       "46387  LOSARTAN POTASSIUM 100MG ORAL  LOSARTAN POTASSIUM 100MG TABLET ORAL   \n",
       "46388  LOSARTAN POTASSIUM 100MG ORAL  LOSARTAN POTASSIUM 100MG TABLET ORAL   \n",
       "\n",
       "               NDC  NADAC_Per_Unit Effective_Date Pricing_Unit  \\\n",
       "46387  43547036209         0.08175     12/23/2015           EA   \n",
       "46388  43547036209         0.08175     12/23/2015           EA   \n",
       "\n",
       "      Pharmacy_Type_Indicator OTC Explanation_Code  \\\n",
       "46387                     C/I   N                1   \n",
       "46388                     C/I   N                1   \n",
       "\n",
       "      Classification_for_Rate_Setting  ...  Appl_No Product_No TE_Code  \\\n",
       "46387                               G  ...    90428          3      AB   \n",
       "46388                               G  ...    90790          3     NaN   \n",
       "\n",
       "       Approval_Date RLD  RS   Type          Applicant_Full_Name dosage_form  \\\n",
       "46387    Oct 6, 2010  No  No     RX  ALEMBIC PHARMACEUTICALS LTD      TABLET   \n",
       "46388    Oct 6, 2010  No  No  DISCN                  APOTEX CORP      TABLET   \n",
       "\n",
       "      route  \n",
       "46387  ORAL  \n",
       "46388  ORAL  \n",
       "\n",
       "[2 rows x 30 columns]"
      ]
     },
     "execution_count": 13,
     "metadata": {},
     "output_type": "execute_result"
    }
   ],
   "source": [
    "losartan = all_drugs[all_drugs['NDC Description'] == 'LOSARTAN POTASSIUM 100MG TABLET ORAL']\n",
    "losartan.head(2)"
   ]
  },
  {
   "cell_type": "code",
   "execution_count": 14,
   "metadata": {},
   "outputs": [],
   "source": [
    "metron.set_index(pd.to_datetime(metron['Effective_Date']), inplace=True)\n",
    "metron_arima = pd.DataFrame(metron['NADAC_Per_Unit'].groupby(metron.index).mean())\n",
    "losartan.set_index(pd.to_datetime(losartan['Effective_Date']), inplace=True)\n",
    "losartan_arima = pd.DataFrame(losartan['NADAC_Per_Unit'].groupby(losartan.index).mean())"
   ]
  },
  {
   "cell_type": "code",
   "execution_count": 15,
   "metadata": {},
   "outputs": [
    {
     "data": {
      "image/png": "[encoded data removed]",
      "text/plain": [
       "<Figure size 432x288 with 1 Axes>"
      ]
     },
     "metadata": {
      "needs_background": "light"
     },
     "output_type": "display_data"
    }
   ],
   "source": [
    "from statsmodels.graphics.tsaplots import plot_acf, plot_pacf\n",
    "plot_acf(metron['NADAC_Per_Unit'], lags = 10);\n",
    "#no seasonality, but there seems to be a trend"
   ]
  },
  {
   "cell_type": "code",
   "execution_count": 16,
   "metadata": {},
   "outputs": [
    {
     "data": {
      "image/png": "[encoded data removed]",
      "text/plain": [
       "<Figure size 432x288 with 1 Axes>"
      ]
     },
     "metadata": {
      "needs_background": "light"
     },
     "output_type": "display_data"
    }
   ],
   "source": [
    "plot_pacf(metron['NADAC_Per_Unit'], lags = 10);"
   ]
  },
  {
   "cell_type": "code",
   "execution_count": 17,
   "metadata": {},
   "outputs": [],
   "source": [
    "#metron.drop(columns=['Corresponding_Generic_Drug_Effective_Date', 'Unnamed: 0', 'DF;Route'], inplace=True)\n",
    "features =  metron[['NDC Description','Pharmacy_Type_Indicator', 'Classification_for_Rate_Setting', 'dosage_form', 'route',\n",
    "           'Ingredient', 'Type']].copy()\n",
    "feature_dummies = pd.get_dummies(features, columns = ['NDC Description','Pharmacy_Type_Indicator', 'Classification_for_Rate_Setting', 'dosage_form', 'route',\n",
    "           'Ingredient', 'Type'], drop_first=True)\n",
    "X = feature_dummies\n",
    "y = metron['NADAC_Per_Unit']"
   ]
  },
  {
   "cell_type": "code",
   "execution_count": null,
   "metadata": {},
   "outputs": [],
   "source": []
  },
  {
   "cell_type": "code",
   "execution_count": 18,
   "metadata": {},
   "outputs": [],
   "source": [
    "X_train, X_test, y_train, y_test = train_test_split(X,y,\n",
    "                                                    test_size = 0.3, \n",
    "                                                    shuffle=False)"
   ]
  },
  {
   "cell_type": "code",
   "execution_count": 19,
   "metadata": {},
   "outputs": [],
   "source": [
    "a_X = metron_arima.index\n",
    "a_y = metron_arima['NADAC_Per_Unit']\n",
    "a_X_train, a_X_test, a_y_train, a_y_test = train_test_split(X,y,\n",
    "                                                    test_size = 0.3, \n",
    "                                                    shuffle=False)"
   ]
  },
  {
   "cell_type": "code",
   "execution_count": null,
   "metadata": {},
   "outputs": [],
   "source": []
  },
  {
   "cell_type": "code",
   "execution_count": 20,
   "metadata": {},
   "outputs": [],
   "source": [
    "X_train = sm.add_constant(X_train)\n",
    "X_test = sm.add_constant(X_test)"
   ]
  },
  {
   "cell_type": "code",
   "execution_count": 21,
   "metadata": {},
   "outputs": [
    {
     "data": {
      "text/html": [
       "<div>\n",
       "<style scoped>\n",
       "    .dataframe tbody tr th:only-of-type {\n",
       "        vertical-align: middle;\n",
       "    }\n",
       "\n",
       "    .dataframe tbody tr th {\n",
       "        vertical-align: top;\n",
       "    }\n",
       "\n",
       "    .dataframe thead th {\n",
       "        text-align: right;\n",
       "    }\n",
       "</style>\n",
       "<table border=\"1\" class=\"dataframe\">\n",
       "  <thead>\n",
       "    <tr style=\"text-align: right;\">\n",
       "      <th></th>\n",
       "      <th>const</th>\n",
       "      <th>Type_RX</th>\n",
       "    </tr>\n",
       "    <tr>\n",
       "      <th>Effective_Date</th>\n",
       "      <th></th>\n",
       "      <th></th>\n",
       "    </tr>\n",
       "  </thead>\n",
       "  <tbody>\n",
       "    <tr>\n",
       "      <th>2015-12-23</th>\n",
       "      <td>1.0</td>\n",
       "      <td>0</td>\n",
       "    </tr>\n",
       "    <tr>\n",
       "      <th>2015-12-23</th>\n",
       "      <td>1.0</td>\n",
       "      <td>1</td>\n",
       "    </tr>\n",
       "    <tr>\n",
       "      <th>2015-12-23</th>\n",
       "      <td>1.0</td>\n",
       "      <td>1</td>\n",
       "    </tr>\n",
       "    <tr>\n",
       "      <th>2015-12-23</th>\n",
       "      <td>1.0</td>\n",
       "      <td>1</td>\n",
       "    </tr>\n",
       "    <tr>\n",
       "      <th>2015-12-23</th>\n",
       "      <td>1.0</td>\n",
       "      <td>1</td>\n",
       "    </tr>\n",
       "    <tr>\n",
       "      <th>...</th>\n",
       "      <td>...</td>\n",
       "      <td>...</td>\n",
       "    </tr>\n",
       "    <tr>\n",
       "      <th>2017-12-20</th>\n",
       "      <td>1.0</td>\n",
       "      <td>0</td>\n",
       "    </tr>\n",
       "    <tr>\n",
       "      <th>2017-12-20</th>\n",
       "      <td>1.0</td>\n",
       "      <td>1</td>\n",
       "    </tr>\n",
       "    <tr>\n",
       "      <th>2017-12-20</th>\n",
       "      <td>1.0</td>\n",
       "      <td>0</td>\n",
       "    </tr>\n",
       "    <tr>\n",
       "      <th>2017-12-20</th>\n",
       "      <td>1.0</td>\n",
       "      <td>0</td>\n",
       "    </tr>\n",
       "    <tr>\n",
       "      <th>2017-12-20</th>\n",
       "      <td>1.0</td>\n",
       "      <td>1</td>\n",
       "    </tr>\n",
       "  </tbody>\n",
       "</table>\n",
       "<p>1176 rows × 2 columns</p>\n",
       "</div>"
      ],
      "text/plain": [
       "                const  Type_RX\n",
       "Effective_Date                \n",
       "2015-12-23        1.0        0\n",
       "2015-12-23        1.0        1\n",
       "2015-12-23        1.0        1\n",
       "2015-12-23        1.0        1\n",
       "2015-12-23        1.0        1\n",
       "...               ...      ...\n",
       "2017-12-20        1.0        0\n",
       "2017-12-20        1.0        1\n",
       "2017-12-20        1.0        0\n",
       "2017-12-20        1.0        0\n",
       "2017-12-20        1.0        1\n",
       "\n",
       "[1176 rows x 2 columns]"
      ]
     },
     "execution_count": 21,
     "metadata": {},
     "output_type": "execute_result"
    }
   ],
   "source": [
    "X_train"
   ]
  },
  {
   "cell_type": "code",
   "execution_count": 22,
   "metadata": {},
   "outputs": [
    {
     "name": "stdout",
     "output_type": "stream",
     "text": [
      "                            OLS Regression Results                            \n",
      "==============================================================================\n",
      "Dep. Variable:         NADAC_Per_Unit   R-squared:                       0.000\n",
      "Model:                            OLS   Adj. R-squared:                 -0.001\n",
      "Method:                 Least Squares   F-statistic:                 3.755e-13\n",
      "Date:                Sun, 11 Oct 2020   Prob (F-statistic):               1.00\n",
      "Time:                        15:52:16   Log-Likelihood:                 1480.3\n",
      "No. Observations:                1176   AIC:                            -2957.\n",
      "Df Residuals:                    1174   BIC:                            -2947.\n",
      "Df Model:                           1                                         \n",
      "Covariance Type:            nonrobust                                         \n",
      "==============================================================================\n",
      "                 coef    std err          t      P>|t|      [0.025      0.975]\n",
      "------------------------------------------------------------------------------\n",
      "const          0.4129      0.003    132.907      0.000       0.407       0.419\n",
      "Type_RX    -8.451e-17      0.004  -2.08e-14      1.000      -0.008       0.008\n",
      "==============================================================================\n",
      "Omnibus:                      205.472   Durbin-Watson:                   0.004\n",
      "Prob(Omnibus):                  0.000   Jarque-Bera (JB):              329.081\n",
      "Skew:                          -1.295   Prob(JB):                     3.48e-72\n",
      "Kurtosis:                       2.916   Cond. No.                         2.86\n",
      "==============================================================================\n",
      "\n",
      "Notes:\n",
      "[1] Standard Errors assume that the covariance matrix of the errors is correctly specified.\n"
     ]
    }
   ],
   "source": [
    "lm = sm.OLS(y_train, X_train)\n",
    "lm_results = lm.fit()\n",
    "print(lm_results.summary())"
   ]
  },
  {
   "cell_type": "code",
   "execution_count": 23,
   "metadata": {},
   "outputs": [
    {
     "data": {
      "text/plain": [
       "Effective_Date\n",
       "2018-12-19    0.412944\n",
       "2018-12-19    0.412944\n",
       "2018-12-19    0.412944\n",
       "2018-12-19    0.412944\n",
       "2018-12-19    0.412944\n",
       "                ...   \n",
       "2020-08-19    0.412944\n",
       "2020-08-19    0.412944\n",
       "2020-08-19    0.412944\n",
       "2020-08-19    0.412944\n",
       "2020-08-19    0.412944\n",
       "Length: 504, dtype: float64"
      ]
     },
     "execution_count": 23,
     "metadata": {},
     "output_type": "execute_result"
    }
   ],
   "source": [
    "lm_results.predict(X_test)"
   ]
  },
  {
   "cell_type": "code",
   "execution_count": 24,
   "metadata": {},
   "outputs": [
    {
     "data": {
      "text/plain": [
       "-522.080807197126"
      ]
     },
     "execution_count": 24,
     "metadata": {},
     "output_type": "execute_result"
    }
   ],
   "source": [
    "r2_score(y_test, lm_results.predict(X_test))"
   ]
  },
  {
   "cell_type": "code",
   "execution_count": 25,
   "metadata": {},
   "outputs": [
    {
     "data": {
      "text/plain": [
       "0.2162415607460271"
      ]
     },
     "execution_count": 25,
     "metadata": {},
     "output_type": "execute_result"
    }
   ],
   "source": [
    "mean_squared_error(y_test, lm_results.predict(X_test), squared=False)"
   ]
  },
  {
   "cell_type": "code",
   "execution_count": 33,
   "metadata": {},
   "outputs": [
    {
     "data": {
      "image/png": "[encoded data removed]",
      "text/plain": [
       "<Figure size 1440x720 with 1 Axes>"
      ]
     },
     "metadata": {
      "needs_background": "light"
     },
     "output_type": "display_data"
    }
   ],
   "source": [
    "plt.figure(figsize=(20,10))\n",
    "\n",
    "# Plot training data.\n",
    "plt.plot(y_train.index, y_train.values, color = 'blue')\n",
    "\n",
    "# Plot testing data.\n",
    "plt.plot(y_test.index, y_test.values, color = 'orange')\n",
    "\n",
    "# Plot predicted test values.\n",
    "plt.plot(lm_results.predict(X_test), color = 'green')\n",
    "\n",
    "# Set label.\n",
    "plt.title(label = 'Predicting Metronidazole 500MG Tablet Price', fontsize=24)\n",
    "\n",
    "# Resize tick marks.\n",
    "plt.xticks(fontsize=20)\n",
    "plt.yticks(fontsize=20)\n",
    "plt.savefig('./images/predicting_price.jpg');"
   ]
  },
  {
   "cell_type": "code",
   "execution_count": 27,
   "metadata": {},
   "outputs": [
    {
     "data": {
      "text/plain": [
       "Test Statistic   -0.342415\n",
       "p-value           0.919279\n",
       "dtype: float64"
      ]
     },
     "execution_count": 27,
     "metadata": {},
     "output_type": "execute_result"
    }
   ],
   "source": [
    "def interpret_dftest(dftest):\n",
    "    dfoutput = pd.Series(dftest[0:2], index=['Test Statistic','p-value'])\n",
    "    return dfoutput\n",
    "\n",
    "interpret_dftest(adfuller(metron['NADAC_Per_Unit']))\n",
    "#the p value is 0.9 > 0.01 so we cannot accept that our data is stationary"
   ]
  },
  {
   "cell_type": "code",
   "execution_count": 28,
   "metadata": {},
   "outputs": [
    {
     "name": "stdout",
     "output_type": "stream",
     "text": [
      "Attempting to fit ARIMA(0, 1, 0)\n",
      "The AIC for ARIMA(0,1,0) is: -9479.239499822641\n",
      "Attempting to fit ARIMA(0, 1, 1)\n",
      "The AIC for ARIMA(0,1,1) is: -9477.24082687452\n",
      "Attempting to fit ARIMA(0, 1, 2)\n",
      "The AIC for ARIMA(0,1,2) is: -9475.24216074849\n",
      "Attempting to fit ARIMA(0, 1, 3)\n",
      "The AIC for ARIMA(0,1,3) is: -9473.243501512574\n",
      "Attempting to fit ARIMA(0, 1, 4)\n",
      "The AIC for ARIMA(0,1,4) is: -9471.244849235729\n",
      "Attempting to fit ARIMA(1, 1, 0)\n",
      "The AIC for ARIMA(1,1,0) is: -9477.240824046006\n",
      "Attempting to fit ARIMA(1, 1, 1)\n",
      "Attempting to fit ARIMA(1, 1, 2)\n",
      "Attempting to fit ARIMA(1, 1, 3)\n",
      "Attempting to fit ARIMA(1, 1, 4)\n",
      "Attempting to fit ARIMA(2, 1, 0)\n",
      "The AIC for ARIMA(2,1,0) is: -9475.242152209994\n",
      "Attempting to fit ARIMA(2, 1, 1)\n",
      "Attempting to fit ARIMA(2, 1, 2)\n",
      "Attempting to fit ARIMA(2, 1, 3)\n",
      "Attempting to fit ARIMA(2, 1, 4)\n",
      "Attempting to fit ARIMA(3, 1, 0)\n",
      "The AIC for ARIMA(3,1,0) is: -9473.243484378934\n",
      "Attempting to fit ARIMA(3, 1, 1)\n",
      "The AIC for ARIMA(3,1,1) is: -9471.24348577168\n",
      "Attempting to fit ARIMA(3, 1, 2)\n",
      "Attempting to fit ARIMA(3, 1, 3)\n",
      "Attempting to fit ARIMA(3, 1, 4)\n",
      "Attempting to fit ARIMA(4, 1, 0)\n",
      "The AIC for ARIMA(4,1,0) is: -9471.244820515501\n",
      "Attempting to fit ARIMA(4, 1, 1)\n",
      "Attempting to fit ARIMA(4, 1, 2)\n",
      "Attempting to fit ARIMA(4, 1, 3)\n",
      "Attempting to fit ARIMA(4, 1, 4)\n",
      "\n",
      "\n",
      "MODEL FINISHED!\n",
      "Our model that minimizes AIC on the training data is the ARIMA(0,1,0).\n",
      "This model has an AIC of -9479.239499822641.\n"
     ]
    }
   ],
   "source": [
    "from warnings import filterwarnings\n",
    "#following manual grid search from lesson 9.03\n",
    "filterwarnings('ignore')\n",
    "best_aic = 99 * (10 ** 20)\n",
    "best_p = 0\n",
    "best_q = 0 \n",
    "\n",
    "# Use nested for loop to iterate over values of p and q.\n",
    "for p in range(5):\n",
    "    for q in range(5):\n",
    "        \n",
    "        # Insert try and except statements.\n",
    "        try:\n",
    "            # Fitting an ARIMA(p, 1, q) model.\n",
    "            print(f'Attempting to fit ARIMA({p}, 1, {q})')\n",
    "            \n",
    "            # Instantiate ARIMA model.\n",
    "            arima = ARIMA(endog=a_y_train.astype(float).dropna(),\n",
    "                         order = (p, 1, q))\n",
    "            \n",
    "            # Fit ARIMA model.\n",
    "            model = arima.fit()\n",
    "\n",
    "            # Print out AIC for ARIMA(p, 1, q) model.\n",
    "            print(f'The AIC for ARIMA({p},1,{q}) is: {model.aic}')\n",
    "\n",
    "            # Is my current model's AIC better than our best_aic?\n",
    "            if model.aic < best_aic:\n",
    "                \n",
    "                \n",
    "                # If so, let's overwrite best_aic, best_p, and best_q.\n",
    "                best_aic = model.aic\n",
    "                best_p = p\n",
    "                best_q = q\n",
    "\n",
    "        except:\n",
    "            pass\n",
    "print()\n",
    "print()\n",
    "print('MODEL FINISHED!')\n",
    "print(f'Our model that minimizes AIC on the training data is the ARIMA({best_p},1,{best_q}).')\n",
    "print(f'This model has an AIC of {best_aic}.')"
   ]
  },
  {
   "cell_type": "code",
   "execution_count": 29,
   "metadata": {},
   "outputs": [
    {
     "data": {
      "text/plain": [
       "Timestamp('2018-12-19 00:00:00')"
      ]
     },
     "execution_count": 29,
     "metadata": {},
     "output_type": "execute_result"
    }
   ],
   "source": [
    "a_y_test.index[1]"
   ]
  },
  {
   "cell_type": "code",
   "execution_count": 30,
   "metadata": {},
   "outputs": [
    {
     "data": {
      "text/plain": [
       "Timestamp('2020-08-19 00:00:00')"
      ]
     },
     "execution_count": 30,
     "metadata": {},
     "output_type": "execute_result"
    }
   ],
   "source": [
    "a_y_test.index[-1]"
   ]
  },
  {
   "cell_type": "code",
   "execution_count": 31,
   "metadata": {},
   "outputs": [
    {
     "data": {
      "text/plain": [
       "(504,)"
      ]
     },
     "execution_count": 31,
     "metadata": {},
     "output_type": "execute_result"
    }
   ],
   "source": [
    "a_y_test.shape"
   ]
  },
  {
   "cell_type": "code",
   "execution_count": 32,
   "metadata": {},
   "outputs": [
    {
     "ename": "KeyError",
     "evalue": "'only integers, slices (`:`), ellipsis (`...`), numpy.newaxis (`None`) and integer or boolean arrays are valid indices'",
     "output_type": "error",
     "traceback": [
      "\u001b[1;31m---------------------------------------------------------------------------\u001b[0m",
      "\u001b[1;31mKeyError\u001b[0m                                  Traceback (most recent call last)",
      "\u001b[1;32m~\\anaconda3\\lib\\site-packages\\pandas\\core\\indexes\\base.py\u001b[0m in \u001b[0;36mget_loc\u001b[1;34m(self, key, method, tolerance)\u001b[0m\n\u001b[0;32m   2645\u001b[0m             \u001b[1;32mtry\u001b[0m\u001b[1;33m:\u001b[0m\u001b[1;33m\u001b[0m\u001b[1;33m\u001b[0m\u001b[0m\n\u001b[1;32m-> 2646\u001b[1;33m                 \u001b[1;32mreturn\u001b[0m \u001b[0mself\u001b[0m\u001b[1;33m.\u001b[0m\u001b[0m_engine\u001b[0m\u001b[1;33m.\u001b[0m\u001b[0mget_loc\u001b[0m\u001b[1;33m(\u001b[0m\u001b[0mkey\u001b[0m\u001b[1;33m)\u001b[0m\u001b[1;33m\u001b[0m\u001b[1;33m\u001b[0m\u001b[0m\n\u001b[0m\u001b[0;32m   2647\u001b[0m             \u001b[1;32mexcept\u001b[0m \u001b[0mKeyError\u001b[0m\u001b[1;33m:\u001b[0m\u001b[1;33m\u001b[0m\u001b[1;33m\u001b[0m\u001b[0m\n",
      "\u001b[1;32mpandas\\_libs\\index.pyx\u001b[0m in \u001b[0;36mpandas._libs.index.DatetimeEngine.get_loc\u001b[1;34m()\u001b[0m\n",
      "\u001b[1;32mpandas\\_libs\\index.pyx\u001b[0m in \u001b[0;36mpandas._libs.index.DatetimeEngine.get_loc\u001b[1;34m()\u001b[0m\n",
      "\u001b[1;32mpandas\\_libs\\index.pyx\u001b[0m in \u001b[0;36mpandas._libs.index.IndexEngine._get_loc_duplicates\u001b[1;34m()\u001b[0m\n",
      "\u001b[1;32mpandas\\_libs\\index_class_helper.pxi\u001b[0m in \u001b[0;36mpandas._libs.index.Int64Engine._maybe_get_bool_indexer\u001b[1;34m()\u001b[0m\n",
      "\u001b[1;31mKeyError\u001b[0m: 1545177600000000000",
      "\nDuring handling of the above exception, another exception occurred:\n",
      "\u001b[1;31mKeyError\u001b[0m                                  Traceback (most recent call last)",
      "\u001b[1;32m~\\anaconda3\\lib\\site-packages\\statsmodels\\tsa\\base\\tsa_model.py\u001b[0m in \u001b[0;36mget_index_label_loc\u001b[1;34m(key, index, row_labels)\u001b[0m\n\u001b[0;32m    223\u001b[0m             \u001b[1;32mif\u001b[0m \u001b[1;32mnot\u001b[0m \u001b[0misinstance\u001b[0m\u001b[1;33m(\u001b[0m\u001b[0mkey\u001b[0m\u001b[1;33m,\u001b[0m \u001b[1;33m(\u001b[0m\u001b[0mint\u001b[0m\u001b[1;33m,\u001b[0m \u001b[0mnp\u001b[0m\u001b[1;33m.\u001b[0m\u001b[0minteger\u001b[0m\u001b[1;33m)\u001b[0m\u001b[1;33m)\u001b[0m\u001b[1;33m:\u001b[0m\u001b[1;33m\u001b[0m\u001b[1;33m\u001b[0m\u001b[0m\n\u001b[1;32m--> 224\u001b[1;33m                 \u001b[0mloc\u001b[0m \u001b[1;33m=\u001b[0m \u001b[0mrow_labels\u001b[0m\u001b[1;33m.\u001b[0m\u001b[0mget_loc\u001b[0m\u001b[1;33m(\u001b[0m\u001b[0mkey\u001b[0m\u001b[1;33m)\u001b[0m\u001b[1;33m\u001b[0m\u001b[1;33m\u001b[0m\u001b[0m\n\u001b[0m\u001b[0;32m    225\u001b[0m             \u001b[1;32melse\u001b[0m\u001b[1;33m:\u001b[0m\u001b[1;33m\u001b[0m\u001b[1;33m\u001b[0m\u001b[0m\n",
      "\u001b[1;32m~\\anaconda3\\lib\\site-packages\\pandas\\core\\indexes\\datetimes.py\u001b[0m in \u001b[0;36mget_loc\u001b[1;34m(self, key, method, tolerance)\u001b[0m\n\u001b[0;32m    698\u001b[0m                 \u001b[0mkey\u001b[0m \u001b[1;33m=\u001b[0m \u001b[0mTimestamp\u001b[0m\u001b[1;33m(\u001b[0m\u001b[0mkey\u001b[0m\u001b[1;33m)\u001b[0m\u001b[1;33m.\u001b[0m\u001b[0mtz_convert\u001b[0m\u001b[1;33m(\u001b[0m\u001b[0mself\u001b[0m\u001b[1;33m.\u001b[0m\u001b[0mtz\u001b[0m\u001b[1;33m)\u001b[0m\u001b[1;33m\u001b[0m\u001b[1;33m\u001b[0m\u001b[0m\n\u001b[1;32m--> 699\u001b[1;33m             \u001b[1;32mreturn\u001b[0m \u001b[0mIndex\u001b[0m\u001b[1;33m.\u001b[0m\u001b[0mget_loc\u001b[0m\u001b[1;33m(\u001b[0m\u001b[0mself\u001b[0m\u001b[1;33m,\u001b[0m \u001b[0mkey\u001b[0m\u001b[1;33m,\u001b[0m \u001b[0mmethod\u001b[0m\u001b[1;33m,\u001b[0m \u001b[0mtolerance\u001b[0m\u001b[1;33m)\u001b[0m\u001b[1;33m\u001b[0m\u001b[1;33m\u001b[0m\u001b[0m\n\u001b[0m\u001b[0;32m    700\u001b[0m \u001b[1;33m\u001b[0m\u001b[0m\n",
      "\u001b[1;32m~\\anaconda3\\lib\\site-packages\\pandas\\core\\indexes\\base.py\u001b[0m in \u001b[0;36mget_loc\u001b[1;34m(self, key, method, tolerance)\u001b[0m\n\u001b[0;32m   2647\u001b[0m             \u001b[1;32mexcept\u001b[0m \u001b[0mKeyError\u001b[0m\u001b[1;33m:\u001b[0m\u001b[1;33m\u001b[0m\u001b[1;33m\u001b[0m\u001b[0m\n\u001b[1;32m-> 2648\u001b[1;33m                 \u001b[1;32mreturn\u001b[0m \u001b[0mself\u001b[0m\u001b[1;33m.\u001b[0m\u001b[0m_engine\u001b[0m\u001b[1;33m.\u001b[0m\u001b[0mget_loc\u001b[0m\u001b[1;33m(\u001b[0m\u001b[0mself\u001b[0m\u001b[1;33m.\u001b[0m\u001b[0m_maybe_cast_indexer\u001b[0m\u001b[1;33m(\u001b[0m\u001b[0mkey\u001b[0m\u001b[1;33m)\u001b[0m\u001b[1;33m)\u001b[0m\u001b[1;33m\u001b[0m\u001b[1;33m\u001b[0m\u001b[0m\n\u001b[0m\u001b[0;32m   2649\u001b[0m         \u001b[0mindexer\u001b[0m \u001b[1;33m=\u001b[0m \u001b[0mself\u001b[0m\u001b[1;33m.\u001b[0m\u001b[0mget_indexer\u001b[0m\u001b[1;33m(\u001b[0m\u001b[1;33m[\u001b[0m\u001b[0mkey\u001b[0m\u001b[1;33m]\u001b[0m\u001b[1;33m,\u001b[0m \u001b[0mmethod\u001b[0m\u001b[1;33m=\u001b[0m\u001b[0mmethod\u001b[0m\u001b[1;33m,\u001b[0m \u001b[0mtolerance\u001b[0m\u001b[1;33m=\u001b[0m\u001b[0mtolerance\u001b[0m\u001b[1;33m)\u001b[0m\u001b[1;33m\u001b[0m\u001b[1;33m\u001b[0m\u001b[0m\n",
      "\u001b[1;32mpandas\\_libs\\index.pyx\u001b[0m in \u001b[0;36mpandas._libs.index.DatetimeEngine.get_loc\u001b[1;34m()\u001b[0m\n",
      "\u001b[1;32mpandas\\_libs\\index.pyx\u001b[0m in \u001b[0;36mpandas._libs.index.DatetimeEngine.get_loc\u001b[1;34m()\u001b[0m\n",
      "\u001b[1;32mpandas\\_libs\\index.pyx\u001b[0m in \u001b[0;36mpandas._libs.index.IndexEngine._get_loc_duplicates\u001b[1;34m()\u001b[0m\n",
      "\u001b[1;32mpandas\\_libs\\index_class_helper.pxi\u001b[0m in \u001b[0;36mpandas._libs.index.Int64Engine._maybe_get_bool_indexer\u001b[1;34m()\u001b[0m\n",
      "\u001b[1;31mKeyError\u001b[0m: 1545177600000000000",
      "\nDuring handling of the above exception, another exception occurred:\n",
      "\u001b[1;31mKeyError\u001b[0m                                  Traceback (most recent call last)",
      "\u001b[1;32m<ipython-input-32-1d49a55e0400>\u001b[0m in \u001b[0;36m<module>\u001b[1;34m\u001b[0m\n\u001b[0;32m      6\u001b[0m preds = model.predict(params=arima.params,\n\u001b[0;32m      7\u001b[0m                      \u001b[0mstart\u001b[0m \u001b[1;33m=\u001b[0m \u001b[0ma_y_test\u001b[0m\u001b[1;33m.\u001b[0m\u001b[0mindex\u001b[0m\u001b[1;33m[\u001b[0m\u001b[1;36m0\u001b[0m\u001b[1;33m]\u001b[0m\u001b[1;33m,\u001b[0m\u001b[1;33m\u001b[0m\u001b[1;33m\u001b[0m\u001b[0m\n\u001b[1;32m----> 8\u001b[1;33m                      end = a_y_test.index[-1])\n\u001b[0m\u001b[0;32m      9\u001b[0m \u001b[1;33m\u001b[0m\u001b[0m\n\u001b[0;32m     10\u001b[0m \u001b[1;31m# Plot data.\u001b[0m\u001b[1;33m\u001b[0m\u001b[1;33m\u001b[0m\u001b[1;33m\u001b[0m\u001b[0m\n",
      "\u001b[1;32m~\\anaconda3\\lib\\site-packages\\statsmodels\\tsa\\arima_model.py\u001b[0m in \u001b[0;36mpredict\u001b[1;34m(self, params, start, end, exog, typ, dynamic)\u001b[0m\n\u001b[0;32m   1247\u001b[0m         \u001b[1;31m# go ahead and convert to an index for easier checking\u001b[0m\u001b[1;33m\u001b[0m\u001b[1;33m\u001b[0m\u001b[1;33m\u001b[0m\u001b[0m\n\u001b[0;32m   1248\u001b[0m         \u001b[1;32mif\u001b[0m \u001b[0misinstance\u001b[0m\u001b[1;33m(\u001b[0m\u001b[0mstart\u001b[0m\u001b[1;33m,\u001b[0m \u001b[1;33m(\u001b[0m\u001b[0mstr\u001b[0m\u001b[1;33m,\u001b[0m \u001b[0mdatetime\u001b[0m\u001b[1;33m)\u001b[0m\u001b[1;33m)\u001b[0m\u001b[1;33m:\u001b[0m\u001b[1;33m\u001b[0m\u001b[1;33m\u001b[0m\u001b[0m\n\u001b[1;32m-> 1249\u001b[1;33m             \u001b[0mstart\u001b[0m\u001b[1;33m,\u001b[0m \u001b[0m_\u001b[0m\u001b[1;33m,\u001b[0m \u001b[0m_\u001b[0m \u001b[1;33m=\u001b[0m \u001b[0mself\u001b[0m\u001b[1;33m.\u001b[0m\u001b[0m_get_index_label_loc\u001b[0m\u001b[1;33m(\u001b[0m\u001b[0mstart\u001b[0m\u001b[1;33m)\u001b[0m\u001b[1;33m\u001b[0m\u001b[1;33m\u001b[0m\u001b[0m\n\u001b[0m\u001b[0;32m   1250\u001b[0m             \u001b[1;32mif\u001b[0m \u001b[0misinstance\u001b[0m\u001b[1;33m(\u001b[0m\u001b[0mstart\u001b[0m\u001b[1;33m,\u001b[0m \u001b[0mslice\u001b[0m\u001b[1;33m)\u001b[0m\u001b[1;33m:\u001b[0m\u001b[1;33m\u001b[0m\u001b[1;33m\u001b[0m\u001b[0m\n\u001b[0;32m   1251\u001b[0m                 \u001b[0mstart\u001b[0m \u001b[1;33m=\u001b[0m \u001b[0mstart\u001b[0m\u001b[1;33m.\u001b[0m\u001b[0mstart\u001b[0m\u001b[1;33m\u001b[0m\u001b[1;33m\u001b[0m\u001b[0m\n",
      "\u001b[1;32m~\\anaconda3\\lib\\site-packages\\statsmodels\\tsa\\base\\tsa_model.py\u001b[0m in \u001b[0;36m_get_index_label_loc\u001b[1;34m(self, key, base_index)\u001b[0m\n\u001b[0;32m    677\u001b[0m         \u001b[1;32mif\u001b[0m \u001b[0mbase_index\u001b[0m \u001b[1;32mis\u001b[0m \u001b[1;32mNone\u001b[0m\u001b[1;33m:\u001b[0m\u001b[1;33m\u001b[0m\u001b[1;33m\u001b[0m\u001b[0m\n\u001b[0;32m    678\u001b[0m             \u001b[0mbase_index\u001b[0m \u001b[1;33m=\u001b[0m \u001b[0mself\u001b[0m\u001b[1;33m.\u001b[0m\u001b[0m_index\u001b[0m\u001b[1;33m\u001b[0m\u001b[1;33m\u001b[0m\u001b[0m\n\u001b[1;32m--> 679\u001b[1;33m         \u001b[1;32mreturn\u001b[0m \u001b[0mget_index_label_loc\u001b[0m\u001b[1;33m(\u001b[0m\u001b[0mkey\u001b[0m\u001b[1;33m,\u001b[0m \u001b[0mbase_index\u001b[0m\u001b[1;33m,\u001b[0m \u001b[0mself\u001b[0m\u001b[1;33m.\u001b[0m\u001b[0mdata\u001b[0m\u001b[1;33m.\u001b[0m\u001b[0mrow_labels\u001b[0m\u001b[1;33m)\u001b[0m\u001b[1;33m\u001b[0m\u001b[1;33m\u001b[0m\u001b[0m\n\u001b[0m\u001b[0;32m    680\u001b[0m \u001b[1;33m\u001b[0m\u001b[0m\n\u001b[0;32m    681\u001b[0m     \u001b[1;32mdef\u001b[0m \u001b[0m_get_prediction_index\u001b[0m\u001b[1;33m(\u001b[0m\u001b[0mself\u001b[0m\u001b[1;33m,\u001b[0m \u001b[0mstart\u001b[0m\u001b[1;33m,\u001b[0m \u001b[0mend\u001b[0m\u001b[1;33m,\u001b[0m \u001b[0mindex\u001b[0m\u001b[1;33m=\u001b[0m\u001b[1;32mNone\u001b[0m\u001b[1;33m,\u001b[0m \u001b[0msilent\u001b[0m\u001b[1;33m=\u001b[0m\u001b[1;32mFalse\u001b[0m\u001b[1;33m)\u001b[0m\u001b[1;33m:\u001b[0m\u001b[1;33m\u001b[0m\u001b[1;33m\u001b[0m\u001b[0m\n",
      "\u001b[1;32m~\\anaconda3\\lib\\site-packages\\statsmodels\\tsa\\base\\tsa_model.py\u001b[0m in \u001b[0;36mget_index_label_loc\u001b[1;34m(key, index, row_labels)\u001b[0m\n\u001b[0;32m    254\u001b[0m             \u001b[0mindex_was_expanded\u001b[0m \u001b[1;33m=\u001b[0m \u001b[1;32mFalse\u001b[0m\u001b[1;33m\u001b[0m\u001b[1;33m\u001b[0m\u001b[0m\n\u001b[0;32m    255\u001b[0m         \u001b[1;32mexcept\u001b[0m\u001b[1;33m:\u001b[0m\u001b[1;33m\u001b[0m\u001b[1;33m\u001b[0m\u001b[0m\n\u001b[1;32m--> 256\u001b[1;33m             \u001b[1;32mraise\u001b[0m \u001b[0me\u001b[0m\u001b[1;33m\u001b[0m\u001b[1;33m\u001b[0m\u001b[0m\n\u001b[0m\u001b[0;32m    257\u001b[0m     \u001b[1;32mreturn\u001b[0m \u001b[0mloc\u001b[0m\u001b[1;33m,\u001b[0m \u001b[0mindex\u001b[0m\u001b[1;33m,\u001b[0m \u001b[0mindex_was_expanded\u001b[0m\u001b[1;33m\u001b[0m\u001b[1;33m\u001b[0m\u001b[0m\n\u001b[0;32m    258\u001b[0m \u001b[1;33m\u001b[0m\u001b[0m\n",
      "\u001b[1;32m~\\anaconda3\\lib\\site-packages\\statsmodels\\tsa\\base\\tsa_model.py\u001b[0m in \u001b[0;36mget_index_label_loc\u001b[1;34m(key, index, row_labels)\u001b[0m\n\u001b[0;32m    218\u001b[0m     \"\"\"\n\u001b[0;32m    219\u001b[0m     \u001b[1;32mtry\u001b[0m\u001b[1;33m:\u001b[0m\u001b[1;33m\u001b[0m\u001b[1;33m\u001b[0m\u001b[0m\n\u001b[1;32m--> 220\u001b[1;33m         \u001b[0mloc\u001b[0m\u001b[1;33m,\u001b[0m \u001b[0mindex\u001b[0m\u001b[1;33m,\u001b[0m \u001b[0mindex_was_expanded\u001b[0m \u001b[1;33m=\u001b[0m \u001b[0mget_index_loc\u001b[0m\u001b[1;33m(\u001b[0m\u001b[0mkey\u001b[0m\u001b[1;33m,\u001b[0m \u001b[0mindex\u001b[0m\u001b[1;33m)\u001b[0m\u001b[1;33m\u001b[0m\u001b[1;33m\u001b[0m\u001b[0m\n\u001b[0m\u001b[0;32m    221\u001b[0m     \u001b[1;32mexcept\u001b[0m \u001b[0mKeyError\u001b[0m \u001b[1;32mas\u001b[0m \u001b[0me\u001b[0m\u001b[1;33m:\u001b[0m\u001b[1;33m\u001b[0m\u001b[1;33m\u001b[0m\u001b[0m\n\u001b[0;32m    222\u001b[0m         \u001b[1;32mtry\u001b[0m\u001b[1;33m:\u001b[0m\u001b[1;33m\u001b[0m\u001b[1;33m\u001b[0m\u001b[0m\n",
      "\u001b[1;32m~\\anaconda3\\lib\\site-packages\\statsmodels\\tsa\\base\\tsa_model.py\u001b[0m in \u001b[0;36mget_index_loc\u001b[1;34m(key, index)\u001b[0m\n\u001b[0;32m    168\u001b[0m         \u001b[1;31m#   (as of Pandas 0.22)\u001b[0m\u001b[1;33m\u001b[0m\u001b[1;33m\u001b[0m\u001b[1;33m\u001b[0m\u001b[0m\n\u001b[0;32m    169\u001b[0m         \u001b[1;32mexcept\u001b[0m \u001b[1;33m(\u001b[0m\u001b[0mIndexError\u001b[0m\u001b[1;33m,\u001b[0m \u001b[0mValueError\u001b[0m\u001b[1;33m)\u001b[0m \u001b[1;32mas\u001b[0m \u001b[0me\u001b[0m\u001b[1;33m:\u001b[0m\u001b[1;33m\u001b[0m\u001b[1;33m\u001b[0m\u001b[0m\n\u001b[1;32m--> 170\u001b[1;33m             \u001b[1;32mraise\u001b[0m \u001b[0mKeyError\u001b[0m\u001b[1;33m(\u001b[0m\u001b[0mstr\u001b[0m\u001b[1;33m(\u001b[0m\u001b[0me\u001b[0m\u001b[1;33m)\u001b[0m\u001b[1;33m)\u001b[0m\u001b[1;33m\u001b[0m\u001b[1;33m\u001b[0m\u001b[0m\n\u001b[0m\u001b[0;32m    171\u001b[0m         \u001b[0mloc\u001b[0m \u001b[1;33m=\u001b[0m \u001b[0mkey\u001b[0m\u001b[1;33m\u001b[0m\u001b[1;33m\u001b[0m\u001b[0m\n\u001b[0;32m    172\u001b[0m     \u001b[1;32melse\u001b[0m\u001b[1;33m:\u001b[0m\u001b[1;33m\u001b[0m\u001b[1;33m\u001b[0m\u001b[0m\n",
      "\u001b[1;31mKeyError\u001b[0m: 'only integers, slices (`:`), ellipsis (`...`), numpy.newaxis (`None`) and integer or boolean arrays are valid indices'"
     ]
    }
   ],
   "source": [
    "model = ARIMA(endog=a_y_train.astype(float).dropna(),\n",
    "             order = (0,1,0))\n",
    "\n",
    "arima = model.fit()\n",
    "\n",
    "preds = model.predict(params=arima.params,\n",
    "                     start = a_y_test.index[0],\n",
    "                     end = a_y_test.index[-1])\n",
    "#This keep bringing this error, I tried a lot of different things to fix it and none of them worked to index my y_test\n",
    "\n",
    "# Plot data.\n",
    "plt.figure(figsize=(10,6))\n",
    "\n",
    "# Plot training data.\n",
    "plt.plot(a_y_train.index, pd.DataFrame(a_y_train).diff(), color = 'blue')\n",
    "\n",
    "# Plot testing data.\n",
    "plt.plot(a_y_test.index, pd.DataFrame(a_y_test).diff(), color = 'orange')\n",
    "\n",
    "# Plot predicted test values.\n",
    "plt.plot(a_y_test.index, preds, color = 'green')\n",
    "\n",
    "plt.title(label = 'Metronidazole 500 MG Tablet Price with ARIMA Model', fontsize=16)\n",
    "plt.show();"
   ]
  },
  {
   "cell_type": "code",
   "execution_count": null,
   "metadata": {},
   "outputs": [],
   "source": []
  },
  {
   "cell_type": "code",
   "execution_count": null,
   "metadata": {},
   "outputs": [],
   "source": []
  },
  {
   "cell_type": "code",
   "execution_count": null,
   "metadata": {},
   "outputs": [],
   "source": []
  },
  {
   "cell_type": "code",
   "execution_count": null,
   "metadata": {},
   "outputs": [],
   "source": []
  },
  {
   "cell_type": "code",
   "execution_count": null,
   "metadata": {},
   "outputs": [],
   "source": []
  },
  {
   "cell_type": "code",
   "execution_count": null,
   "metadata": {},
   "outputs": [],
   "source": []
  },
  {
   "cell_type": "code",
   "execution_count": null,
   "metadata": {},
   "outputs": [],
   "source": [
    "plot_acf(losartan['NADAC_Per_Unit'], lags = 20);"
   ]
  },
  {
   "cell_type": "code",
   "execution_count": null,
   "metadata": {},
   "outputs": [],
   "source": [
    "plot_pacf(losartan['NADAC_Per_Unit'], lags = 20);"
   ]
  },
  {
   "cell_type": "code",
   "execution_count": null,
   "metadata": {},
   "outputs": [],
   "source": [
    "#losartan.drop(columns=['Corresponding_Generic_Drug_Effective_Date', 'Unnamed: 0', 'DF;Route'], inplace=True)\n",
    "features_lo =  losartan[['NDC Description','Pharmacy_Type_Indicator', 'Classification_for_Rate_Setting', 'dosage_form', 'route',\n",
    "           'Ingredient', 'Type']].copy()\n",
    "feature_dummies_lo = pd.get_dummies(features_lo, columns = ['NDC Description','Pharmacy_Type_Indicator', 'Classification_for_Rate_Setting', 'dosage_form', 'route',\n",
    "           'Ingredient', 'Type'], drop_first=True)\n",
    "X = feature_dummies_lo\n",
    "y = losartan['NADAC_Per_Unit']\n",
    "#seeing how well we can predict off of current data\n",
    "X_train, X_test, y_train, y_test = train_test_split(X,y,\n",
    "                                                    test_size = 0.2, shuffle=False)"
   ]
  },
  {
   "cell_type": "code",
   "execution_count": null,
   "metadata": {},
   "outputs": [],
   "source": [
    "X_train = sm.add_constant(X_train)\n",
    "X_test = sm.add_constant(X_test)"
   ]
  },
  {
   "cell_type": "code",
   "execution_count": null,
   "metadata": {},
   "outputs": [],
   "source": [
    "lm = sm.OLS(y_train, X_train)\n",
    "lm_results = lm.fit()\n",
    "print(lm_results.summary())"
   ]
  },
  {
   "cell_type": "code",
   "execution_count": null,
   "metadata": {},
   "outputs": [],
   "source": [
    "r2_score(y_test, lm_results.predict(X_test))"
   ]
  },
  {
   "cell_type": "code",
   "execution_count": null,
   "metadata": {},
   "outputs": [],
   "source": [
    "mean_squared_error(y_test, lm_results.predict(X_test), squared=False)"
   ]
  },
  {
   "cell_type": "code",
   "execution_count": null,
   "metadata": {},
   "outputs": [],
   "source": [
    "plt.figure(figsize=(20,10))\n",
    "\n",
    "# Plot training data.\n",
    "plt.plot(y_train.index, y_train.values, color = 'blue')\n",
    "\n",
    "# Plot testing data.\n",
    "plt.plot(y_test.index, y_test.values, color = 'orange')\n",
    "\n",
    "# Plot predicted test values.\n",
    "plt.plot(lm_results.predict(X_test), color = 'green')\n",
    "\n",
    "# Set label.\n",
    "plt.title(label = 'Predicting Metronidazole 500MG Tablet Price', fontsize=24)\n",
    "\n",
    "# Resize tick marks.\n",
    "plt.xticks(fontsize=20)\n",
    "plt.yticks(fontsize=20);"
   ]
  },
  {
   "cell_type": "code",
   "execution_count": null,
   "metadata": {},
   "outputs": [],
   "source": [
    "#This is something I plan to re-visit now that I will have free time "
   ]
  }
 ],
 "metadata": {
  "kernelspec": {
   "display_name": "Python 3",
   "language": "python",
   "name": "python3"
  },
  "language_info": {
   "codemirror_mode": {
    "name": "ipython",
    "version": 3
   },
   "file_extension": ".py",
   "mimetype": "text/x-python",
   "name": "python",
   "nbconvert_exporter": "python",
   "pygments_lexer": "ipython3",
   "version": "3.7.6"
  }
 },
 "nbformat": 4,
 "nbformat_minor": 4
}
