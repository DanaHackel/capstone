{
 "cells": [
  {
   "cell_type": "markdown",
   "metadata": {},
   "source": [
    "## Project:\n",
    "Predicting Drug Costs"
   ]
  },
  {
   "cell_type": "markdown",
   "metadata": {},
   "source": [
    "### Problem Statement (can be edited as needed):\n",
    "***I have thought about my problem statement and followed the SMART goal structure. I plan to edit this after my 1:1 if Kelly and I determine something is a better option.***\n",
    "\n",
    "I will use National Average Drug Acquisition Cost (NADAC) data and Drug Product and National Drug Code (NDC) data from openFDA to build a Multiple Linear Regression model that predicts drug price values. Specifically, I would like to use active ingredients, mechanisms of action, route of administration, and drug class to predict price. I think RMSE will be the best way to assess model performance (similar to how we measured performance?) For the second part of my project, I plan to use Tableau to create some visuals to illustrate trends in drug pricing and build a \"fire\" dashboard  which can be published somewhere like a github website (or just straight on Tableau Public? I'm still understanding that). This information can be used by pharmecutical companies who are developing new drugs and determining the price for it. It can also be used by insurance companies to potentially help them determine how much to reimburse for various drugs.\n",
    "\n",
    "A stretch goal for this project is to do some time series analysis with specific drugs- there are some possilbe dates I can try to convert to datetime and some drugs have 355 dates with varying price points"
   ]
  },
  {
   "cell_type": "markdown",
   "metadata": {},
   "source": [
    "### Proposed Methods and Models:\n",
    "Multiple Linear Regression Model  \n",
    "K-means Cluster? (I'm writing this before my major EDA - may not be appropriate)  \n",
    "Tableau for visuals  \n",
    "Github Website for visual dashboard"
   ]
  },
  {
   "cell_type": "markdown",
   "metadata": {},
   "source": [
    "### Risks and Assumptions:\n",
    "Possible issue - combining the two df's  \n",
    "Risks:  \n",
    "* It might be hard to control for all of the factors that go into drug price\n",
    "* Biggest issue right now - if I need the NDC number, it does not exactly match up in both data frames. I can either use the API I found on RxNav or hard code it."
   ]
  },
  {
   "cell_type": "markdown",
   "metadata": {},
   "source": [
    "### Initial Goals and Success Criteria (edited as needed):\n",
    "* EDA to make sure I have enough data and everything matches up\n",
    "* Develop MLR model (maybe a few other regression models like Random Forrest) and determine the best parameters to develop the best RMSE score possible\n",
    "* Use K Means cluster to determine trends\n",
    "* Use Tableau to make visuals\n"
   ]
  },
  {
   "cell_type": "markdown",
   "metadata": {},
   "source": [
    "### Data Sources:\n",
    "Downloaded data from openFDA (API was not very great, but all of the data I needed/ wanted was able to be downloaded  \n",
    "NADAC Data from healthdata.gov \n",
    "Also playing with this to get NDC numbers to match a name to the National Drug Code (If I even need that info)"
   ]
  },
  {
   "cell_type": "markdown",
   "metadata": {},
   "source": [
    "### Preliminary EDA:\n",
    "Please see 'eda_ndc', 'eda_nadac', and 'eda_drug_product' notebooks in this repo"
   ]
  },
  {
   "cell_type": "code",
   "execution_count": null,
   "metadata": {},
   "outputs": [],
   "source": []
  }
 ],
 "metadata": {
  "kernelspec": {
   "display_name": "Python 3",
   "language": "python",
   "name": "python3"
  },
  "language_info": {
   "codemirror_mode": {
    "name": "ipython",
    "version": 3
   },
   "file_extension": ".py",
   "mimetype": "text/x-python",
   "name": "python",
   "nbconvert_exporter": "python",
   "pygments_lexer": "ipython3",
   "version": "3.7.6"
  }
 },
 "nbformat": 4,
 "nbformat_minor": 4
}
