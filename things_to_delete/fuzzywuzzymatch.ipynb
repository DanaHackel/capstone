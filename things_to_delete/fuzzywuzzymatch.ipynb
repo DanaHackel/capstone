{
 "cells": [
  {
   "cell_type": "code",
   "execution_count": 1,
   "metadata": {},
   "outputs": [],
   "source": [
    "#!pip install fuzzywuzzy"
   ]
  },
  {
   "cell_type": "code",
   "execution_count": 1,
   "metadata": {},
   "outputs": [],
   "source": [
    "import pandas as pd\n",
    "import numpy as np\n",
    "import fuzzywuzzy as fuzzy"
   ]
  },
  {
   "cell_type": "code",
   "execution_count": 2,
   "metadata": {},
   "outputs": [],
   "source": [
    "nadac = pd.read_csv('data/nadac_no_repeats.csv')\n",
    "ndc = pd.read_csv('data/ndc_df.csv')"
   ]
  },
  {
   "cell_type": "code",
   "execution_count": 3,
   "metadata": {},
   "outputs": [
    {
     "data": {
      "text/html": [
       "<div>\n",
       "<style scoped>\n",
       "    .dataframe tbody tr th:only-of-type {\n",
       "        vertical-align: middle;\n",
       "    }\n",
       "\n",
       "    .dataframe tbody tr th {\n",
       "        vertical-align: top;\n",
       "    }\n",
       "\n",
       "    .dataframe thead th {\n",
       "        text-align: right;\n",
       "    }\n",
       "</style>\n",
       "<table border=\"1\" class=\"dataframe\">\n",
       "  <thead>\n",
       "    <tr style=\"text-align: right;\">\n",
       "      <th></th>\n",
       "      <th>Unnamed: 0</th>\n",
       "      <th>NDC Description</th>\n",
       "      <th>NDC</th>\n",
       "      <th>NADAC_Per_Unit</th>\n",
       "      <th>Effective_Date</th>\n",
       "      <th>Pricing_Unit</th>\n",
       "      <th>Pharmacy_Type_Indicator</th>\n",
       "      <th>OTC</th>\n",
       "      <th>Explanation_Code</th>\n",
       "      <th>Classification_for_Rate_Setting</th>\n",
       "      <th>Corresponding_Generic_Drug_NADAC_Per_Unit</th>\n",
       "      <th>Corresponding_Generic_Drug_Effective_Date</th>\n",
       "      <th>As of Date</th>\n",
       "    </tr>\n",
       "  </thead>\n",
       "  <tbody>\n",
       "    <tr>\n",
       "      <th>0</th>\n",
       "      <td>152</td>\n",
       "      <td>OLANZAPINE ODT 20 MG TABLET</td>\n",
       "      <td>65862065903</td>\n",
       "      <td>4.12341</td>\n",
       "      <td>12/23/2015</td>\n",
       "      <td>EA</td>\n",
       "      <td>C/I</td>\n",
       "      <td>N</td>\n",
       "      <td>1</td>\n",
       "      <td>G</td>\n",
       "      <td>NaN</td>\n",
       "      <td>NaN</td>\n",
       "      <td>12/30/2015</td>\n",
       "    </tr>\n",
       "    <tr>\n",
       "      <th>1</th>\n",
       "      <td>213</td>\n",
       "      <td>NYSTATIN 100,000 UNIT/GM POWD</td>\n",
       "      <td>904645602</td>\n",
       "      <td>0.60225</td>\n",
       "      <td>12/23/2015</td>\n",
       "      <td>GM</td>\n",
       "      <td>C/I</td>\n",
       "      <td>N</td>\n",
       "      <td>1, 5</td>\n",
       "      <td>G</td>\n",
       "      <td>NaN</td>\n",
       "      <td>NaN</td>\n",
       "      <td>12/30/2015</td>\n",
       "    </tr>\n",
       "    <tr>\n",
       "      <th>2</th>\n",
       "      <td>298</td>\n",
       "      <td>OLANZAPINE 10 MG TABLET</td>\n",
       "      <td>904637661</td>\n",
       "      <td>0.22020</td>\n",
       "      <td>12/23/2015</td>\n",
       "      <td>EA</td>\n",
       "      <td>C/I</td>\n",
       "      <td>N</td>\n",
       "      <td>1</td>\n",
       "      <td>G</td>\n",
       "      <td>NaN</td>\n",
       "      <td>NaN</td>\n",
       "      <td>12/30/2015</td>\n",
       "    </tr>\n",
       "    <tr>\n",
       "      <th>3</th>\n",
       "      <td>575</td>\n",
       "      <td>CELECOXIB 50 MG CAPSULE</td>\n",
       "      <td>13811065860</td>\n",
       "      <td>0.51850</td>\n",
       "      <td>11/11/2015</td>\n",
       "      <td>EA</td>\n",
       "      <td>C/I</td>\n",
       "      <td>N</td>\n",
       "      <td>4</td>\n",
       "      <td>G</td>\n",
       "      <td>NaN</td>\n",
       "      <td>NaN</td>\n",
       "      <td>12/30/2015</td>\n",
       "    </tr>\n",
       "    <tr>\n",
       "      <th>4</th>\n",
       "      <td>1168</td>\n",
       "      <td>LISINOPRIL 20 MG TABLET</td>\n",
       "      <td>51079098319</td>\n",
       "      <td>0.02633</td>\n",
       "      <td>12/17/2014</td>\n",
       "      <td>EA</td>\n",
       "      <td>C/I</td>\n",
       "      <td>N</td>\n",
       "      <td>1</td>\n",
       "      <td>G</td>\n",
       "      <td>NaN</td>\n",
       "      <td>NaN</td>\n",
       "      <td>12/31/2014</td>\n",
       "    </tr>\n",
       "  </tbody>\n",
       "</table>\n",
       "</div>"
      ],
      "text/plain": [
       "   Unnamed: 0                NDC Description          NDC  NADAC_Per_Unit  \\\n",
       "0         152    OLANZAPINE ODT 20 MG TABLET  65862065903         4.12341   \n",
       "1         213  NYSTATIN 100,000 UNIT/GM POWD    904645602         0.60225   \n",
       "2         298        OLANZAPINE 10 MG TABLET    904637661         0.22020   \n",
       "3         575        CELECOXIB 50 MG CAPSULE  13811065860         0.51850   \n",
       "4        1168        LISINOPRIL 20 MG TABLET  51079098319         0.02633   \n",
       "\n",
       "  Effective_Date Pricing_Unit Pharmacy_Type_Indicator OTC Explanation_Code  \\\n",
       "0     12/23/2015           EA                     C/I   N                1   \n",
       "1     12/23/2015           GM                     C/I   N             1, 5   \n",
       "2     12/23/2015           EA                     C/I   N                1   \n",
       "3     11/11/2015           EA                     C/I   N                4   \n",
       "4     12/17/2014           EA                     C/I   N                1   \n",
       "\n",
       "  Classification_for_Rate_Setting  Corresponding_Generic_Drug_NADAC_Per_Unit  \\\n",
       "0                               G                                        NaN   \n",
       "1                               G                                        NaN   \n",
       "2                               G                                        NaN   \n",
       "3                               G                                        NaN   \n",
       "4                               G                                        NaN   \n",
       "\n",
       "  Corresponding_Generic_Drug_Effective_Date  As of Date  \n",
       "0                                       NaN  12/30/2015  \n",
       "1                                       NaN  12/30/2015  \n",
       "2                                       NaN  12/30/2015  \n",
       "3                                       NaN  12/30/2015  \n",
       "4                                       NaN  12/31/2014  "
      ]
     },
     "execution_count": 3,
     "metadata": {},
     "output_type": "execute_result"
    }
   ],
   "source": [
    "nadac.head()"
   ]
  },
  {
   "cell_type": "code",
   "execution_count": 4,
   "metadata": {},
   "outputs": [
    {
     "data": {
      "text/plain": [
       "Index(['Unnamed: 0', 'NDC Description', 'NDC', 'NADAC_Per_Unit',\n",
       "       'Effective_Date', 'Pricing_Unit', 'Pharmacy_Type_Indicator', 'OTC',\n",
       "       'Explanation_Code', 'Classification_for_Rate_Setting',\n",
       "       'Corresponding_Generic_Drug_NADAC_Per_Unit',\n",
       "       'Corresponding_Generic_Drug_Effective_Date', 'As of Date'],\n",
       "      dtype='object')"
      ]
     },
     "execution_count": 4,
     "metadata": {},
     "output_type": "execute_result"
    }
   ],
   "source": [
    "nadac.columns"
   ]
  },
  {
   "cell_type": "code",
   "execution_count": 5,
   "metadata": {},
   "outputs": [
    {
     "data": {
      "text/plain": [
       "Unnamed: 0                                     int64\n",
       "NDC Description                               object\n",
       "NDC                                            int64\n",
       "NADAC_Per_Unit                               float64\n",
       "Effective_Date                                object\n",
       "Pricing_Unit                                  object\n",
       "Pharmacy_Type_Indicator                       object\n",
       "OTC                                           object\n",
       "Explanation_Code                              object\n",
       "Classification_for_Rate_Setting               object\n",
       "Corresponding_Generic_Drug_NADAC_Per_Unit    float64\n",
       "Corresponding_Generic_Drug_Effective_Date     object\n",
       "As of Date                                    object\n",
       "dtype: object"
      ]
     },
     "execution_count": 5,
     "metadata": {},
     "output_type": "execute_result"
    }
   ],
   "source": [
    "nadac.dtypes"
   ]
  },
  {
   "cell_type": "code",
   "execution_count": 6,
   "metadata": {},
   "outputs": [
    {
     "data": {
      "text/plain": [
       "<bound method Series.unique of 68016025594    1\n",
       "378141877      1\n",
       "54418625       1\n",
       "228306111      1\n",
       "27241004221    1\n",
       "              ..\n",
       "603388522      1\n",
       "65862047505    1\n",
       "65862029935    1\n",
       "173076100      1\n",
       "115148801      1\n",
       "Name: NDC, Length: 43222, dtype: int64>"
      ]
     },
     "execution_count": 6,
     "metadata": {},
     "output_type": "execute_result"
    }
   ],
   "source": [
    "nadac['NDC'].value_counts().unique"
   ]
  },
  {
   "cell_type": "code",
   "execution_count": 7,
   "metadata": {},
   "outputs": [
    {
     "data": {
      "text/plain": [
       "(43222, 13)"
      ]
     },
     "execution_count": 7,
     "metadata": {},
     "output_type": "execute_result"
    }
   ],
   "source": [
    "nadac.shape"
   ]
  },
  {
   "cell_type": "code",
   "execution_count": 8,
   "metadata": {},
   "outputs": [
    {
     "name": "stdout",
     "output_type": "stream",
     "text": [
      "Unique number of NDCs in the NADAC dataframe: 43222\n"
     ]
    }
   ],
   "source": [
    "nadac_ndc = list(nadac['NDC'].unique())\n",
    "print(f'Unique number of NDCs in the NADAC dataframe: {len(nadac_ndc)}')"
   ]
  },
  {
   "cell_type": "code",
   "execution_count": 10,
   "metadata": {},
   "outputs": [
    {
     "data": {
      "text/plain": [
       "Index(['Unnamed: 0', 'marketing_start_date', 'product_type', 'product_id',\n",
       "       'marketing_category', 'route', 'generic_name', 'openfda', 'brand_name',\n",
       "       'brand_name_base', 'labeler_name', 'packaging', 'active_ingredients',\n",
       "       'product_ndc', 'finished', 'spl_id', 'application_number',\n",
       "       'listing_expiration_date', 'dosage_form', 'pharm_class',\n",
       "       'brand_name_suffix', 'marketing_end_date', 'dea_schedule'],\n",
       "      dtype='object')"
      ]
     },
     "execution_count": 10,
     "metadata": {},
     "output_type": "execute_result"
    }
   ],
   "source": [
    "ndc.columns"
   ]
  },
  {
   "cell_type": "code",
   "execution_count": 9,
   "metadata": {},
   "outputs": [
    {
     "data": {
      "text/plain": [
       "<bound method Series.unique of 65923-003     1\n",
       "0615-2574     1\n",
       "65923-585     1\n",
       "69231-027     1\n",
       "50396-7530    1\n",
       "             ..\n",
       "0591-2044     1\n",
       "73097-013     1\n",
       "24201-201     1\n",
       "60913-051     1\n",
       "56136-366     1\n",
       "Name: product_ndc, Length: 128522, dtype: int64>"
      ]
     },
     "execution_count": 9,
     "metadata": {},
     "output_type": "execute_result"
    }
   ],
   "source": [
    "ndc['product_ndc'].value_counts().unique"
   ]
  },
  {
   "cell_type": "code",
   "execution_count": 10,
   "metadata": {},
   "outputs": [
    {
     "name": "stdout",
     "output_type": "stream",
     "text": [
      "Unique number of NDCs in the NDC dataframe: 128522\n"
     ]
    }
   ],
   "source": [
    "ndc_ndc = list(ndc['product_ndc'].unique())\n",
    "print(f'Unique number of NDCs in the NDC dataframe: {len(ndc_ndc)}')"
   ]
  },
  {
   "cell_type": "code",
   "execution_count": null,
   "metadata": {},
   "outputs": [],
   "source": [
    "%%time\n",
    "from fuzzywuzzy import fuzz\n",
    "from fuzzywuzzy import process\n",
    "from collections import defaultdict\n",
    "\n",
    "\n",
    "ndc_matches = {}\n",
    "for nadac_num in nadac_ndc:\n",
    "    for ndc_num in ndc_ndc:\n",
    "        score = fuzz.token_sort_ratio(nadac_num, ndc_num)\n",
    "        if score > 85:\n",
    "            ndc_matches[nadac_num] = ndc_num\n",
    "        else:\n",
    "            continue"
   ]
  },
  {
   "cell_type": "code",
   "execution_count": null,
   "metadata": {},
   "outputs": [],
   "source": [
    "len(ndc_matches.keys())"
   ]
  },
  {
   "cell_type": "code",
   "execution_count": null,
   "metadata": {},
   "outputs": [],
   "source": [
    "#ndc_matches\n",
    "nadac.shape"
   ]
  },
  {
   "cell_type": "code",
   "execution_count": null,
   "metadata": {},
   "outputs": [],
   "source": [
    "ndc.shape"
   ]
  },
  {
   "cell_type": "code",
   "execution_count": 17,
   "metadata": {},
   "outputs": [],
   "source": [
    "#Only got 198 matches after running for over 24 hours - need to find a faster way!"
   ]
  },
  {
   "cell_type": "code",
   "execution_count": 27,
   "metadata": {},
   "outputs": [
    {
     "data": {
      "text/plain": [
       "dict_keys([60505026101])"
      ]
     },
     "execution_count": 27,
     "metadata": {},
     "output_type": "execute_result"
    }
   ],
   "source": [
    "ndc_matches.keys()"
   ]
  },
  {
   "cell_type": "code",
   "execution_count": 28,
   "metadata": {},
   "outputs": [
    {
     "data": {
      "text/html": [
       "<div>\n",
       "<style scoped>\n",
       "    .dataframe tbody tr th:only-of-type {\n",
       "        vertical-align: middle;\n",
       "    }\n",
       "\n",
       "    .dataframe tbody tr th {\n",
       "        vertical-align: top;\n",
       "    }\n",
       "\n",
       "    .dataframe thead th {\n",
       "        text-align: right;\n",
       "    }\n",
       "</style>\n",
       "<table border=\"1\" class=\"dataframe\">\n",
       "  <thead>\n",
       "    <tr style=\"text-align: right;\">\n",
       "      <th></th>\n",
       "      <th>Unnamed: 0</th>\n",
       "      <th>NDC Description</th>\n",
       "      <th>NDC</th>\n",
       "      <th>NADAC_Per_Unit</th>\n",
       "      <th>Effective_Date</th>\n",
       "      <th>Pricing_Unit</th>\n",
       "      <th>Pharmacy_Type_Indicator</th>\n",
       "      <th>OTC</th>\n",
       "      <th>Explanation_Code</th>\n",
       "      <th>Classification_for_Rate_Setting</th>\n",
       "      <th>Corresponding_Generic_Drug_NADAC_Per_Unit</th>\n",
       "      <th>Corresponding_Generic_Drug_Effective_Date</th>\n",
       "      <th>As of Date</th>\n",
       "    </tr>\n",
       "  </thead>\n",
       "  <tbody>\n",
       "    <tr>\n",
       "      <th>133</th>\n",
       "      <td>108671</td>\n",
       "      <td>BENAZEPRIL-HYDROCHLOROTHIAZIDE 5-6.25 MG TAB</td>\n",
       "      <td>60505026101</td>\n",
       "      <td>1.48708</td>\n",
       "      <td>07/22/2015</td>\n",
       "      <td>EA</td>\n",
       "      <td>C/I</td>\n",
       "      <td>N</td>\n",
       "      <td>4</td>\n",
       "      <td>G</td>\n",
       "      <td>NaN</td>\n",
       "      <td>NaN</td>\n",
       "      <td>12/30/2015</td>\n",
       "    </tr>\n",
       "  </tbody>\n",
       "</table>\n",
       "</div>"
      ],
      "text/plain": [
       "     Unnamed: 0                               NDC Description          NDC  \\\n",
       "133      108671  BENAZEPRIL-HYDROCHLOROTHIAZIDE 5-6.25 MG TAB  60505026101   \n",
       "\n",
       "     NADAC_Per_Unit Effective_Date Pricing_Unit Pharmacy_Type_Indicator OTC  \\\n",
       "133         1.48708     07/22/2015           EA                     C/I   N   \n",
       "\n",
       "    Explanation_Code Classification_for_Rate_Setting  \\\n",
       "133                4                               G   \n",
       "\n",
       "     Corresponding_Generic_Drug_NADAC_Per_Unit  \\\n",
       "133                                        NaN   \n",
       "\n",
       "    Corresponding_Generic_Drug_Effective_Date  As of Date  \n",
       "133                                       NaN  12/30/2015  "
      ]
     },
     "execution_count": 28,
     "metadata": {},
     "output_type": "execute_result"
    }
   ],
   "source": [
    "nadac[nadac['NDC'] == 60505026101]"
   ]
  },
  {
   "cell_type": "code",
   "execution_count": 20,
   "metadata": {},
   "outputs": [
    {
     "data": {
      "text/plain": [
       "'60505-6101'"
      ]
     },
     "execution_count": 20,
     "metadata": {},
     "output_type": "execute_result"
    }
   ],
   "source": [
    "ndc_matches[60505026101]"
   ]
  },
  {
   "cell_type": "code",
   "execution_count": 21,
   "metadata": {},
   "outputs": [
    {
     "data": {
      "text/plain": [
       "Index(['Unnamed: 0', 'marketing_start_date', 'product_type', 'product_id',\n",
       "       'marketing_category', 'route', 'generic_name', 'openfda', 'brand_name',\n",
       "       'brand_name_base', 'labeler_name', 'packaging', 'active_ingredients',\n",
       "       'product_ndc', 'finished', 'spl_id', 'application_number',\n",
       "       'listing_expiration_date', 'dosage_form', 'pharm_class',\n",
       "       'brand_name_suffix', 'marketing_end_date', 'dea_schedule'],\n",
       "      dtype='object')"
      ]
     },
     "execution_count": 21,
     "metadata": {},
     "output_type": "execute_result"
    }
   ],
   "source": [
    "ndc.columns"
   ]
  },
  {
   "cell_type": "code",
   "execution_count": 22,
   "metadata": {},
   "outputs": [
    {
     "data": {
      "text/html": [
       "<div>\n",
       "<style scoped>\n",
       "    .dataframe tbody tr th:only-of-type {\n",
       "        vertical-align: middle;\n",
       "    }\n",
       "\n",
       "    .dataframe tbody tr th {\n",
       "        vertical-align: top;\n",
       "    }\n",
       "\n",
       "    .dataframe thead th {\n",
       "        text-align: right;\n",
       "    }\n",
       "</style>\n",
       "<table border=\"1\" class=\"dataframe\">\n",
       "  <thead>\n",
       "    <tr style=\"text-align: right;\">\n",
       "      <th></th>\n",
       "      <th>Unnamed: 0</th>\n",
       "      <th>marketing_start_date</th>\n",
       "      <th>product_type</th>\n",
       "      <th>product_id</th>\n",
       "      <th>marketing_category</th>\n",
       "      <th>route</th>\n",
       "      <th>generic_name</th>\n",
       "      <th>openfda</th>\n",
       "      <th>brand_name</th>\n",
       "      <th>brand_name_base</th>\n",
       "      <th>...</th>\n",
       "      <th>product_ndc</th>\n",
       "      <th>finished</th>\n",
       "      <th>spl_id</th>\n",
       "      <th>application_number</th>\n",
       "      <th>listing_expiration_date</th>\n",
       "      <th>dosage_form</th>\n",
       "      <th>pharm_class</th>\n",
       "      <th>brand_name_suffix</th>\n",
       "      <th>marketing_end_date</th>\n",
       "      <th>dea_schedule</th>\n",
       "    </tr>\n",
       "  </thead>\n",
       "  <tbody>\n",
       "    <tr>\n",
       "      <th>47121</th>\n",
       "      <td>48207</td>\n",
       "      <td>20170717</td>\n",
       "      <td>HUMAN PRESCRIPTION DRUG</td>\n",
       "      <td>60505-6101_e1032ac4-affd-767b-4960-b26ecbaab80f</td>\n",
       "      <td>ANDA</td>\n",
       "      <td>['INTRAVENOUS']</td>\n",
       "      <td>bivalirudin</td>\n",
       "      <td>{'spl_set_id': ['3319d1ad-acaa-37dd-94cf-9c141...</td>\n",
       "      <td>Bivalirudin</td>\n",
       "      <td>Bivalirudin</td>\n",
       "      <td>...</td>\n",
       "      <td>60505-6101</td>\n",
       "      <td>True</td>\n",
       "      <td>e1032ac4-affd-767b-4960-b26ecbaab80f</td>\n",
       "      <td>ANDA204876</td>\n",
       "      <td>NaN</td>\n",
       "      <td>INJECTION, POWDER, LYOPHILIZED, FOR SOLUTION</td>\n",
       "      <td>['Anti-coagulant [EPC]', 'Direct Thrombin Inhi...</td>\n",
       "      <td>NaN</td>\n",
       "      <td>20210301.0</td>\n",
       "      <td>NaN</td>\n",
       "    </tr>\n",
       "  </tbody>\n",
       "</table>\n",
       "<p>1 rows × 23 columns</p>\n",
       "</div>"
      ],
      "text/plain": [
       "       Unnamed: 0  marketing_start_date             product_type  \\\n",
       "47121       48207              20170717  HUMAN PRESCRIPTION DRUG   \n",
       "\n",
       "                                            product_id marketing_category  \\\n",
       "47121  60505-6101_e1032ac4-affd-767b-4960-b26ecbaab80f               ANDA   \n",
       "\n",
       "                 route generic_name  \\\n",
       "47121  ['INTRAVENOUS']  bivalirudin   \n",
       "\n",
       "                                                 openfda   brand_name  \\\n",
       "47121  {'spl_set_id': ['3319d1ad-acaa-37dd-94cf-9c141...  Bivalirudin   \n",
       "\n",
       "      brand_name_base  ... product_ndc finished  \\\n",
       "47121     Bivalirudin  ...  60505-6101     True   \n",
       "\n",
       "                                     spl_id application_number  \\\n",
       "47121  e1032ac4-affd-767b-4960-b26ecbaab80f         ANDA204876   \n",
       "\n",
       "       listing_expiration_date                                   dosage_form  \\\n",
       "47121                      NaN  INJECTION, POWDER, LYOPHILIZED, FOR SOLUTION   \n",
       "\n",
       "                                             pharm_class  brand_name_suffix  \\\n",
       "47121  ['Anti-coagulant [EPC]', 'Direct Thrombin Inhi...                NaN   \n",
       "\n",
       "      marketing_end_date dea_schedule  \n",
       "47121         20210301.0          NaN  \n",
       "\n",
       "[1 rows x 23 columns]"
      ]
     },
     "execution_count": 22,
     "metadata": {},
     "output_type": "execute_result"
    }
   ],
   "source": [
    "ndc[ndc['product_ndc']=='60505-6101']"
   ]
  },
  {
   "cell_type": "code",
   "execution_count": 23,
   "metadata": {},
   "outputs": [
    {
     "data": {
      "text/html": [
       "<div>\n",
       "<style scoped>\n",
       "    .dataframe tbody tr th:only-of-type {\n",
       "        vertical-align: middle;\n",
       "    }\n",
       "\n",
       "    .dataframe tbody tr th {\n",
       "        vertical-align: top;\n",
       "    }\n",
       "\n",
       "    .dataframe thead th {\n",
       "        text-align: right;\n",
       "    }\n",
       "</style>\n",
       "<table border=\"1\" class=\"dataframe\">\n",
       "  <thead>\n",
       "    <tr style=\"text-align: right;\">\n",
       "      <th></th>\n",
       "      <th>Unnamed: 0</th>\n",
       "      <th>NDC Description</th>\n",
       "      <th>NDC</th>\n",
       "      <th>NADAC_Per_Unit</th>\n",
       "      <th>Effective_Date</th>\n",
       "      <th>Pricing_Unit</th>\n",
       "      <th>Pharmacy_Type_Indicator</th>\n",
       "      <th>OTC</th>\n",
       "      <th>Explanation_Code</th>\n",
       "      <th>Classification_for_Rate_Setting</th>\n",
       "      <th>Corresponding_Generic_Drug_NADAC_Per_Unit</th>\n",
       "      <th>Corresponding_Generic_Drug_Effective_Date</th>\n",
       "      <th>As of Date</th>\n",
       "    </tr>\n",
       "  </thead>\n",
       "  <tbody>\n",
       "    <tr>\n",
       "      <th>503</th>\n",
       "      <td>147609</td>\n",
       "      <td>AMLODIPINE-ATORVAST 10-10 MG</td>\n",
       "      <td>59762673007</td>\n",
       "      <td>3.58298</td>\n",
       "      <td>12/23/2015</td>\n",
       "      <td>EA</td>\n",
       "      <td>C/I</td>\n",
       "      <td>N</td>\n",
       "      <td>1, 6</td>\n",
       "      <td>G</td>\n",
       "      <td>NaN</td>\n",
       "      <td>NaN</td>\n",
       "      <td>12/30/2015</td>\n",
       "    </tr>\n",
       "  </tbody>\n",
       "</table>\n",
       "</div>"
      ],
      "text/plain": [
       "     Unnamed: 0               NDC Description          NDC  NADAC_Per_Unit  \\\n",
       "503      147609  AMLODIPINE-ATORVAST 10-10 MG  59762673007         3.58298   \n",
       "\n",
       "    Effective_Date Pricing_Unit Pharmacy_Type_Indicator OTC Explanation_Code  \\\n",
       "503     12/23/2015           EA                     C/I   N             1, 6   \n",
       "\n",
       "    Classification_for_Rate_Setting  \\\n",
       "503                               G   \n",
       "\n",
       "     Corresponding_Generic_Drug_NADAC_Per_Unit  \\\n",
       "503                                        NaN   \n",
       "\n",
       "    Corresponding_Generic_Drug_Effective_Date  As of Date  \n",
       "503                                       NaN  12/30/2015  "
      ]
     },
     "execution_count": 23,
     "metadata": {},
     "output_type": "execute_result"
    }
   ],
   "source": [
    "nadac[nadac['NDC'] == 59762673007]"
   ]
  },
  {
   "cell_type": "code",
   "execution_count": 24,
   "metadata": {},
   "outputs": [
    {
     "ename": "KeyError",
     "evalue": "59762673007",
     "output_type": "error",
     "traceback": [
      "\u001b[1;31m---------------------------------------------------------------------------\u001b[0m",
      "\u001b[1;31mKeyError\u001b[0m                                  Traceback (most recent call last)",
      "\u001b[1;32m<ipython-input-24-f033a6dcbec6>\u001b[0m in \u001b[0;36m<module>\u001b[1;34m\u001b[0m\n\u001b[1;32m----> 1\u001b[1;33m \u001b[0mndc_matches\u001b[0m\u001b[1;33m[\u001b[0m\u001b[1;36m59762673007\u001b[0m\u001b[1;33m]\u001b[0m\u001b[1;33m\u001b[0m\u001b[1;33m\u001b[0m\u001b[0m\n\u001b[0m",
      "\u001b[1;31mKeyError\u001b[0m: 59762673007"
     ]
    }
   ],
   "source": [
    "ndc_matches[59762673007]"
   ]
  },
  {
   "cell_type": "code",
   "execution_count": null,
   "metadata": {},
   "outputs": [],
   "source": [
    "ndc[ndc['product_ndc']== '59762-6730' ]"
   ]
  },
  {
   "cell_type": "code",
   "execution_count": null,
   "metadata": {},
   "outputs": [],
   "source": [
    "def check_match(key):\n",
    "    print(nadac[nadac['NDC'] == key]['NDC Description'])\n",
    "    num = ndc_matches[key]\n",
    "    print(ndc[ndc['product_ndc']== num ]['generic_name'])\n",
    "    return ndc[ndc['product_ndc']== num ]"
   ]
  },
  {
   "cell_type": "code",
   "execution_count": null,
   "metadata": {},
   "outputs": [],
   "source": [
    "ndc_matches.keys()"
   ]
  },
  {
   "cell_type": "code",
   "execution_count": null,
   "metadata": {},
   "outputs": [],
   "source": [
    "check_match(60505026101)\n",
    "#Does not match"
   ]
  },
  {
   "cell_type": "code",
   "execution_count": null,
   "metadata": {},
   "outputs": [],
   "source": [
    "check_match(59762673007)\n",
    "#Matches! :)"
   ]
  },
  {
   "cell_type": "code",
   "execution_count": null,
   "metadata": {},
   "outputs": [],
   "source": [
    "check_match(378408501)\n",
    "#Does not match - ADHD med and nausea relief"
   ]
  },
  {
   "cell_type": "code",
   "execution_count": null,
   "metadata": {},
   "outputs": [],
   "source": [
    "check_match(59762673207)\n",
    "#matches"
   ]
  },
  {
   "cell_type": "code",
   "execution_count": null,
   "metadata": {},
   "outputs": [],
   "source": [
    "check_match(55111061010)\n",
    "#Does not match - SSRI, hand sanitizer"
   ]
  },
  {
   "cell_type": "code",
   "execution_count": null,
   "metadata": {},
   "outputs": [],
   "source": [
    "check_match(60505026201)\n",
    "#does not match"
   ]
  },
  {
   "cell_type": "code",
   "execution_count": null,
   "metadata": {},
   "outputs": [],
   "source": [
    "#They do not match very well\n",
    "#I am going to increase the matching score to 90\n",
    "#Append once something is added and move on\n",
    "#Print statements\n",
    "#Will start this in a second notebook, but keep this one to push for check-in 3"
   ]
  },
  {
   "cell_type": "code",
   "execution_count": null,
   "metadata": {},
   "outputs": [],
   "source": [
    "nadac['ndc_code'] = nadac['NDC'].map(ndc_matches)\n",
    "nadac.head()"
   ]
  },
  {
   "cell_type": "code",
   "execution_count": null,
   "metadata": {},
   "outputs": [],
   "source": [
    "nadac.notnull().sum()"
   ]
  },
  {
   "cell_type": "code",
   "execution_count": null,
   "metadata": {},
   "outputs": [],
   "source": [
    "ndc.columns"
   ]
  },
  {
   "cell_type": "code",
   "execution_count": null,
   "metadata": {},
   "outputs": [],
   "source": [
    "ndc.rename(columns={'product_ndc':'ndc_code'}, inplace=True)"
   ]
  },
  {
   "cell_type": "code",
   "execution_count": null,
   "metadata": {},
   "outputs": [],
   "source": [
    "nadac_ndc = pd.merge(nadac, ndc, on=['ndc_code'] )"
   ]
  },
  {
   "cell_type": "code",
   "execution_count": null,
   "metadata": {},
   "outputs": [],
   "source": [
    "nadac_ndc.head()"
   ]
  },
  {
   "cell_type": "code",
   "execution_count": null,
   "metadata": {},
   "outputs": [],
   "source": [
    "nadac_ndc.notnull().sum()"
   ]
  },
  {
   "cell_type": "code",
   "execution_count": null,
   "metadata": {},
   "outputs": [],
   "source": [
    "nadac_ndc.shape"
   ]
  },
  {
   "cell_type": "code",
   "execution_count": null,
   "metadata": {},
   "outputs": [],
   "source": [
    "nadac.fillna(0, inplace = True)"
   ]
  },
  {
   "cell_type": "code",
   "execution_count": null,
   "metadata": {},
   "outputs": [],
   "source": [
    "nadac.dtypes"
   ]
  },
  {
   "cell_type": "code",
   "execution_count": null,
   "metadata": {},
   "outputs": [],
   "source": [
    "from sklearn.model_selection import train_test_split\n",
    "from sklearn.linear_model import LinearRegression\n",
    "\n",
    "\n",
    "X_dummies = pd.get_dummies(data = nadac_ndc, columns = ['NDC Description', 'NDC', 'Effective_Date', 'Pricing_Unit', 'Pharmacy_Type_Indicator', 'OTC',\n",
    "       'Explanation_Code', 'Classification_for_Rate_Setting','Corresponding_Generic_Drug_NADAC_Per_Unit','Corresponding_Generic_Drug_Effective_Date', 'As of Date',\n",
    "       'marketing_start_date', 'product_type', 'product_id','marketing_category', 'route', 'generic_name', 'openfda', 'brand_name',\n",
    "       'brand_name_base', 'labeler_name', 'packaging', 'active_ingredients','finished', 'spl_id', 'application_number', 'listing_expiration_date',\n",
    "       'dosage_form', 'pharm_class', 'brand_name_suffix', 'marketing_end_date',\n",
    "       'dea_schedule'], drop_first=True)\n",
    "\n",
    "#Get Dummies\n",
    "#X_train, X_test, y_train, y_test = train_test_split(X,y, random_state=17)\n",
    "#linear regression"
   ]
  },
  {
   "cell_type": "code",
   "execution_count": null,
   "metadata": {},
   "outputs": [],
   "source": [
    "X_dummies.drop(columns = [#\"Unnamed: 0_x\", \"Unnamed: 0_y\",\n",
    "    \"ndc_code\"], inplace=True)\n",
    "X_dummies"
   ]
  },
  {
   "cell_type": "code",
   "execution_count": null,
   "metadata": {},
   "outputs": [],
   "source": [
    "X_dummies.drop(columns='NADAC_Per_Unit', inplace=True)"
   ]
  },
  {
   "cell_type": "code",
   "execution_count": null,
   "metadata": {},
   "outputs": [],
   "source": [
    "X_dummies"
   ]
  },
  {
   "cell_type": "code",
   "execution_count": null,
   "metadata": {},
   "outputs": [],
   "source": [
    "X = X_dummies\n",
    "y = nadac_ndc['NADAC_Per_Unit']\n",
    "\n",
    "X_train, X_test, y_train, y_test = train_test_split(X,y, random_state = 17)\n",
    "\n",
    "lr = LinearRegression()\n",
    "lr.fit(X_train, y_train)\n"
   ]
  },
  {
   "cell_type": "code",
   "execution_count": null,
   "metadata": {},
   "outputs": [],
   "source": [
    "lr.score(X_test, y_test)\n",
    "#This does not look good - a really low/ negative R2 score!"
   ]
  },
  {
   "cell_type": "code",
   "execution_count": null,
   "metadata": {},
   "outputs": [],
   "source": [
    "import matplotlib.pyplot as plt\n",
    "preds = lr.predict(X_test)\n",
    "plt.scatter(y_test, preds);"
   ]
  },
  {
   "cell_type": "code",
   "execution_count": null,
   "metadata": {},
   "outputs": [],
   "source": [
    "from sklearn.metrics import mean_squared_error\n",
    "mean_squared_error(y_test, preds, squared=False)\n",
    "#$27.57 off on average - this is not great"
   ]
  },
  {
   "cell_type": "code",
   "execution_count": null,
   "metadata": {},
   "outputs": [],
   "source": [
    "from sklearn.ensemble import RandomForestRegressor\n",
    "from sklearn.model_selection import GridSearchCV\n",
    "\n",
    "rf = RandomForestRegressor(random_state=17)\n",
    "\n",
    "params = {\n",
    "    'n_estimators': [95,100,105],\n",
    "    'max_features': [None, 'auto'],\n",
    "    'max_depth': [None, 3,4,5,6]\n",
    "}\n",
    "\n",
    "gs = GridSearchCV(rf, param_grid = params, cv=5)\n",
    "gs.fit(X_train, y_train)\n",
    "gs.best_params_['score'] = gs.best_score_\n",
    "\n"
   ]
  },
  {
   "cell_type": "code",
   "execution_count": null,
   "metadata": {},
   "outputs": [],
   "source": []
  }
 ],
 "metadata": {
  "kernelspec": {
   "display_name": "Python 3",
   "language": "python",
   "name": "python3"
  },
  "language_info": {
   "codemirror_mode": {
    "name": "ipython",
    "version": 3
   },
   "file_extension": ".py",
   "mimetype": "text/x-python",
   "name": "python",
   "nbconvert_exporter": "python",
   "pygments_lexer": "ipython3",
   "version": "3.7.6"
  }
 },
 "nbformat": 4,
 "nbformat_minor": 4
}
