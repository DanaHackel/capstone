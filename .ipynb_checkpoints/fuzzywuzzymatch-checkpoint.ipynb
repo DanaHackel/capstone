{
 "cells": [
  {
   "cell_type": "code",
   "execution_count": 1,
   "metadata": {},
   "outputs": [
    {
     "name": "stdout",
     "output_type": "stream",
     "text": [
      "Requirement already satisfied: fuzzywuzzy in c:\\users\\12155\\anaconda3\\lib\\site-packages (0.18.0)\n"
     ]
    }
   ],
   "source": [
    "#!pip install fuzzywuzzy"
   ]
  },
  {
   "cell_type": "code",
   "execution_count": 2,
   "metadata": {},
   "outputs": [],
   "source": [
    "import pandas as pd\n",
    "import numpy as np\n",
    "import fuzzywuzzy as fuzzy"
   ]
  },
  {
   "cell_type": "code",
   "execution_count": 3,
   "metadata": {},
   "outputs": [],
   "source": [
    "nadac = pd.read_csv('data/nadac_no_repeats.csv')\n",
    "ndc = pd.read_csv('data/ndc_df.csv')"
   ]
  },
  {
   "cell_type": "code",
   "execution_count": 4,
   "metadata": {},
   "outputs": [
    {
     "data": {
      "text/html": [
       "<div>\n",
       "<style scoped>\n",
       "    .dataframe tbody tr th:only-of-type {\n",
       "        vertical-align: middle;\n",
       "    }\n",
       "\n",
       "    .dataframe tbody tr th {\n",
       "        vertical-align: top;\n",
       "    }\n",
       "\n",
       "    .dataframe thead th {\n",
       "        text-align: right;\n",
       "    }\n",
       "</style>\n",
       "<table border=\"1\" class=\"dataframe\">\n",
       "  <thead>\n",
       "    <tr style=\"text-align: right;\">\n",
       "      <th></th>\n",
       "      <th>Unnamed: 0</th>\n",
       "      <th>NDC Description</th>\n",
       "      <th>NDC</th>\n",
       "      <th>NADAC_Per_Unit</th>\n",
       "      <th>Effective_Date</th>\n",
       "      <th>Pricing_Unit</th>\n",
       "      <th>Pharmacy_Type_Indicator</th>\n",
       "      <th>OTC</th>\n",
       "      <th>Explanation_Code</th>\n",
       "      <th>Classification_for_Rate_Setting</th>\n",
       "      <th>Corresponding_Generic_Drug_NADAC_Per_Unit</th>\n",
       "      <th>Corresponding_Generic_Drug_Effective_Date</th>\n",
       "      <th>As of Date</th>\n",
       "    </tr>\n",
       "  </thead>\n",
       "  <tbody>\n",
       "    <tr>\n",
       "      <th>0</th>\n",
       "      <td>152</td>\n",
       "      <td>OLANZAPINE ODT 20 MG TABLET</td>\n",
       "      <td>65862065903</td>\n",
       "      <td>4.12341</td>\n",
       "      <td>12/23/2015</td>\n",
       "      <td>EA</td>\n",
       "      <td>C/I</td>\n",
       "      <td>N</td>\n",
       "      <td>1</td>\n",
       "      <td>G</td>\n",
       "      <td>NaN</td>\n",
       "      <td>NaN</td>\n",
       "      <td>12/30/2015</td>\n",
       "    </tr>\n",
       "    <tr>\n",
       "      <th>1</th>\n",
       "      <td>213</td>\n",
       "      <td>NYSTATIN 100,000 UNIT/GM POWD</td>\n",
       "      <td>904645602</td>\n",
       "      <td>0.60225</td>\n",
       "      <td>12/23/2015</td>\n",
       "      <td>GM</td>\n",
       "      <td>C/I</td>\n",
       "      <td>N</td>\n",
       "      <td>1, 5</td>\n",
       "      <td>G</td>\n",
       "      <td>NaN</td>\n",
       "      <td>NaN</td>\n",
       "      <td>12/30/2015</td>\n",
       "    </tr>\n",
       "    <tr>\n",
       "      <th>2</th>\n",
       "      <td>298</td>\n",
       "      <td>OLANZAPINE 10 MG TABLET</td>\n",
       "      <td>904637661</td>\n",
       "      <td>0.22020</td>\n",
       "      <td>12/23/2015</td>\n",
       "      <td>EA</td>\n",
       "      <td>C/I</td>\n",
       "      <td>N</td>\n",
       "      <td>1</td>\n",
       "      <td>G</td>\n",
       "      <td>NaN</td>\n",
       "      <td>NaN</td>\n",
       "      <td>12/30/2015</td>\n",
       "    </tr>\n",
       "    <tr>\n",
       "      <th>3</th>\n",
       "      <td>575</td>\n",
       "      <td>CELECOXIB 50 MG CAPSULE</td>\n",
       "      <td>13811065860</td>\n",
       "      <td>0.51850</td>\n",
       "      <td>11/11/2015</td>\n",
       "      <td>EA</td>\n",
       "      <td>C/I</td>\n",
       "      <td>N</td>\n",
       "      <td>4</td>\n",
       "      <td>G</td>\n",
       "      <td>NaN</td>\n",
       "      <td>NaN</td>\n",
       "      <td>12/30/2015</td>\n",
       "    </tr>\n",
       "    <tr>\n",
       "      <th>4</th>\n",
       "      <td>1168</td>\n",
       "      <td>LISINOPRIL 20 MG TABLET</td>\n",
       "      <td>51079098319</td>\n",
       "      <td>0.02633</td>\n",
       "      <td>12/17/2014</td>\n",
       "      <td>EA</td>\n",
       "      <td>C/I</td>\n",
       "      <td>N</td>\n",
       "      <td>1</td>\n",
       "      <td>G</td>\n",
       "      <td>NaN</td>\n",
       "      <td>NaN</td>\n",
       "      <td>12/31/2014</td>\n",
       "    </tr>\n",
       "  </tbody>\n",
       "</table>\n",
       "</div>"
      ],
      "text/plain": [
       "   Unnamed: 0                NDC Description          NDC  NADAC_Per_Unit  \\\n",
       "0         152    OLANZAPINE ODT 20 MG TABLET  65862065903         4.12341   \n",
       "1         213  NYSTATIN 100,000 UNIT/GM POWD    904645602         0.60225   \n",
       "2         298        OLANZAPINE 10 MG TABLET    904637661         0.22020   \n",
       "3         575        CELECOXIB 50 MG CAPSULE  13811065860         0.51850   \n",
       "4        1168        LISINOPRIL 20 MG TABLET  51079098319         0.02633   \n",
       "\n",
       "  Effective_Date Pricing_Unit Pharmacy_Type_Indicator OTC Explanation_Code  \\\n",
       "0     12/23/2015           EA                     C/I   N                1   \n",
       "1     12/23/2015           GM                     C/I   N             1, 5   \n",
       "2     12/23/2015           EA                     C/I   N                1   \n",
       "3     11/11/2015           EA                     C/I   N                4   \n",
       "4     12/17/2014           EA                     C/I   N                1   \n",
       "\n",
       "  Classification_for_Rate_Setting  Corresponding_Generic_Drug_NADAC_Per_Unit  \\\n",
       "0                               G                                        NaN   \n",
       "1                               G                                        NaN   \n",
       "2                               G                                        NaN   \n",
       "3                               G                                        NaN   \n",
       "4                               G                                        NaN   \n",
       "\n",
       "  Corresponding_Generic_Drug_Effective_Date  As of Date  \n",
       "0                                       NaN  12/30/2015  \n",
       "1                                       NaN  12/30/2015  \n",
       "2                                       NaN  12/30/2015  \n",
       "3                                       NaN  12/30/2015  \n",
       "4                                       NaN  12/31/2014  "
      ]
     },
     "execution_count": 4,
     "metadata": {},
     "output_type": "execute_result"
    }
   ],
   "source": [
    "nadac.head()"
   ]
  },
  {
   "cell_type": "code",
   "execution_count": 5,
   "metadata": {},
   "outputs": [
    {
     "data": {
      "text/plain": [
       "Index(['Unnamed: 0', 'NDC Description', 'NDC', 'NADAC_Per_Unit',\n",
       "       'Effective_Date', 'Pricing_Unit', 'Pharmacy_Type_Indicator', 'OTC',\n",
       "       'Explanation_Code', 'Classification_for_Rate_Setting',\n",
       "       'Corresponding_Generic_Drug_NADAC_Per_Unit',\n",
       "       'Corresponding_Generic_Drug_Effective_Date', 'As of Date'],\n",
       "      dtype='object')"
      ]
     },
     "execution_count": 5,
     "metadata": {},
     "output_type": "execute_result"
    }
   ],
   "source": [
    "nadac.columns"
   ]
  },
  {
   "cell_type": "code",
   "execution_count": 6,
   "metadata": {},
   "outputs": [
    {
     "data": {
      "text/plain": [
       "Unnamed: 0                                     int64\n",
       "NDC Description                               object\n",
       "NDC                                            int64\n",
       "NADAC_Per_Unit                               float64\n",
       "Effective_Date                                object\n",
       "Pricing_Unit                                  object\n",
       "Pharmacy_Type_Indicator                       object\n",
       "OTC                                           object\n",
       "Explanation_Code                              object\n",
       "Classification_for_Rate_Setting               object\n",
       "Corresponding_Generic_Drug_NADAC_Per_Unit    float64\n",
       "Corresponding_Generic_Drug_Effective_Date     object\n",
       "As of Date                                    object\n",
       "dtype: object"
      ]
     },
     "execution_count": 6,
     "metadata": {},
     "output_type": "execute_result"
    }
   ],
   "source": [
    "nadac.dtypes"
   ]
  },
  {
   "cell_type": "code",
   "execution_count": 7,
   "metadata": {},
   "outputs": [
    {
     "data": {
      "text/plain": [
       "<bound method Series.unique of 68016025594    1\n",
       "378141877      1\n",
       "54418625       1\n",
       "228306111      1\n",
       "27241004221    1\n",
       "              ..\n",
       "603388522      1\n",
       "65862047505    1\n",
       "65862029935    1\n",
       "173076100      1\n",
       "115148801      1\n",
       "Name: NDC, Length: 43222, dtype: int64>"
      ]
     },
     "execution_count": 7,
     "metadata": {},
     "output_type": "execute_result"
    }
   ],
   "source": [
    "nadac['NDC'].value_counts().unique"
   ]
  },
  {
   "cell_type": "code",
   "execution_count": 8,
   "metadata": {},
   "outputs": [
    {
     "data": {
      "text/plain": [
       "(43222, 13)"
      ]
     },
     "execution_count": 8,
     "metadata": {},
     "output_type": "execute_result"
    }
   ],
   "source": [
    "nadac.shape"
   ]
  },
  {
   "cell_type": "code",
   "execution_count": 9,
   "metadata": {},
   "outputs": [
    {
     "name": "stdout",
     "output_type": "stream",
     "text": [
      "Unique number of NDCs in the NADAC dataframe: 43222\n"
     ]
    }
   ],
   "source": [
    "nadac_ndc = list(nadac['NDC'].unique())\n",
    "print(f'Unique number of NDCs in the NADAC dataframe: {len(nadac_ndc)}')"
   ]
  },
  {
   "cell_type": "code",
   "execution_count": 10,
   "metadata": {},
   "outputs": [
    {
     "data": {
      "text/plain": [
       "Index(['Unnamed: 0', 'marketing_start_date', 'product_type', 'product_id',\n",
       "       'marketing_category', 'route', 'generic_name', 'openfda', 'brand_name',\n",
       "       'brand_name_base', 'labeler_name', 'packaging', 'active_ingredients',\n",
       "       'product_ndc', 'finished', 'spl_id', 'application_number',\n",
       "       'listing_expiration_date', 'dosage_form', 'pharm_class',\n",
       "       'brand_name_suffix', 'marketing_end_date', 'dea_schedule'],\n",
       "      dtype='object')"
      ]
     },
     "execution_count": 10,
     "metadata": {},
     "output_type": "execute_result"
    }
   ],
   "source": [
    "ndc.columns"
   ]
  },
  {
   "cell_type": "code",
   "execution_count": 11,
   "metadata": {},
   "outputs": [
    {
     "data": {
      "text/plain": [
       "<bound method Series.unique of 47682-098     1\n",
       "70000-0035    1\n",
       "71450-0003    1\n",
       "48951-4150    1\n",
       "78872-005     1\n",
       "             ..\n",
       "0025-1515     1\n",
       "0591-3692     1\n",
       "0409-7120     1\n",
       "0220-3413     1\n",
       "55714-9011    1\n",
       "Name: product_ndc, Length: 128522, dtype: int64>"
      ]
     },
     "execution_count": 11,
     "metadata": {},
     "output_type": "execute_result"
    }
   ],
   "source": [
    "ndc['product_ndc'].value_counts().unique"
   ]
  },
  {
   "cell_type": "code",
   "execution_count": 12,
   "metadata": {},
   "outputs": [
    {
     "name": "stdout",
     "output_type": "stream",
     "text": [
      "Unique number of NDCs in the NDC dataframe: 128522\n"
     ]
    }
   ],
   "source": [
    "ndc_ndc = list(ndc['product_ndc'].unique())\n",
    "print(f'Unique number of NDCs in the NDC dataframe: {len(ndc_ndc)}')"
   ]
  },
  {
   "cell_type": "code",
   "execution_count": 15,
   "metadata": {},
   "outputs": [
    {
     "name": "stderr",
     "output_type": "stream",
     "text": [
      "C:\\Users\\12155\\anaconda3\\lib\\site-packages\\fuzzywuzzy\\fuzz.py:11: UserWarning: Using slow pure-python SequenceMatcher. Install python-Levenshtein to remove this warning\n",
      "  warnings.warn('Using slow pure-python SequenceMatcher. Install python-Levenshtein to remove this warning')\n"
     ]
    },
    {
     "ename": "KeyboardInterrupt",
     "evalue": "",
     "output_type": "error",
     "traceback": [
      "\u001b[1;31m---------------------------------------------------------------------------\u001b[0m",
      "\u001b[1;31mKeyboardInterrupt\u001b[0m                         Traceback (most recent call last)",
      "\u001b[1;32m<timed exec>\u001b[0m in \u001b[0;36m<module>\u001b[1;34m\u001b[0m\n",
      "\u001b[1;32m~\\anaconda3\\lib\\site-packages\\fuzzywuzzy\\fuzz.py\u001b[0m in \u001b[0;36mtoken_sort_ratio\u001b[1;34m(s1, s2, force_ascii, full_process)\u001b[0m\n\u001b[0;32m    103\u001b[0m     \u001b[0mbut\u001b[0m \u001b[0msorting\u001b[0m \u001b[0mthe\u001b[0m \u001b[0mtoken\u001b[0m \u001b[0mbefore\u001b[0m \u001b[0mcomparing\u001b[0m\u001b[1;33m.\u001b[0m\u001b[1;33m\u001b[0m\u001b[1;33m\u001b[0m\u001b[0m\n\u001b[0;32m    104\u001b[0m     \"\"\"\n\u001b[1;32m--> 105\u001b[1;33m     \u001b[1;32mreturn\u001b[0m \u001b[0m_token_sort\u001b[0m\u001b[1;33m(\u001b[0m\u001b[0ms1\u001b[0m\u001b[1;33m,\u001b[0m \u001b[0ms2\u001b[0m\u001b[1;33m,\u001b[0m \u001b[0mpartial\u001b[0m\u001b[1;33m=\u001b[0m\u001b[1;32mFalse\u001b[0m\u001b[1;33m,\u001b[0m \u001b[0mforce_ascii\u001b[0m\u001b[1;33m=\u001b[0m\u001b[0mforce_ascii\u001b[0m\u001b[1;33m,\u001b[0m \u001b[0mfull_process\u001b[0m\u001b[1;33m=\u001b[0m\u001b[0mfull_process\u001b[0m\u001b[1;33m)\u001b[0m\u001b[1;33m\u001b[0m\u001b[1;33m\u001b[0m\u001b[0m\n\u001b[0m\u001b[0;32m    106\u001b[0m \u001b[1;33m\u001b[0m\u001b[0m\n\u001b[0;32m    107\u001b[0m \u001b[1;33m\u001b[0m\u001b[0m\n",
      "\u001b[1;32m~\\anaconda3\\lib\\site-packages\\fuzzywuzzy\\utils.py\u001b[0m in \u001b[0;36mdecorator\u001b[1;34m(*args, **kwargs)\u001b[0m\n\u001b[0;32m     36\u001b[0m         \u001b[1;32mif\u001b[0m \u001b[0margs\u001b[0m\u001b[1;33m[\u001b[0m\u001b[1;36m0\u001b[0m\u001b[1;33m]\u001b[0m \u001b[1;32mis\u001b[0m \u001b[1;32mNone\u001b[0m \u001b[1;32mor\u001b[0m \u001b[0margs\u001b[0m\u001b[1;33m[\u001b[0m\u001b[1;36m1\u001b[0m\u001b[1;33m]\u001b[0m \u001b[1;32mis\u001b[0m \u001b[1;32mNone\u001b[0m\u001b[1;33m:\u001b[0m\u001b[1;33m\u001b[0m\u001b[1;33m\u001b[0m\u001b[0m\n\u001b[0;32m     37\u001b[0m             \u001b[1;32mreturn\u001b[0m \u001b[1;36m0\u001b[0m\u001b[1;33m\u001b[0m\u001b[1;33m\u001b[0m\u001b[0m\n\u001b[1;32m---> 38\u001b[1;33m         \u001b[1;32mreturn\u001b[0m \u001b[0mfunc\u001b[0m\u001b[1;33m(\u001b[0m\u001b[1;33m*\u001b[0m\u001b[0margs\u001b[0m\u001b[1;33m,\u001b[0m \u001b[1;33m**\u001b[0m\u001b[0mkwargs\u001b[0m\u001b[1;33m)\u001b[0m\u001b[1;33m\u001b[0m\u001b[1;33m\u001b[0m\u001b[0m\n\u001b[0m\u001b[0;32m     39\u001b[0m     \u001b[1;32mreturn\u001b[0m \u001b[0mdecorator\u001b[0m\u001b[1;33m\u001b[0m\u001b[1;33m\u001b[0m\u001b[0m\n\u001b[0;32m     40\u001b[0m \u001b[1;33m\u001b[0m\u001b[0m\n",
      "\u001b[1;32m~\\anaconda3\\lib\\site-packages\\fuzzywuzzy\\fuzz.py\u001b[0m in \u001b[0;36m_token_sort\u001b[1;34m(s1, s2, partial, force_ascii, full_process)\u001b[0m\n\u001b[0;32m     91\u001b[0m \u001b[1;32mdef\u001b[0m \u001b[0m_token_sort\u001b[0m\u001b[1;33m(\u001b[0m\u001b[0ms1\u001b[0m\u001b[1;33m,\u001b[0m \u001b[0ms2\u001b[0m\u001b[1;33m,\u001b[0m \u001b[0mpartial\u001b[0m\u001b[1;33m=\u001b[0m\u001b[1;32mTrue\u001b[0m\u001b[1;33m,\u001b[0m \u001b[0mforce_ascii\u001b[0m\u001b[1;33m=\u001b[0m\u001b[1;32mTrue\u001b[0m\u001b[1;33m,\u001b[0m \u001b[0mfull_process\u001b[0m\u001b[1;33m=\u001b[0m\u001b[1;32mTrue\u001b[0m\u001b[1;33m)\u001b[0m\u001b[1;33m:\u001b[0m\u001b[1;33m\u001b[0m\u001b[1;33m\u001b[0m\u001b[0m\n\u001b[0;32m     92\u001b[0m     \u001b[0msorted1\u001b[0m \u001b[1;33m=\u001b[0m \u001b[0m_process_and_sort\u001b[0m\u001b[1;33m(\u001b[0m\u001b[0ms1\u001b[0m\u001b[1;33m,\u001b[0m \u001b[0mforce_ascii\u001b[0m\u001b[1;33m,\u001b[0m \u001b[0mfull_process\u001b[0m\u001b[1;33m=\u001b[0m\u001b[0mfull_process\u001b[0m\u001b[1;33m)\u001b[0m\u001b[1;33m\u001b[0m\u001b[1;33m\u001b[0m\u001b[0m\n\u001b[1;32m---> 93\u001b[1;33m     \u001b[0msorted2\u001b[0m \u001b[1;33m=\u001b[0m \u001b[0m_process_and_sort\u001b[0m\u001b[1;33m(\u001b[0m\u001b[0ms2\u001b[0m\u001b[1;33m,\u001b[0m \u001b[0mforce_ascii\u001b[0m\u001b[1;33m,\u001b[0m \u001b[0mfull_process\u001b[0m\u001b[1;33m=\u001b[0m\u001b[0mfull_process\u001b[0m\u001b[1;33m)\u001b[0m\u001b[1;33m\u001b[0m\u001b[1;33m\u001b[0m\u001b[0m\n\u001b[0m\u001b[0;32m     94\u001b[0m \u001b[1;33m\u001b[0m\u001b[0m\n\u001b[0;32m     95\u001b[0m     \u001b[1;32mif\u001b[0m \u001b[0mpartial\u001b[0m\u001b[1;33m:\u001b[0m\u001b[1;33m\u001b[0m\u001b[1;33m\u001b[0m\u001b[0m\n",
      "\u001b[1;32m~\\anaconda3\\lib\\site-packages\\fuzzywuzzy\\fuzz.py\u001b[0m in \u001b[0;36m_process_and_sort\u001b[1;34m(s, force_ascii, full_process)\u001b[0m\n\u001b[0;32m     76\u001b[0m     \u001b[1;34m\"\"\"Return a cleaned string with token sorted.\"\"\"\u001b[0m\u001b[1;33m\u001b[0m\u001b[1;33m\u001b[0m\u001b[0m\n\u001b[0;32m     77\u001b[0m     \u001b[1;31m# pull tokens\u001b[0m\u001b[1;33m\u001b[0m\u001b[1;33m\u001b[0m\u001b[1;33m\u001b[0m\u001b[0m\n\u001b[1;32m---> 78\u001b[1;33m     \u001b[0mts\u001b[0m \u001b[1;33m=\u001b[0m \u001b[0mutils\u001b[0m\u001b[1;33m.\u001b[0m\u001b[0mfull_process\u001b[0m\u001b[1;33m(\u001b[0m\u001b[0ms\u001b[0m\u001b[1;33m,\u001b[0m \u001b[0mforce_ascii\u001b[0m\u001b[1;33m=\u001b[0m\u001b[0mforce_ascii\u001b[0m\u001b[1;33m)\u001b[0m \u001b[1;32mif\u001b[0m \u001b[0mfull_process\u001b[0m \u001b[1;32melse\u001b[0m \u001b[0ms\u001b[0m\u001b[1;33m\u001b[0m\u001b[1;33m\u001b[0m\u001b[0m\n\u001b[0m\u001b[0;32m     79\u001b[0m     \u001b[0mtokens\u001b[0m \u001b[1;33m=\u001b[0m \u001b[0mts\u001b[0m\u001b[1;33m.\u001b[0m\u001b[0msplit\u001b[0m\u001b[1;33m(\u001b[0m\u001b[1;33m)\u001b[0m\u001b[1;33m\u001b[0m\u001b[1;33m\u001b[0m\u001b[0m\n\u001b[0;32m     80\u001b[0m \u001b[1;33m\u001b[0m\u001b[0m\n",
      "\u001b[1;32m~\\anaconda3\\lib\\site-packages\\fuzzywuzzy\\utils.py\u001b[0m in \u001b[0;36mfull_process\u001b[1;34m(s, force_ascii)\u001b[0m\n\u001b[0;32m     93\u001b[0m         \u001b[0ms\u001b[0m \u001b[1;33m=\u001b[0m \u001b[0masciidammit\u001b[0m\u001b[1;33m(\u001b[0m\u001b[0ms\u001b[0m\u001b[1;33m)\u001b[0m\u001b[1;33m\u001b[0m\u001b[1;33m\u001b[0m\u001b[0m\n\u001b[0;32m     94\u001b[0m     \u001b[1;31m# Keep only Letters and Numbers (see Unicode docs).\u001b[0m\u001b[1;33m\u001b[0m\u001b[1;33m\u001b[0m\u001b[1;33m\u001b[0m\u001b[0m\n\u001b[1;32m---> 95\u001b[1;33m     \u001b[0mstring_out\u001b[0m \u001b[1;33m=\u001b[0m \u001b[0mStringProcessor\u001b[0m\u001b[1;33m.\u001b[0m\u001b[0mreplace_non_letters_non_numbers_with_whitespace\u001b[0m\u001b[1;33m(\u001b[0m\u001b[0ms\u001b[0m\u001b[1;33m)\u001b[0m\u001b[1;33m\u001b[0m\u001b[1;33m\u001b[0m\u001b[0m\n\u001b[0m\u001b[0;32m     96\u001b[0m     \u001b[1;31m# Force into lowercase.\u001b[0m\u001b[1;33m\u001b[0m\u001b[1;33m\u001b[0m\u001b[1;33m\u001b[0m\u001b[0m\n\u001b[0;32m     97\u001b[0m     \u001b[0mstring_out\u001b[0m \u001b[1;33m=\u001b[0m \u001b[0mStringProcessor\u001b[0m\u001b[1;33m.\u001b[0m\u001b[0mto_lower_case\u001b[0m\u001b[1;33m(\u001b[0m\u001b[0mstring_out\u001b[0m\u001b[1;33m)\u001b[0m\u001b[1;33m\u001b[0m\u001b[1;33m\u001b[0m\u001b[0m\n",
      "\u001b[1;31mKeyboardInterrupt\u001b[0m: "
     ]
    }
   ],
   "source": [
    "%%time\n",
    "from fuzzywuzzy import fuzz\n",
    "from fuzzywuzzy import process\n",
    "from collections import defaultdict\n",
    "\n",
    "\n",
    "ndc_matches = {}\n",
    "for nadac_num in nadac_ndc:\n",
    "    for ndc_num in ndc_ndc:\n",
    "        score = fuzz.token_sort_ratio(nadac_num, ndc_num)\n",
    "        if score > 85:\n",
    "            ndc_matches[nadac_num] = ndc_num\n",
    "        else:\n",
    "            continue"
   ]
  },
  {
   "cell_type": "code",
   "execution_count": 18,
   "metadata": {},
   "outputs": [
    {
     "data": {
      "text/plain": [
       "198"
      ]
     },
     "execution_count": 18,
     "metadata": {},
     "output_type": "execute_result"
    }
   ],
   "source": [
    "len(ndc_matches.keys())"
   ]
  },
  {
   "cell_type": "code",
   "execution_count": 21,
   "metadata": {},
   "outputs": [
    {
     "data": {
      "text/plain": [
       "(43222, 13)"
      ]
     },
     "execution_count": 21,
     "metadata": {},
     "output_type": "execute_result"
    }
   ],
   "source": [
    "#ndc_matches\n",
    "nadac.shape"
   ]
  },
  {
   "cell_type": "code",
   "execution_count": 22,
   "metadata": {},
   "outputs": [
    {
     "data": {
      "text/plain": [
       "(128522, 23)"
      ]
     },
     "execution_count": 22,
     "metadata": {},
     "output_type": "execute_result"
    }
   ],
   "source": [
    "ndc.shape"
   ]
  },
  {
   "cell_type": "code",
   "execution_count": 23,
   "metadata": {},
   "outputs": [],
   "source": [
    "#Only got 198 matches after running for over 24 hours - need to find a faster way!"
   ]
  },
  {
   "cell_type": "code",
   "execution_count": 26,
   "metadata": {},
   "outputs": [
    {
     "data": {
      "text/plain": [
       "dict_keys([60505026101, 59762673007, 378408501, 59762673207, 55111061010, 60505026201, 904649035, 59762672007, 51672529701, 59762673107, 378087316, 13811068210, 59762672107, 60505317007, 51672529601, 10147076100, 40085020190, 10147078100, 59762672207, 59762369002, 378008701, 51672528107, 60505261606, 51672135302, 172365000, 60505700602, 378001801, 11523716001, 60505362009, 59762306002, 378008501, 60505276105, 51525590101, 11523433203, 11523716003, 8121130, 11523432501, 60505700900, 60505700200, 59762673301, 76329826101, 904762331, 11523432701, 59762669103, 59762600201, 6007131, 60505376009, 259477040, 11523131402, 11523721402, 60505700800, 59762669203, 15127055108, 60505602102, 11523715802, 11523170201, 51672125301, 60505700802, 11523726803, 11523414002, 11523116703, 11523178301, 51672527604, 378087216, 3142811, 60505700902, 51672527803, 60505264101, 378018410, 60505700600, 172541060, 378628001, 11523723708, 378018401, 59762671101, 11523432803, 51672527804, 13925050910, 378008401, 55566650003, 378018505, 603568428, 60505265105, 11523116705, 185070401, 59762672205, 59762671001, 59762673201, 60505316209, 378087116, 59762669005, 11523723705, 59762669008, 11523720203, 60505276205, 11523726808, 11523716103, 6007154, 59762673101, 11523715703, 11523432601, 60505700400, 11523716301, 76329906100, 51079099201, 11523715702, 59762669105, 11523314201, 4035730, 603760715, 51672529404, 224050090, 11523131401, 11523716005, 59762672201, 11523723402, 10147170003, 378018701, 59762669003, 60505017007, 51079099101, 11523432202, 228258809, 51672405204, 59762672301, 60505362103, 51672529503, 378086005, 59762673001, 11523715708, 11523726501, 11523715403, 59762673105, 6046405, 11523716202, 60505278008, 11523723404, 11523432502, 13925050950, 6027554, 6011754, 11523723706, 11523433202, 59762669208, 603592716, 11523716203, 59762672001, 228402411, 60505700100, 51672125302, 60505260908, 11523720008, 378075110, 11523116706, 60505362109, 60505361803, 378618001, 187515060, 3142711, 11523115901, 59762669108, 378680501, 11523416102, 59762672005, 59762673205, 60505700300, 378087199, 59762673005, 378087399, 10888500202, 60505017009, 60505017008, 186074331, 378638001, 51672127502, 378408401, 11523726503, 11523720401, 11523432802, 11523723701, 781104801, 378808805, 11523716002, 378082501, 11523723403, 51672207502, 4006801, 11523720001, 60505378009, 60505261506, 11523716201, 11523720201, 186051060, 60505264201, 17433987603, 60505700102, 378086001, 51672527704])"
      ]
     },
     "execution_count": 26,
     "metadata": {},
     "output_type": "execute_result"
    }
   ],
   "source": [
    "ndc_matches.keys()"
   ]
  },
  {
   "cell_type": "code",
   "execution_count": 27,
   "metadata": {},
   "outputs": [
    {
     "data": {
      "text/html": [
       "<div>\n",
       "<style scoped>\n",
       "    .dataframe tbody tr th:only-of-type {\n",
       "        vertical-align: middle;\n",
       "    }\n",
       "\n",
       "    .dataframe tbody tr th {\n",
       "        vertical-align: top;\n",
       "    }\n",
       "\n",
       "    .dataframe thead th {\n",
       "        text-align: right;\n",
       "    }\n",
       "</style>\n",
       "<table border=\"1\" class=\"dataframe\">\n",
       "  <thead>\n",
       "    <tr style=\"text-align: right;\">\n",
       "      <th></th>\n",
       "      <th>Unnamed: 0</th>\n",
       "      <th>NDC Description</th>\n",
       "      <th>NDC</th>\n",
       "      <th>NADAC_Per_Unit</th>\n",
       "      <th>Effective_Date</th>\n",
       "      <th>Pricing_Unit</th>\n",
       "      <th>Pharmacy_Type_Indicator</th>\n",
       "      <th>OTC</th>\n",
       "      <th>Explanation_Code</th>\n",
       "      <th>Classification_for_Rate_Setting</th>\n",
       "      <th>Corresponding_Generic_Drug_NADAC_Per_Unit</th>\n",
       "      <th>Corresponding_Generic_Drug_Effective_Date</th>\n",
       "      <th>As of Date</th>\n",
       "    </tr>\n",
       "  </thead>\n",
       "  <tbody>\n",
       "    <tr>\n",
       "      <th>133</th>\n",
       "      <td>108671</td>\n",
       "      <td>BENAZEPRIL-HYDROCHLOROTHIAZIDE 5-6.25 MG TAB</td>\n",
       "      <td>60505026101</td>\n",
       "      <td>1.48708</td>\n",
       "      <td>07/22/2015</td>\n",
       "      <td>EA</td>\n",
       "      <td>C/I</td>\n",
       "      <td>N</td>\n",
       "      <td>4</td>\n",
       "      <td>G</td>\n",
       "      <td>NaN</td>\n",
       "      <td>NaN</td>\n",
       "      <td>12/30/2015</td>\n",
       "    </tr>\n",
       "  </tbody>\n",
       "</table>\n",
       "</div>"
      ],
      "text/plain": [
       "     Unnamed: 0                               NDC Description          NDC  \\\n",
       "133      108671  BENAZEPRIL-HYDROCHLOROTHIAZIDE 5-6.25 MG TAB  60505026101   \n",
       "\n",
       "     NADAC_Per_Unit Effective_Date Pricing_Unit Pharmacy_Type_Indicator OTC  \\\n",
       "133         1.48708     07/22/2015           EA                     C/I   N   \n",
       "\n",
       "    Explanation_Code Classification_for_Rate_Setting  \\\n",
       "133                4                               G   \n",
       "\n",
       "     Corresponding_Generic_Drug_NADAC_Per_Unit  \\\n",
       "133                                        NaN   \n",
       "\n",
       "    Corresponding_Generic_Drug_Effective_Date  As of Date  \n",
       "133                                       NaN  12/30/2015  "
      ]
     },
     "execution_count": 27,
     "metadata": {},
     "output_type": "execute_result"
    }
   ],
   "source": [
    "nadac[nadac['NDC'] == 60505026101]"
   ]
  },
  {
   "cell_type": "code",
   "execution_count": 28,
   "metadata": {},
   "outputs": [
    {
     "data": {
      "text/plain": [
       "'60505-6101'"
      ]
     },
     "execution_count": 28,
     "metadata": {},
     "output_type": "execute_result"
    }
   ],
   "source": [
    "ndc_matches[60505026101]"
   ]
  },
  {
   "cell_type": "code",
   "execution_count": 32,
   "metadata": {},
   "outputs": [
    {
     "data": {
      "text/plain": [
       "Index(['Unnamed: 0', 'marketing_start_date', 'product_type', 'product_id',\n",
       "       'marketing_category', 'route', 'generic_name', 'openfda', 'brand_name',\n",
       "       'brand_name_base', 'labeler_name', 'packaging', 'active_ingredients',\n",
       "       'product_ndc', 'finished', 'spl_id', 'application_number',\n",
       "       'listing_expiration_date', 'dosage_form', 'pharm_class',\n",
       "       'brand_name_suffix', 'marketing_end_date', 'dea_schedule'],\n",
       "      dtype='object')"
      ]
     },
     "execution_count": 32,
     "metadata": {},
     "output_type": "execute_result"
    }
   ],
   "source": [
    "ndc.columns"
   ]
  },
  {
   "cell_type": "code",
   "execution_count": 36,
   "metadata": {},
   "outputs": [
    {
     "data": {
      "text/html": [
       "<div>\n",
       "<style scoped>\n",
       "    .dataframe tbody tr th:only-of-type {\n",
       "        vertical-align: middle;\n",
       "    }\n",
       "\n",
       "    .dataframe tbody tr th {\n",
       "        vertical-align: top;\n",
       "    }\n",
       "\n",
       "    .dataframe thead th {\n",
       "        text-align: right;\n",
       "    }\n",
       "</style>\n",
       "<table border=\"1\" class=\"dataframe\">\n",
       "  <thead>\n",
       "    <tr style=\"text-align: right;\">\n",
       "      <th></th>\n",
       "      <th>Unnamed: 0</th>\n",
       "      <th>marketing_start_date</th>\n",
       "      <th>product_type</th>\n",
       "      <th>product_id</th>\n",
       "      <th>marketing_category</th>\n",
       "      <th>route</th>\n",
       "      <th>generic_name</th>\n",
       "      <th>openfda</th>\n",
       "      <th>brand_name</th>\n",
       "      <th>brand_name_base</th>\n",
       "      <th>...</th>\n",
       "      <th>product_ndc</th>\n",
       "      <th>finished</th>\n",
       "      <th>spl_id</th>\n",
       "      <th>application_number</th>\n",
       "      <th>listing_expiration_date</th>\n",
       "      <th>dosage_form</th>\n",
       "      <th>pharm_class</th>\n",
       "      <th>brand_name_suffix</th>\n",
       "      <th>marketing_end_date</th>\n",
       "      <th>dea_schedule</th>\n",
       "    </tr>\n",
       "  </thead>\n",
       "  <tbody>\n",
       "    <tr>\n",
       "      <th>47121</th>\n",
       "      <td>48207</td>\n",
       "      <td>20170717</td>\n",
       "      <td>HUMAN PRESCRIPTION DRUG</td>\n",
       "      <td>60505-6101_e1032ac4-affd-767b-4960-b26ecbaab80f</td>\n",
       "      <td>ANDA</td>\n",
       "      <td>['INTRAVENOUS']</td>\n",
       "      <td>bivalirudin</td>\n",
       "      <td>{'spl_set_id': ['3319d1ad-acaa-37dd-94cf-9c141...</td>\n",
       "      <td>Bivalirudin</td>\n",
       "      <td>Bivalirudin</td>\n",
       "      <td>...</td>\n",
       "      <td>60505-6101</td>\n",
       "      <td>True</td>\n",
       "      <td>e1032ac4-affd-767b-4960-b26ecbaab80f</td>\n",
       "      <td>ANDA204876</td>\n",
       "      <td>NaN</td>\n",
       "      <td>INJECTION, POWDER, LYOPHILIZED, FOR SOLUTION</td>\n",
       "      <td>['Anti-coagulant [EPC]', 'Direct Thrombin Inhi...</td>\n",
       "      <td>NaN</td>\n",
       "      <td>20210301.0</td>\n",
       "      <td>NaN</td>\n",
       "    </tr>\n",
       "  </tbody>\n",
       "</table>\n",
       "<p>1 rows × 23 columns</p>\n",
       "</div>"
      ],
      "text/plain": [
       "       Unnamed: 0  marketing_start_date             product_type  \\\n",
       "47121       48207              20170717  HUMAN PRESCRIPTION DRUG   \n",
       "\n",
       "                                            product_id marketing_category  \\\n",
       "47121  60505-6101_e1032ac4-affd-767b-4960-b26ecbaab80f               ANDA   \n",
       "\n",
       "                 route generic_name  \\\n",
       "47121  ['INTRAVENOUS']  bivalirudin   \n",
       "\n",
       "                                                 openfda   brand_name  \\\n",
       "47121  {'spl_set_id': ['3319d1ad-acaa-37dd-94cf-9c141...  Bivalirudin   \n",
       "\n",
       "      brand_name_base  ... product_ndc finished  \\\n",
       "47121     Bivalirudin  ...  60505-6101     True   \n",
       "\n",
       "                                     spl_id application_number  \\\n",
       "47121  e1032ac4-affd-767b-4960-b26ecbaab80f         ANDA204876   \n",
       "\n",
       "       listing_expiration_date                                   dosage_form  \\\n",
       "47121                      NaN  INJECTION, POWDER, LYOPHILIZED, FOR SOLUTION   \n",
       "\n",
       "                                             pharm_class  brand_name_suffix  \\\n",
       "47121  ['Anti-coagulant [EPC]', 'Direct Thrombin Inhi...                NaN   \n",
       "\n",
       "      marketing_end_date dea_schedule  \n",
       "47121         20210301.0          NaN  \n",
       "\n",
       "[1 rows x 23 columns]"
      ]
     },
     "execution_count": 36,
     "metadata": {},
     "output_type": "execute_result"
    }
   ],
   "source": [
    "ndc[ndc['product_ndc']=='60505-6101']"
   ]
  },
  {
   "cell_type": "code",
   "execution_count": 37,
   "metadata": {},
   "outputs": [
    {
     "data": {
      "text/html": [
       "<div>\n",
       "<style scoped>\n",
       "    .dataframe tbody tr th:only-of-type {\n",
       "        vertical-align: middle;\n",
       "    }\n",
       "\n",
       "    .dataframe tbody tr th {\n",
       "        vertical-align: top;\n",
       "    }\n",
       "\n",
       "    .dataframe thead th {\n",
       "        text-align: right;\n",
       "    }\n",
       "</style>\n",
       "<table border=\"1\" class=\"dataframe\">\n",
       "  <thead>\n",
       "    <tr style=\"text-align: right;\">\n",
       "      <th></th>\n",
       "      <th>Unnamed: 0</th>\n",
       "      <th>NDC Description</th>\n",
       "      <th>NDC</th>\n",
       "      <th>NADAC_Per_Unit</th>\n",
       "      <th>Effective_Date</th>\n",
       "      <th>Pricing_Unit</th>\n",
       "      <th>Pharmacy_Type_Indicator</th>\n",
       "      <th>OTC</th>\n",
       "      <th>Explanation_Code</th>\n",
       "      <th>Classification_for_Rate_Setting</th>\n",
       "      <th>Corresponding_Generic_Drug_NADAC_Per_Unit</th>\n",
       "      <th>Corresponding_Generic_Drug_Effective_Date</th>\n",
       "      <th>As of Date</th>\n",
       "    </tr>\n",
       "  </thead>\n",
       "  <tbody>\n",
       "    <tr>\n",
       "      <th>503</th>\n",
       "      <td>147609</td>\n",
       "      <td>AMLODIPINE-ATORVAST 10-10 MG</td>\n",
       "      <td>59762673007</td>\n",
       "      <td>3.58298</td>\n",
       "      <td>12/23/2015</td>\n",
       "      <td>EA</td>\n",
       "      <td>C/I</td>\n",
       "      <td>N</td>\n",
       "      <td>1, 6</td>\n",
       "      <td>G</td>\n",
       "      <td>NaN</td>\n",
       "      <td>NaN</td>\n",
       "      <td>12/30/2015</td>\n",
       "    </tr>\n",
       "  </tbody>\n",
       "</table>\n",
       "</div>"
      ],
      "text/plain": [
       "     Unnamed: 0               NDC Description          NDC  NADAC_Per_Unit  \\\n",
       "503      147609  AMLODIPINE-ATORVAST 10-10 MG  59762673007         3.58298   \n",
       "\n",
       "    Effective_Date Pricing_Unit Pharmacy_Type_Indicator OTC Explanation_Code  \\\n",
       "503     12/23/2015           EA                     C/I   N             1, 6   \n",
       "\n",
       "    Classification_for_Rate_Setting  \\\n",
       "503                               G   \n",
       "\n",
       "     Corresponding_Generic_Drug_NADAC_Per_Unit  \\\n",
       "503                                        NaN   \n",
       "\n",
       "    Corresponding_Generic_Drug_Effective_Date  As of Date  \n",
       "503                                       NaN  12/30/2015  "
      ]
     },
     "execution_count": 37,
     "metadata": {},
     "output_type": "execute_result"
    }
   ],
   "source": [
    "nadac[nadac['NDC'] == 59762673007]"
   ]
  },
  {
   "cell_type": "code",
   "execution_count": 38,
   "metadata": {},
   "outputs": [
    {
     "data": {
      "text/plain": [
       "'59762-6730'"
      ]
     },
     "execution_count": 38,
     "metadata": {},
     "output_type": "execute_result"
    }
   ],
   "source": [
    "ndc_matches[59762673007]"
   ]
  },
  {
   "cell_type": "code",
   "execution_count": 39,
   "metadata": {},
   "outputs": [
    {
     "data": {
      "text/html": [
       "<div>\n",
       "<style scoped>\n",
       "    .dataframe tbody tr th:only-of-type {\n",
       "        vertical-align: middle;\n",
       "    }\n",
       "\n",
       "    .dataframe tbody tr th {\n",
       "        vertical-align: top;\n",
       "    }\n",
       "\n",
       "    .dataframe thead th {\n",
       "        text-align: right;\n",
       "    }\n",
       "</style>\n",
       "<table border=\"1\" class=\"dataframe\">\n",
       "  <thead>\n",
       "    <tr style=\"text-align: right;\">\n",
       "      <th></th>\n",
       "      <th>Unnamed: 0</th>\n",
       "      <th>marketing_start_date</th>\n",
       "      <th>product_type</th>\n",
       "      <th>product_id</th>\n",
       "      <th>marketing_category</th>\n",
       "      <th>route</th>\n",
       "      <th>generic_name</th>\n",
       "      <th>openfda</th>\n",
       "      <th>brand_name</th>\n",
       "      <th>brand_name_base</th>\n",
       "      <th>...</th>\n",
       "      <th>product_ndc</th>\n",
       "      <th>finished</th>\n",
       "      <th>spl_id</th>\n",
       "      <th>application_number</th>\n",
       "      <th>listing_expiration_date</th>\n",
       "      <th>dosage_form</th>\n",
       "      <th>pharm_class</th>\n",
       "      <th>brand_name_suffix</th>\n",
       "      <th>marketing_end_date</th>\n",
       "      <th>dea_schedule</th>\n",
       "    </tr>\n",
       "  </thead>\n",
       "  <tbody>\n",
       "    <tr>\n",
       "      <th>98479</th>\n",
       "      <td>100799</td>\n",
       "      <td>20140404</td>\n",
       "      <td>HUMAN PRESCRIPTION DRUG</td>\n",
       "      <td>59762-6730_97aad811-2166-4af3-b137-5938d16a3c29</td>\n",
       "      <td>NDA AUTHORIZED GENERIC</td>\n",
       "      <td>['ORAL']</td>\n",
       "      <td>amlodipine besylate and atorvastatin calcium</td>\n",
       "      <td>{'manufacturer_name': ['Greenstone LLC'], 'uni...</td>\n",
       "      <td>Amlodipine besylate and Atorvastatin calcium</td>\n",
       "      <td>Amlodipine besylate and Atorvastatin calcium</td>\n",
       "      <td>...</td>\n",
       "      <td>59762-6730</td>\n",
       "      <td>True</td>\n",
       "      <td>97aad811-2166-4af3-b137-5938d16a3c29</td>\n",
       "      <td>NDA021540</td>\n",
       "      <td>20211231.0</td>\n",
       "      <td>TABLET, FILM COATED</td>\n",
       "      <td>['Calcium Channel Antagonists [MoA]', 'Dihydro...</td>\n",
       "      <td>NaN</td>\n",
       "      <td>NaN</td>\n",
       "      <td>NaN</td>\n",
       "    </tr>\n",
       "  </tbody>\n",
       "</table>\n",
       "<p>1 rows × 23 columns</p>\n",
       "</div>"
      ],
      "text/plain": [
       "       Unnamed: 0  marketing_start_date             product_type  \\\n",
       "98479      100799              20140404  HUMAN PRESCRIPTION DRUG   \n",
       "\n",
       "                                            product_id  \\\n",
       "98479  59762-6730_97aad811-2166-4af3-b137-5938d16a3c29   \n",
       "\n",
       "           marketing_category     route  \\\n",
       "98479  NDA AUTHORIZED GENERIC  ['ORAL']   \n",
       "\n",
       "                                       generic_name  \\\n",
       "98479  amlodipine besylate and atorvastatin calcium   \n",
       "\n",
       "                                                 openfda  \\\n",
       "98479  {'manufacturer_name': ['Greenstone LLC'], 'uni...   \n",
       "\n",
       "                                         brand_name  \\\n",
       "98479  Amlodipine besylate and Atorvastatin calcium   \n",
       "\n",
       "                                    brand_name_base  ... product_ndc finished  \\\n",
       "98479  Amlodipine besylate and Atorvastatin calcium  ...  59762-6730     True   \n",
       "\n",
       "                                     spl_id application_number  \\\n",
       "98479  97aad811-2166-4af3-b137-5938d16a3c29          NDA021540   \n",
       "\n",
       "       listing_expiration_date          dosage_form  \\\n",
       "98479               20211231.0  TABLET, FILM COATED   \n",
       "\n",
       "                                             pharm_class  brand_name_suffix  \\\n",
       "98479  ['Calcium Channel Antagonists [MoA]', 'Dihydro...                NaN   \n",
       "\n",
       "      marketing_end_date dea_schedule  \n",
       "98479                NaN          NaN  \n",
       "\n",
       "[1 rows x 23 columns]"
      ]
     },
     "execution_count": 39,
     "metadata": {},
     "output_type": "execute_result"
    }
   ],
   "source": [
    "ndc[ndc['product_ndc']== '59762-6730' ]"
   ]
  },
  {
   "cell_type": "code",
   "execution_count": 52,
   "metadata": {},
   "outputs": [],
   "source": [
    "def check_match(key):\n",
    "    print(nadac[nadac['NDC'] == key]['NDC Description'])\n",
    "    num = ndc_matches[key]\n",
    "    print(ndc[ndc['product_ndc']== num ]['generic_name'])\n",
    "    return ndc[ndc['product_ndc']== num ]"
   ]
  },
  {
   "cell_type": "code",
   "execution_count": 53,
   "metadata": {},
   "outputs": [
    {
     "data": {
      "text/plain": [
       "dict_keys([60505026101, 59762673007, 378408501, 59762673207, 55111061010, 60505026201, 904649035, 59762672007, 51672529701, 59762673107, 378087316, 13811068210, 59762672107, 60505317007, 51672529601, 10147076100, 40085020190, 10147078100, 59762672207, 59762369002, 378008701, 51672528107, 60505261606, 51672135302, 172365000, 60505700602, 378001801, 11523716001, 60505362009, 59762306002, 378008501, 60505276105, 51525590101, 11523433203, 11523716003, 8121130, 11523432501, 60505700900, 60505700200, 59762673301, 76329826101, 904762331, 11523432701, 59762669103, 59762600201, 6007131, 60505376009, 259477040, 11523131402, 11523721402, 60505700800, 59762669203, 15127055108, 60505602102, 11523715802, 11523170201, 51672125301, 60505700802, 11523726803, 11523414002, 11523116703, 11523178301, 51672527604, 378087216, 3142811, 60505700902, 51672527803, 60505264101, 378018410, 60505700600, 172541060, 378628001, 11523723708, 378018401, 59762671101, 11523432803, 51672527804, 13925050910, 378008401, 55566650003, 378018505, 603568428, 60505265105, 11523116705, 185070401, 59762672205, 59762671001, 59762673201, 60505316209, 378087116, 59762669005, 11523723705, 59762669008, 11523720203, 60505276205, 11523726808, 11523716103, 6007154, 59762673101, 11523715703, 11523432601, 60505700400, 11523716301, 76329906100, 51079099201, 11523715702, 59762669105, 11523314201, 4035730, 603760715, 51672529404, 224050090, 11523131401, 11523716005, 59762672201, 11523723402, 10147170003, 378018701, 59762669003, 60505017007, 51079099101, 11523432202, 228258809, 51672405204, 59762672301, 60505362103, 51672529503, 378086005, 59762673001, 11523715708, 11523726501, 11523715403, 59762673105, 6046405, 11523716202, 60505278008, 11523723404, 11523432502, 13925050950, 6027554, 6011754, 11523723706, 11523433202, 59762669208, 603592716, 11523716203, 59762672001, 228402411, 60505700100, 51672125302, 60505260908, 11523720008, 378075110, 11523116706, 60505362109, 60505361803, 378618001, 187515060, 3142711, 11523115901, 59762669108, 378680501, 11523416102, 59762672005, 59762673205, 60505700300, 378087199, 59762673005, 378087399, 10888500202, 60505017009, 60505017008, 186074331, 378638001, 51672127502, 378408401, 11523726503, 11523720401, 11523432802, 11523723701, 781104801, 378808805, 11523716002, 378082501, 11523723403, 51672207502, 4006801, 11523720001, 60505378009, 60505261506, 11523716201, 11523720201, 186051060, 60505264201, 17433987603, 60505700102, 378086001, 51672527704])"
      ]
     },
     "execution_count": 53,
     "metadata": {},
     "output_type": "execute_result"
    }
   ],
   "source": [
    "ndc_matches.keys()"
   ]
  },
  {
   "cell_type": "code",
   "execution_count": 56,
   "metadata": {},
   "outputs": [
    {
     "name": "stdout",
     "output_type": "stream",
     "text": [
      "133    BENAZEPRIL-HYDROCHLOROTHIAZIDE 5-6.25 MG TAB\n",
      "Name: NDC Description, dtype: object\n",
      "47121    bivalirudin\n",
      "Name: generic_name, dtype: object\n"
     ]
    },
    {
     "data": {
      "text/html": [
       "<div>\n",
       "<style scoped>\n",
       "    .dataframe tbody tr th:only-of-type {\n",
       "        vertical-align: middle;\n",
       "    }\n",
       "\n",
       "    .dataframe tbody tr th {\n",
       "        vertical-align: top;\n",
       "    }\n",
       "\n",
       "    .dataframe thead th {\n",
       "        text-align: right;\n",
       "    }\n",
       "</style>\n",
       "<table border=\"1\" class=\"dataframe\">\n",
       "  <thead>\n",
       "    <tr style=\"text-align: right;\">\n",
       "      <th></th>\n",
       "      <th>Unnamed: 0</th>\n",
       "      <th>marketing_start_date</th>\n",
       "      <th>product_type</th>\n",
       "      <th>product_id</th>\n",
       "      <th>marketing_category</th>\n",
       "      <th>route</th>\n",
       "      <th>generic_name</th>\n",
       "      <th>openfda</th>\n",
       "      <th>brand_name</th>\n",
       "      <th>brand_name_base</th>\n",
       "      <th>...</th>\n",
       "      <th>product_ndc</th>\n",
       "      <th>finished</th>\n",
       "      <th>spl_id</th>\n",
       "      <th>application_number</th>\n",
       "      <th>listing_expiration_date</th>\n",
       "      <th>dosage_form</th>\n",
       "      <th>pharm_class</th>\n",
       "      <th>brand_name_suffix</th>\n",
       "      <th>marketing_end_date</th>\n",
       "      <th>dea_schedule</th>\n",
       "    </tr>\n",
       "  </thead>\n",
       "  <tbody>\n",
       "    <tr>\n",
       "      <th>47121</th>\n",
       "      <td>48207</td>\n",
       "      <td>20170717</td>\n",
       "      <td>HUMAN PRESCRIPTION DRUG</td>\n",
       "      <td>60505-6101_e1032ac4-affd-767b-4960-b26ecbaab80f</td>\n",
       "      <td>ANDA</td>\n",
       "      <td>['INTRAVENOUS']</td>\n",
       "      <td>bivalirudin</td>\n",
       "      <td>{'spl_set_id': ['3319d1ad-acaa-37dd-94cf-9c141...</td>\n",
       "      <td>Bivalirudin</td>\n",
       "      <td>Bivalirudin</td>\n",
       "      <td>...</td>\n",
       "      <td>60505-6101</td>\n",
       "      <td>True</td>\n",
       "      <td>e1032ac4-affd-767b-4960-b26ecbaab80f</td>\n",
       "      <td>ANDA204876</td>\n",
       "      <td>NaN</td>\n",
       "      <td>INJECTION, POWDER, LYOPHILIZED, FOR SOLUTION</td>\n",
       "      <td>['Anti-coagulant [EPC]', 'Direct Thrombin Inhi...</td>\n",
       "      <td>NaN</td>\n",
       "      <td>20210301.0</td>\n",
       "      <td>NaN</td>\n",
       "    </tr>\n",
       "  </tbody>\n",
       "</table>\n",
       "<p>1 rows × 23 columns</p>\n",
       "</div>"
      ],
      "text/plain": [
       "       Unnamed: 0  marketing_start_date             product_type  \\\n",
       "47121       48207              20170717  HUMAN PRESCRIPTION DRUG   \n",
       "\n",
       "                                            product_id marketing_category  \\\n",
       "47121  60505-6101_e1032ac4-affd-767b-4960-b26ecbaab80f               ANDA   \n",
       "\n",
       "                 route generic_name  \\\n",
       "47121  ['INTRAVENOUS']  bivalirudin   \n",
       "\n",
       "                                                 openfda   brand_name  \\\n",
       "47121  {'spl_set_id': ['3319d1ad-acaa-37dd-94cf-9c141...  Bivalirudin   \n",
       "\n",
       "      brand_name_base  ... product_ndc finished  \\\n",
       "47121     Bivalirudin  ...  60505-6101     True   \n",
       "\n",
       "                                     spl_id application_number  \\\n",
       "47121  e1032ac4-affd-767b-4960-b26ecbaab80f         ANDA204876   \n",
       "\n",
       "       listing_expiration_date                                   dosage_form  \\\n",
       "47121                      NaN  INJECTION, POWDER, LYOPHILIZED, FOR SOLUTION   \n",
       "\n",
       "                                             pharm_class  brand_name_suffix  \\\n",
       "47121  ['Anti-coagulant [EPC]', 'Direct Thrombin Inhi...                NaN   \n",
       "\n",
       "      marketing_end_date dea_schedule  \n",
       "47121         20210301.0          NaN  \n",
       "\n",
       "[1 rows x 23 columns]"
      ]
     },
     "execution_count": 56,
     "metadata": {},
     "output_type": "execute_result"
    }
   ],
   "source": [
    "check_match(60505026101)\n",
    "#Does not match"
   ]
  },
  {
   "cell_type": "code",
   "execution_count": 57,
   "metadata": {},
   "outputs": [
    {
     "name": "stdout",
     "output_type": "stream",
     "text": [
      "503    AMLODIPINE-ATORVAST 10-10 MG\n",
      "Name: NDC Description, dtype: object\n",
      "98479    amlodipine besylate and atorvastatin calcium\n",
      "Name: generic_name, dtype: object\n"
     ]
    },
    {
     "data": {
      "text/html": [
       "<div>\n",
       "<style scoped>\n",
       "    .dataframe tbody tr th:only-of-type {\n",
       "        vertical-align: middle;\n",
       "    }\n",
       "\n",
       "    .dataframe tbody tr th {\n",
       "        vertical-align: top;\n",
       "    }\n",
       "\n",
       "    .dataframe thead th {\n",
       "        text-align: right;\n",
       "    }\n",
       "</style>\n",
       "<table border=\"1\" class=\"dataframe\">\n",
       "  <thead>\n",
       "    <tr style=\"text-align: right;\">\n",
       "      <th></th>\n",
       "      <th>Unnamed: 0</th>\n",
       "      <th>marketing_start_date</th>\n",
       "      <th>product_type</th>\n",
       "      <th>product_id</th>\n",
       "      <th>marketing_category</th>\n",
       "      <th>route</th>\n",
       "      <th>generic_name</th>\n",
       "      <th>openfda</th>\n",
       "      <th>brand_name</th>\n",
       "      <th>brand_name_base</th>\n",
       "      <th>...</th>\n",
       "      <th>product_ndc</th>\n",
       "      <th>finished</th>\n",
       "      <th>spl_id</th>\n",
       "      <th>application_number</th>\n",
       "      <th>listing_expiration_date</th>\n",
       "      <th>dosage_form</th>\n",
       "      <th>pharm_class</th>\n",
       "      <th>brand_name_suffix</th>\n",
       "      <th>marketing_end_date</th>\n",
       "      <th>dea_schedule</th>\n",
       "    </tr>\n",
       "  </thead>\n",
       "  <tbody>\n",
       "    <tr>\n",
       "      <th>98479</th>\n",
       "      <td>100799</td>\n",
       "      <td>20140404</td>\n",
       "      <td>HUMAN PRESCRIPTION DRUG</td>\n",
       "      <td>59762-6730_97aad811-2166-4af3-b137-5938d16a3c29</td>\n",
       "      <td>NDA AUTHORIZED GENERIC</td>\n",
       "      <td>['ORAL']</td>\n",
       "      <td>amlodipine besylate and atorvastatin calcium</td>\n",
       "      <td>{'manufacturer_name': ['Greenstone LLC'], 'uni...</td>\n",
       "      <td>Amlodipine besylate and Atorvastatin calcium</td>\n",
       "      <td>Amlodipine besylate and Atorvastatin calcium</td>\n",
       "      <td>...</td>\n",
       "      <td>59762-6730</td>\n",
       "      <td>True</td>\n",
       "      <td>97aad811-2166-4af3-b137-5938d16a3c29</td>\n",
       "      <td>NDA021540</td>\n",
       "      <td>20211231.0</td>\n",
       "      <td>TABLET, FILM COATED</td>\n",
       "      <td>['Calcium Channel Antagonists [MoA]', 'Dihydro...</td>\n",
       "      <td>NaN</td>\n",
       "      <td>NaN</td>\n",
       "      <td>NaN</td>\n",
       "    </tr>\n",
       "  </tbody>\n",
       "</table>\n",
       "<p>1 rows × 23 columns</p>\n",
       "</div>"
      ],
      "text/plain": [
       "       Unnamed: 0  marketing_start_date             product_type  \\\n",
       "98479      100799              20140404  HUMAN PRESCRIPTION DRUG   \n",
       "\n",
       "                                            product_id  \\\n",
       "98479  59762-6730_97aad811-2166-4af3-b137-5938d16a3c29   \n",
       "\n",
       "           marketing_category     route  \\\n",
       "98479  NDA AUTHORIZED GENERIC  ['ORAL']   \n",
       "\n",
       "                                       generic_name  \\\n",
       "98479  amlodipine besylate and atorvastatin calcium   \n",
       "\n",
       "                                                 openfda  \\\n",
       "98479  {'manufacturer_name': ['Greenstone LLC'], 'uni...   \n",
       "\n",
       "                                         brand_name  \\\n",
       "98479  Amlodipine besylate and Atorvastatin calcium   \n",
       "\n",
       "                                    brand_name_base  ... product_ndc finished  \\\n",
       "98479  Amlodipine besylate and Atorvastatin calcium  ...  59762-6730     True   \n",
       "\n",
       "                                     spl_id application_number  \\\n",
       "98479  97aad811-2166-4af3-b137-5938d16a3c29          NDA021540   \n",
       "\n",
       "       listing_expiration_date          dosage_form  \\\n",
       "98479               20211231.0  TABLET, FILM COATED   \n",
       "\n",
       "                                             pharm_class  brand_name_suffix  \\\n",
       "98479  ['Calcium Channel Antagonists [MoA]', 'Dihydro...                NaN   \n",
       "\n",
       "      marketing_end_date dea_schedule  \n",
       "98479                NaN          NaN  \n",
       "\n",
       "[1 rows x 23 columns]"
      ]
     },
     "execution_count": 57,
     "metadata": {},
     "output_type": "execute_result"
    }
   ],
   "source": [
    "check_match(59762673007)\n",
    "#Matches! :)"
   ]
  },
  {
   "cell_type": "code",
   "execution_count": 54,
   "metadata": {},
   "outputs": [
    {
     "name": "stdout",
     "output_type": "stream",
     "text": [
      "587    DEXMETHYLPHENIDATE ER 40 MG CP\n",
      "Name: NDC Description, dtype: object\n",
      "4876    Dextrose (glucose), Levulose (fructose), Phosp...\n",
      "Name: generic_name, dtype: object\n"
     ]
    },
    {
     "data": {
      "text/html": [
       "<div>\n",
       "<style scoped>\n",
       "    .dataframe tbody tr th:only-of-type {\n",
       "        vertical-align: middle;\n",
       "    }\n",
       "\n",
       "    .dataframe tbody tr th {\n",
       "        vertical-align: top;\n",
       "    }\n",
       "\n",
       "    .dataframe thead th {\n",
       "        text-align: right;\n",
       "    }\n",
       "</style>\n",
       "<table border=\"1\" class=\"dataframe\">\n",
       "  <thead>\n",
       "    <tr style=\"text-align: right;\">\n",
       "      <th></th>\n",
       "      <th>Unnamed: 0</th>\n",
       "      <th>marketing_start_date</th>\n",
       "      <th>product_type</th>\n",
       "      <th>product_id</th>\n",
       "      <th>marketing_category</th>\n",
       "      <th>route</th>\n",
       "      <th>generic_name</th>\n",
       "      <th>openfda</th>\n",
       "      <th>brand_name</th>\n",
       "      <th>brand_name_base</th>\n",
       "      <th>...</th>\n",
       "      <th>product_ndc</th>\n",
       "      <th>finished</th>\n",
       "      <th>spl_id</th>\n",
       "      <th>application_number</th>\n",
       "      <th>listing_expiration_date</th>\n",
       "      <th>dosage_form</th>\n",
       "      <th>pharm_class</th>\n",
       "      <th>brand_name_suffix</th>\n",
       "      <th>marketing_end_date</th>\n",
       "      <th>dea_schedule</th>\n",
       "    </tr>\n",
       "  </thead>\n",
       "  <tbody>\n",
       "    <tr>\n",
       "      <th>4876</th>\n",
       "      <td>5023</td>\n",
       "      <td>20141104</td>\n",
       "      <td>HUMAN OTC DRUG</td>\n",
       "      <td>37808-501_f8185acc-bd46-4832-8cc4-9eee48fa58e5</td>\n",
       "      <td>UNAPPROVED DRUG OTHER</td>\n",
       "      <td>['ORAL']</td>\n",
       "      <td>Dextrose (glucose), Levulose (fructose), Phosp...</td>\n",
       "      <td>{'spl_set_id': ['8ecf4cba-a5fb-48f1-a590-1bb3f...</td>\n",
       "      <td>nausea relief</td>\n",
       "      <td>nausea relief</td>\n",
       "      <td>...</td>\n",
       "      <td>37808-501</td>\n",
       "      <td>True</td>\n",
       "      <td>f8185acc-bd46-4832-8cc4-9eee48fa58e5</td>\n",
       "      <td>NaN</td>\n",
       "      <td>20201231.0</td>\n",
       "      <td>SOLUTION</td>\n",
       "      <td>NaN</td>\n",
       "      <td>NaN</td>\n",
       "      <td>NaN</td>\n",
       "      <td>NaN</td>\n",
       "    </tr>\n",
       "  </tbody>\n",
       "</table>\n",
       "<p>1 rows × 23 columns</p>\n",
       "</div>"
      ],
      "text/plain": [
       "      Unnamed: 0  marketing_start_date    product_type  \\\n",
       "4876        5023              20141104  HUMAN OTC DRUG   \n",
       "\n",
       "                                          product_id     marketing_category  \\\n",
       "4876  37808-501_f8185acc-bd46-4832-8cc4-9eee48fa58e5  UNAPPROVED DRUG OTHER   \n",
       "\n",
       "         route                                       generic_name  \\\n",
       "4876  ['ORAL']  Dextrose (glucose), Levulose (fructose), Phosp...   \n",
       "\n",
       "                                                openfda     brand_name  \\\n",
       "4876  {'spl_set_id': ['8ecf4cba-a5fb-48f1-a590-1bb3f...  nausea relief   \n",
       "\n",
       "     brand_name_base  ... product_ndc finished  \\\n",
       "4876   nausea relief  ...   37808-501     True   \n",
       "\n",
       "                                    spl_id application_number  \\\n",
       "4876  f8185acc-bd46-4832-8cc4-9eee48fa58e5                NaN   \n",
       "\n",
       "      listing_expiration_date dosage_form pharm_class  brand_name_suffix  \\\n",
       "4876               20201231.0    SOLUTION         NaN                NaN   \n",
       "\n",
       "     marketing_end_date dea_schedule  \n",
       "4876                NaN          NaN  \n",
       "\n",
       "[1 rows x 23 columns]"
      ]
     },
     "execution_count": 54,
     "metadata": {},
     "output_type": "execute_result"
    }
   ],
   "source": [
    "check_match(378408501)\n",
    "#Does not match - ADHD med and nausea relief"
   ]
  },
  {
   "cell_type": "code",
   "execution_count": 58,
   "metadata": {},
   "outputs": [
    {
     "name": "stdout",
     "output_type": "stream",
     "text": [
      "700    AMLODIPINE-ATORVAST 10-40 MG\n",
      "Name: NDC Description, dtype: object\n",
      "124007    amlodipine besylate and atorvastatin calcium\n",
      "Name: generic_name, dtype: object\n"
     ]
    },
    {
     "data": {
      "text/html": [
       "<div>\n",
       "<style scoped>\n",
       "    .dataframe tbody tr th:only-of-type {\n",
       "        vertical-align: middle;\n",
       "    }\n",
       "\n",
       "    .dataframe tbody tr th {\n",
       "        vertical-align: top;\n",
       "    }\n",
       "\n",
       "    .dataframe thead th {\n",
       "        text-align: right;\n",
       "    }\n",
       "</style>\n",
       "<table border=\"1\" class=\"dataframe\">\n",
       "  <thead>\n",
       "    <tr style=\"text-align: right;\">\n",
       "      <th></th>\n",
       "      <th>Unnamed: 0</th>\n",
       "      <th>marketing_start_date</th>\n",
       "      <th>product_type</th>\n",
       "      <th>product_id</th>\n",
       "      <th>marketing_category</th>\n",
       "      <th>route</th>\n",
       "      <th>generic_name</th>\n",
       "      <th>openfda</th>\n",
       "      <th>brand_name</th>\n",
       "      <th>brand_name_base</th>\n",
       "      <th>...</th>\n",
       "      <th>product_ndc</th>\n",
       "      <th>finished</th>\n",
       "      <th>spl_id</th>\n",
       "      <th>application_number</th>\n",
       "      <th>listing_expiration_date</th>\n",
       "      <th>dosage_form</th>\n",
       "      <th>pharm_class</th>\n",
       "      <th>brand_name_suffix</th>\n",
       "      <th>marketing_end_date</th>\n",
       "      <th>dea_schedule</th>\n",
       "    </tr>\n",
       "  </thead>\n",
       "  <tbody>\n",
       "    <tr>\n",
       "      <th>124007</th>\n",
       "      <td>126930</td>\n",
       "      <td>20140404</td>\n",
       "      <td>HUMAN PRESCRIPTION DRUG</td>\n",
       "      <td>59762-6732_97aad811-2166-4af3-b137-5938d16a3c29</td>\n",
       "      <td>NDA AUTHORIZED GENERIC</td>\n",
       "      <td>['ORAL']</td>\n",
       "      <td>amlodipine besylate and atorvastatin calcium</td>\n",
       "      <td>{'manufacturer_name': ['Greenstone LLC'], 'uni...</td>\n",
       "      <td>Amlodipine besylate and Atorvastatin calcium</td>\n",
       "      <td>Amlodipine besylate and Atorvastatin calcium</td>\n",
       "      <td>...</td>\n",
       "      <td>59762-6732</td>\n",
       "      <td>True</td>\n",
       "      <td>97aad811-2166-4af3-b137-5938d16a3c29</td>\n",
       "      <td>NDA021540</td>\n",
       "      <td>20211231.0</td>\n",
       "      <td>TABLET, FILM COATED</td>\n",
       "      <td>['Calcium Channel Antagonists [MoA]', 'Dihydro...</td>\n",
       "      <td>NaN</td>\n",
       "      <td>NaN</td>\n",
       "      <td>NaN</td>\n",
       "    </tr>\n",
       "  </tbody>\n",
       "</table>\n",
       "<p>1 rows × 23 columns</p>\n",
       "</div>"
      ],
      "text/plain": [
       "        Unnamed: 0  marketing_start_date             product_type  \\\n",
       "124007      126930              20140404  HUMAN PRESCRIPTION DRUG   \n",
       "\n",
       "                                             product_id  \\\n",
       "124007  59762-6732_97aad811-2166-4af3-b137-5938d16a3c29   \n",
       "\n",
       "            marketing_category     route  \\\n",
       "124007  NDA AUTHORIZED GENERIC  ['ORAL']   \n",
       "\n",
       "                                        generic_name  \\\n",
       "124007  amlodipine besylate and atorvastatin calcium   \n",
       "\n",
       "                                                  openfda  \\\n",
       "124007  {'manufacturer_name': ['Greenstone LLC'], 'uni...   \n",
       "\n",
       "                                          brand_name  \\\n",
       "124007  Amlodipine besylate and Atorvastatin calcium   \n",
       "\n",
       "                                     brand_name_base  ... product_ndc  \\\n",
       "124007  Amlodipine besylate and Atorvastatin calcium  ...  59762-6732   \n",
       "\n",
       "       finished                                spl_id application_number  \\\n",
       "124007     True  97aad811-2166-4af3-b137-5938d16a3c29          NDA021540   \n",
       "\n",
       "        listing_expiration_date          dosage_form  \\\n",
       "124007               20211231.0  TABLET, FILM COATED   \n",
       "\n",
       "                                              pharm_class  brand_name_suffix  \\\n",
       "124007  ['Calcium Channel Antagonists [MoA]', 'Dihydro...                NaN   \n",
       "\n",
       "       marketing_end_date dea_schedule  \n",
       "124007                NaN          NaN  \n",
       "\n",
       "[1 rows x 23 columns]"
      ]
     },
     "execution_count": 58,
     "metadata": {},
     "output_type": "execute_result"
    }
   ],
   "source": [
    "check_match(59762673207)\n",
    "#matches"
   ]
  },
  {
   "cell_type": "code",
   "execution_count": 59,
   "metadata": {},
   "outputs": [
    {
     "name": "stdout",
     "output_type": "stream",
     "text": [
      "730    DULOXETINE HCL DR 60 MG CAP\n",
      "Name: NDC Description, dtype: object\n",
      "8600    alcohol\n",
      "Name: generic_name, dtype: object\n"
     ]
    },
    {
     "data": {
      "text/html": [
       "<div>\n",
       "<style scoped>\n",
       "    .dataframe tbody tr th:only-of-type {\n",
       "        vertical-align: middle;\n",
       "    }\n",
       "\n",
       "    .dataframe tbody tr th {\n",
       "        vertical-align: top;\n",
       "    }\n",
       "\n",
       "    .dataframe thead th {\n",
       "        text-align: right;\n",
       "    }\n",
       "</style>\n",
       "<table border=\"1\" class=\"dataframe\">\n",
       "  <thead>\n",
       "    <tr style=\"text-align: right;\">\n",
       "      <th></th>\n",
       "      <th>Unnamed: 0</th>\n",
       "      <th>marketing_start_date</th>\n",
       "      <th>product_type</th>\n",
       "      <th>product_id</th>\n",
       "      <th>marketing_category</th>\n",
       "      <th>route</th>\n",
       "      <th>generic_name</th>\n",
       "      <th>openfda</th>\n",
       "      <th>brand_name</th>\n",
       "      <th>brand_name_base</th>\n",
       "      <th>...</th>\n",
       "      <th>product_ndc</th>\n",
       "      <th>finished</th>\n",
       "      <th>spl_id</th>\n",
       "      <th>application_number</th>\n",
       "      <th>listing_expiration_date</th>\n",
       "      <th>dosage_form</th>\n",
       "      <th>pharm_class</th>\n",
       "      <th>brand_name_suffix</th>\n",
       "      <th>marketing_end_date</th>\n",
       "      <th>dea_schedule</th>\n",
       "    </tr>\n",
       "  </thead>\n",
       "  <tbody>\n",
       "    <tr>\n",
       "      <th>8600</th>\n",
       "      <td>8772</td>\n",
       "      <td>20130807</td>\n",
       "      <td>HUMAN OTC DRUG</td>\n",
       "      <td>61010-5111_d6138e2e-98eb-4fc7-bea2-600dcc8a4f57</td>\n",
       "      <td>OTC MONOGRAPH NOT FINAL</td>\n",
       "      <td>['TOPICAL']</td>\n",
       "      <td>alcohol</td>\n",
       "      <td>{'spl_set_id': ['f9e30645-491b-4f54-acfd-f863e...</td>\n",
       "      <td>Instant Hand Sanitizer</td>\n",
       "      <td>Instant Hand Sanitizer</td>\n",
       "      <td>...</td>\n",
       "      <td>61010-5111</td>\n",
       "      <td>True</td>\n",
       "      <td>d6138e2e-98eb-4fc7-bea2-600dcc8a4f57</td>\n",
       "      <td>part333E</td>\n",
       "      <td>20201231.0</td>\n",
       "      <td>GEL</td>\n",
       "      <td>NaN</td>\n",
       "      <td>NaN</td>\n",
       "      <td>NaN</td>\n",
       "      <td>NaN</td>\n",
       "    </tr>\n",
       "  </tbody>\n",
       "</table>\n",
       "<p>1 rows × 23 columns</p>\n",
       "</div>"
      ],
      "text/plain": [
       "      Unnamed: 0  marketing_start_date    product_type  \\\n",
       "8600        8772              20130807  HUMAN OTC DRUG   \n",
       "\n",
       "                                           product_id  \\\n",
       "8600  61010-5111_d6138e2e-98eb-4fc7-bea2-600dcc8a4f57   \n",
       "\n",
       "           marketing_category        route generic_name  \\\n",
       "8600  OTC MONOGRAPH NOT FINAL  ['TOPICAL']      alcohol   \n",
       "\n",
       "                                                openfda  \\\n",
       "8600  {'spl_set_id': ['f9e30645-491b-4f54-acfd-f863e...   \n",
       "\n",
       "                  brand_name         brand_name_base  ... product_ndc  \\\n",
       "8600  Instant Hand Sanitizer  Instant Hand Sanitizer  ...  61010-5111   \n",
       "\n",
       "     finished                                spl_id application_number  \\\n",
       "8600     True  d6138e2e-98eb-4fc7-bea2-600dcc8a4f57           part333E   \n",
       "\n",
       "      listing_expiration_date dosage_form pharm_class  brand_name_suffix  \\\n",
       "8600               20201231.0         GEL         NaN                NaN   \n",
       "\n",
       "     marketing_end_date dea_schedule  \n",
       "8600                NaN          NaN  \n",
       "\n",
       "[1 rows x 23 columns]"
      ]
     },
     "execution_count": 59,
     "metadata": {},
     "output_type": "execute_result"
    }
   ],
   "source": [
    "check_match(55111061010)\n",
    "#Does not match - SSRI, hand sanitizer"
   ]
  },
  {
   "cell_type": "code",
   "execution_count": 60,
   "metadata": {},
   "outputs": [
    {
     "name": "stdout",
     "output_type": "stream",
     "text": [
      "870    BENAZEPRIL-HYDROCHLOROTHIAZIDE 10-12.5 MG TAB\n",
      "Name: NDC Description, dtype: object\n",
      "47126    Fluticasone Propionate\n",
      "Name: generic_name, dtype: object\n"
     ]
    },
    {
     "data": {
      "text/html": [
       "<div>\n",
       "<style scoped>\n",
       "    .dataframe tbody tr th:only-of-type {\n",
       "        vertical-align: middle;\n",
       "    }\n",
       "\n",
       "    .dataframe tbody tr th {\n",
       "        vertical-align: top;\n",
       "    }\n",
       "\n",
       "    .dataframe thead th {\n",
       "        text-align: right;\n",
       "    }\n",
       "</style>\n",
       "<table border=\"1\" class=\"dataframe\">\n",
       "  <thead>\n",
       "    <tr style=\"text-align: right;\">\n",
       "      <th></th>\n",
       "      <th>Unnamed: 0</th>\n",
       "      <th>marketing_start_date</th>\n",
       "      <th>product_type</th>\n",
       "      <th>product_id</th>\n",
       "      <th>marketing_category</th>\n",
       "      <th>route</th>\n",
       "      <th>generic_name</th>\n",
       "      <th>openfda</th>\n",
       "      <th>brand_name</th>\n",
       "      <th>brand_name_base</th>\n",
       "      <th>...</th>\n",
       "      <th>product_ndc</th>\n",
       "      <th>finished</th>\n",
       "      <th>spl_id</th>\n",
       "      <th>application_number</th>\n",
       "      <th>listing_expiration_date</th>\n",
       "      <th>dosage_form</th>\n",
       "      <th>pharm_class</th>\n",
       "      <th>brand_name_suffix</th>\n",
       "      <th>marketing_end_date</th>\n",
       "      <th>dea_schedule</th>\n",
       "    </tr>\n",
       "  </thead>\n",
       "  <tbody>\n",
       "    <tr>\n",
       "      <th>47126</th>\n",
       "      <td>48212</td>\n",
       "      <td>20180418</td>\n",
       "      <td>HUMAN OTC DRUG</td>\n",
       "      <td>60505-6201_33fa046f-8e66-75e1-7541-5cfd910f72d4</td>\n",
       "      <td>ANDA</td>\n",
       "      <td>['NASAL']</td>\n",
       "      <td>Fluticasone Propionate</td>\n",
       "      <td>{'spl_set_id': ['bfbb8f99-943d-a2a1-53c0-de81f...</td>\n",
       "      <td>Fluticasone Propionate</td>\n",
       "      <td>Fluticasone Propionate</td>\n",
       "      <td>...</td>\n",
       "      <td>60505-6201</td>\n",
       "      <td>True</td>\n",
       "      <td>33fa046f-8e66-75e1-7541-5cfd910f72d4</td>\n",
       "      <td>ANDA208150</td>\n",
       "      <td>20201231.0</td>\n",
       "      <td>SPRAY, METERED</td>\n",
       "      <td>NaN</td>\n",
       "      <td>NaN</td>\n",
       "      <td>NaN</td>\n",
       "      <td>NaN</td>\n",
       "    </tr>\n",
       "  </tbody>\n",
       "</table>\n",
       "<p>1 rows × 23 columns</p>\n",
       "</div>"
      ],
      "text/plain": [
       "       Unnamed: 0  marketing_start_date    product_type  \\\n",
       "47126       48212              20180418  HUMAN OTC DRUG   \n",
       "\n",
       "                                            product_id marketing_category  \\\n",
       "47126  60505-6201_33fa046f-8e66-75e1-7541-5cfd910f72d4               ANDA   \n",
       "\n",
       "           route            generic_name  \\\n",
       "47126  ['NASAL']  Fluticasone Propionate   \n",
       "\n",
       "                                                 openfda  \\\n",
       "47126  {'spl_set_id': ['bfbb8f99-943d-a2a1-53c0-de81f...   \n",
       "\n",
       "                   brand_name         brand_name_base  ... product_ndc  \\\n",
       "47126  Fluticasone Propionate  Fluticasone Propionate  ...  60505-6201   \n",
       "\n",
       "      finished                                spl_id application_number  \\\n",
       "47126     True  33fa046f-8e66-75e1-7541-5cfd910f72d4         ANDA208150   \n",
       "\n",
       "       listing_expiration_date     dosage_form pharm_class  brand_name_suffix  \\\n",
       "47126               20201231.0  SPRAY, METERED         NaN                NaN   \n",
       "\n",
       "      marketing_end_date dea_schedule  \n",
       "47126                NaN          NaN  \n",
       "\n",
       "[1 rows x 23 columns]"
      ]
     },
     "execution_count": 60,
     "metadata": {},
     "output_type": "execute_result"
    }
   ],
   "source": [
    "check_match(60505026201)\n",
    "#does not match"
   ]
  },
  {
   "cell_type": "code",
   "execution_count": 62,
   "metadata": {},
   "outputs": [],
   "source": [
    "#They do not match very well\n",
    "#I am going to increase the matching score to 90\n",
    "#Append once something is added and move on\n",
    "#Print statements\n",
    "#Will start this in a second notebook, but keep this one to push for check-in 3"
   ]
  },
  {
   "cell_type": "code",
   "execution_count": 63,
   "metadata": {},
   "outputs": [
    {
     "data": {
      "text/html": [
       "<div>\n",
       "<style scoped>\n",
       "    .dataframe tbody tr th:only-of-type {\n",
       "        vertical-align: middle;\n",
       "    }\n",
       "\n",
       "    .dataframe tbody tr th {\n",
       "        vertical-align: top;\n",
       "    }\n",
       "\n",
       "    .dataframe thead th {\n",
       "        text-align: right;\n",
       "    }\n",
       "</style>\n",
       "<table border=\"1\" class=\"dataframe\">\n",
       "  <thead>\n",
       "    <tr style=\"text-align: right;\">\n",
       "      <th></th>\n",
       "      <th>Unnamed: 0</th>\n",
       "      <th>NDC Description</th>\n",
       "      <th>NDC</th>\n",
       "      <th>NADAC_Per_Unit</th>\n",
       "      <th>Effective_Date</th>\n",
       "      <th>Pricing_Unit</th>\n",
       "      <th>Pharmacy_Type_Indicator</th>\n",
       "      <th>OTC</th>\n",
       "      <th>Explanation_Code</th>\n",
       "      <th>Classification_for_Rate_Setting</th>\n",
       "      <th>Corresponding_Generic_Drug_NADAC_Per_Unit</th>\n",
       "      <th>Corresponding_Generic_Drug_Effective_Date</th>\n",
       "      <th>As of Date</th>\n",
       "      <th>ndc_code</th>\n",
       "    </tr>\n",
       "  </thead>\n",
       "  <tbody>\n",
       "    <tr>\n",
       "      <th>0</th>\n",
       "      <td>152</td>\n",
       "      <td>OLANZAPINE ODT 20 MG TABLET</td>\n",
       "      <td>65862065903</td>\n",
       "      <td>4.12341</td>\n",
       "      <td>12/23/2015</td>\n",
       "      <td>EA</td>\n",
       "      <td>C/I</td>\n",
       "      <td>N</td>\n",
       "      <td>1</td>\n",
       "      <td>G</td>\n",
       "      <td>NaN</td>\n",
       "      <td>NaN</td>\n",
       "      <td>12/30/2015</td>\n",
       "      <td>NaN</td>\n",
       "    </tr>\n",
       "    <tr>\n",
       "      <th>1</th>\n",
       "      <td>213</td>\n",
       "      <td>NYSTATIN 100,000 UNIT/GM POWD</td>\n",
       "      <td>904645602</td>\n",
       "      <td>0.60225</td>\n",
       "      <td>12/23/2015</td>\n",
       "      <td>GM</td>\n",
       "      <td>C/I</td>\n",
       "      <td>N</td>\n",
       "      <td>1, 5</td>\n",
       "      <td>G</td>\n",
       "      <td>NaN</td>\n",
       "      <td>NaN</td>\n",
       "      <td>12/30/2015</td>\n",
       "      <td>NaN</td>\n",
       "    </tr>\n",
       "    <tr>\n",
       "      <th>2</th>\n",
       "      <td>298</td>\n",
       "      <td>OLANZAPINE 10 MG TABLET</td>\n",
       "      <td>904637661</td>\n",
       "      <td>0.22020</td>\n",
       "      <td>12/23/2015</td>\n",
       "      <td>EA</td>\n",
       "      <td>C/I</td>\n",
       "      <td>N</td>\n",
       "      <td>1</td>\n",
       "      <td>G</td>\n",
       "      <td>NaN</td>\n",
       "      <td>NaN</td>\n",
       "      <td>12/30/2015</td>\n",
       "      <td>NaN</td>\n",
       "    </tr>\n",
       "    <tr>\n",
       "      <th>3</th>\n",
       "      <td>575</td>\n",
       "      <td>CELECOXIB 50 MG CAPSULE</td>\n",
       "      <td>13811065860</td>\n",
       "      <td>0.51850</td>\n",
       "      <td>11/11/2015</td>\n",
       "      <td>EA</td>\n",
       "      <td>C/I</td>\n",
       "      <td>N</td>\n",
       "      <td>4</td>\n",
       "      <td>G</td>\n",
       "      <td>NaN</td>\n",
       "      <td>NaN</td>\n",
       "      <td>12/30/2015</td>\n",
       "      <td>NaN</td>\n",
       "    </tr>\n",
       "    <tr>\n",
       "      <th>4</th>\n",
       "      <td>1168</td>\n",
       "      <td>LISINOPRIL 20 MG TABLET</td>\n",
       "      <td>51079098319</td>\n",
       "      <td>0.02633</td>\n",
       "      <td>12/17/2014</td>\n",
       "      <td>EA</td>\n",
       "      <td>C/I</td>\n",
       "      <td>N</td>\n",
       "      <td>1</td>\n",
       "      <td>G</td>\n",
       "      <td>NaN</td>\n",
       "      <td>NaN</td>\n",
       "      <td>12/31/2014</td>\n",
       "      <td>NaN</td>\n",
       "    </tr>\n",
       "  </tbody>\n",
       "</table>\n",
       "</div>"
      ],
      "text/plain": [
       "   Unnamed: 0                NDC Description          NDC  NADAC_Per_Unit  \\\n",
       "0         152    OLANZAPINE ODT 20 MG TABLET  65862065903         4.12341   \n",
       "1         213  NYSTATIN 100,000 UNIT/GM POWD    904645602         0.60225   \n",
       "2         298        OLANZAPINE 10 MG TABLET    904637661         0.22020   \n",
       "3         575        CELECOXIB 50 MG CAPSULE  13811065860         0.51850   \n",
       "4        1168        LISINOPRIL 20 MG TABLET  51079098319         0.02633   \n",
       "\n",
       "  Effective_Date Pricing_Unit Pharmacy_Type_Indicator OTC Explanation_Code  \\\n",
       "0     12/23/2015           EA                     C/I   N                1   \n",
       "1     12/23/2015           GM                     C/I   N             1, 5   \n",
       "2     12/23/2015           EA                     C/I   N                1   \n",
       "3     11/11/2015           EA                     C/I   N                4   \n",
       "4     12/17/2014           EA                     C/I   N                1   \n",
       "\n",
       "  Classification_for_Rate_Setting  Corresponding_Generic_Drug_NADAC_Per_Unit  \\\n",
       "0                               G                                        NaN   \n",
       "1                               G                                        NaN   \n",
       "2                               G                                        NaN   \n",
       "3                               G                                        NaN   \n",
       "4                               G                                        NaN   \n",
       "\n",
       "  Corresponding_Generic_Drug_Effective_Date  As of Date ndc_code  \n",
       "0                                       NaN  12/30/2015      NaN  \n",
       "1                                       NaN  12/30/2015      NaN  \n",
       "2                                       NaN  12/30/2015      NaN  \n",
       "3                                       NaN  12/30/2015      NaN  \n",
       "4                                       NaN  12/31/2014      NaN  "
      ]
     },
     "execution_count": 63,
     "metadata": {},
     "output_type": "execute_result"
    }
   ],
   "source": [
    "nadac['ndc_code'] = nadac['NDC'].map(ndc_matches)\n",
    "nadac.head()"
   ]
  },
  {
   "cell_type": "code",
   "execution_count": 65,
   "metadata": {},
   "outputs": [
    {
     "data": {
      "text/plain": [
       "Unnamed: 0                                   43222\n",
       "NDC Description                              43222\n",
       "NDC                                          43222\n",
       "NADAC_Per_Unit                               43222\n",
       "Effective_Date                               43222\n",
       "Pricing_Unit                                 43222\n",
       "Pharmacy_Type_Indicator                      43222\n",
       "OTC                                          43222\n",
       "Explanation_Code                             43222\n",
       "Classification_for_Rate_Setting              43222\n",
       "Corresponding_Generic_Drug_NADAC_Per_Unit     1961\n",
       "Corresponding_Generic_Drug_Effective_Date     1961\n",
       "As of Date                                   43222\n",
       "ndc_code                                       198\n",
       "dtype: int64"
      ]
     },
     "execution_count": 65,
     "metadata": {},
     "output_type": "execute_result"
    }
   ],
   "source": [
    "nadac.notnull().sum()"
   ]
  },
  {
   "cell_type": "code",
   "execution_count": 67,
   "metadata": {},
   "outputs": [
    {
     "data": {
      "text/plain": [
       "Index(['Unnamed: 0', 'marketing_start_date', 'product_type', 'product_id',\n",
       "       'marketing_category', 'route', 'generic_name', 'openfda', 'brand_name',\n",
       "       'brand_name_base', 'labeler_name', 'packaging', 'active_ingredients',\n",
       "       'product_ndc', 'finished', 'spl_id', 'application_number',\n",
       "       'listing_expiration_date', 'dosage_form', 'pharm_class',\n",
       "       'brand_name_suffix', 'marketing_end_date', 'dea_schedule'],\n",
       "      dtype='object')"
      ]
     },
     "execution_count": 67,
     "metadata": {},
     "output_type": "execute_result"
    }
   ],
   "source": [
    "ndc.columns"
   ]
  },
  {
   "cell_type": "code",
   "execution_count": 68,
   "metadata": {},
   "outputs": [],
   "source": [
    "ndc.rename(columns={'product_ndc':'ndc_code'}, inplace=True)"
   ]
  },
  {
   "cell_type": "code",
   "execution_count": 69,
   "metadata": {},
   "outputs": [],
   "source": [
    "nadac_ndc = pd.merge(nadac, ndc, on=['ndc_code'] )"
   ]
  },
  {
   "cell_type": "code",
   "execution_count": 70,
   "metadata": {},
   "outputs": [
    {
     "data": {
      "text/html": [
       "<div>\n",
       "<style scoped>\n",
       "    .dataframe tbody tr th:only-of-type {\n",
       "        vertical-align: middle;\n",
       "    }\n",
       "\n",
       "    .dataframe tbody tr th {\n",
       "        vertical-align: top;\n",
       "    }\n",
       "\n",
       "    .dataframe thead th {\n",
       "        text-align: right;\n",
       "    }\n",
       "</style>\n",
       "<table border=\"1\" class=\"dataframe\">\n",
       "  <thead>\n",
       "    <tr style=\"text-align: right;\">\n",
       "      <th></th>\n",
       "      <th>Unnamed: 0_x</th>\n",
       "      <th>NDC Description</th>\n",
       "      <th>NDC</th>\n",
       "      <th>NADAC_Per_Unit</th>\n",
       "      <th>Effective_Date</th>\n",
       "      <th>Pricing_Unit</th>\n",
       "      <th>Pharmacy_Type_Indicator</th>\n",
       "      <th>OTC</th>\n",
       "      <th>Explanation_Code</th>\n",
       "      <th>Classification_for_Rate_Setting</th>\n",
       "      <th>...</th>\n",
       "      <th>active_ingredients</th>\n",
       "      <th>finished</th>\n",
       "      <th>spl_id</th>\n",
       "      <th>application_number</th>\n",
       "      <th>listing_expiration_date</th>\n",
       "      <th>dosage_form</th>\n",
       "      <th>pharm_class</th>\n",
       "      <th>brand_name_suffix</th>\n",
       "      <th>marketing_end_date</th>\n",
       "      <th>dea_schedule</th>\n",
       "    </tr>\n",
       "  </thead>\n",
       "  <tbody>\n",
       "    <tr>\n",
       "      <th>0</th>\n",
       "      <td>108671</td>\n",
       "      <td>BENAZEPRIL-HYDROCHLOROTHIAZIDE 5-6.25 MG TAB</td>\n",
       "      <td>60505026101</td>\n",
       "      <td>1.48708</td>\n",
       "      <td>07/22/2015</td>\n",
       "      <td>EA</td>\n",
       "      <td>C/I</td>\n",
       "      <td>N</td>\n",
       "      <td>4</td>\n",
       "      <td>G</td>\n",
       "      <td>...</td>\n",
       "      <td>[{'strength': '250 mg/1', 'name': 'BIVALIRUDIN'}]</td>\n",
       "      <td>True</td>\n",
       "      <td>e1032ac4-affd-767b-4960-b26ecbaab80f</td>\n",
       "      <td>ANDA204876</td>\n",
       "      <td>NaN</td>\n",
       "      <td>INJECTION, POWDER, LYOPHILIZED, FOR SOLUTION</td>\n",
       "      <td>['Anti-coagulant [EPC]', 'Direct Thrombin Inhi...</td>\n",
       "      <td>NaN</td>\n",
       "      <td>20210301.0</td>\n",
       "      <td>NaN</td>\n",
       "    </tr>\n",
       "    <tr>\n",
       "      <th>1</th>\n",
       "      <td>1217978</td>\n",
       "      <td>HYDROCHLOROTHIAZIDE 50 MG TAB</td>\n",
       "      <td>60505264101</td>\n",
       "      <td>0.03750</td>\n",
       "      <td>12/17/2014</td>\n",
       "      <td>EA</td>\n",
       "      <td>C/I</td>\n",
       "      <td>N</td>\n",
       "      <td>1</td>\n",
       "      <td>G</td>\n",
       "      <td>...</td>\n",
       "      <td>[{'strength': '250 mg/1', 'name': 'BIVALIRUDIN'}]</td>\n",
       "      <td>True</td>\n",
       "      <td>e1032ac4-affd-767b-4960-b26ecbaab80f</td>\n",
       "      <td>ANDA204876</td>\n",
       "      <td>NaN</td>\n",
       "      <td>INJECTION, POWDER, LYOPHILIZED, FOR SOLUTION</td>\n",
       "      <td>['Anti-coagulant [EPC]', 'Direct Thrombin Inhi...</td>\n",
       "      <td>NaN</td>\n",
       "      <td>20210301.0</td>\n",
       "      <td>NaN</td>\n",
       "    </tr>\n",
       "    <tr>\n",
       "      <th>2</th>\n",
       "      <td>147609</td>\n",
       "      <td>AMLODIPINE-ATORVAST 10-10 MG</td>\n",
       "      <td>59762673007</td>\n",
       "      <td>3.58298</td>\n",
       "      <td>12/23/2015</td>\n",
       "      <td>EA</td>\n",
       "      <td>C/I</td>\n",
       "      <td>N</td>\n",
       "      <td>1, 6</td>\n",
       "      <td>G</td>\n",
       "      <td>...</td>\n",
       "      <td>[{'strength': '10 mg/1', 'name': 'AMLODIPINE B...</td>\n",
       "      <td>True</td>\n",
       "      <td>97aad811-2166-4af3-b137-5938d16a3c29</td>\n",
       "      <td>NDA021540</td>\n",
       "      <td>20211231.0</td>\n",
       "      <td>TABLET, FILM COATED</td>\n",
       "      <td>['Calcium Channel Antagonists [MoA]', 'Dihydro...</td>\n",
       "      <td>NaN</td>\n",
       "      <td>NaN</td>\n",
       "      <td>NaN</td>\n",
       "    </tr>\n",
       "    <tr>\n",
       "      <th>3</th>\n",
       "      <td>2168723</td>\n",
       "      <td>AMLODIPINE-ATORVAST 10-10 MG</td>\n",
       "      <td>59762673005</td>\n",
       "      <td>3.86789</td>\n",
       "      <td>12/17/2014</td>\n",
       "      <td>EA</td>\n",
       "      <td>C/I</td>\n",
       "      <td>N</td>\n",
       "      <td>1, 6</td>\n",
       "      <td>G</td>\n",
       "      <td>...</td>\n",
       "      <td>[{'strength': '10 mg/1', 'name': 'AMLODIPINE B...</td>\n",
       "      <td>True</td>\n",
       "      <td>97aad811-2166-4af3-b137-5938d16a3c29</td>\n",
       "      <td>NDA021540</td>\n",
       "      <td>20211231.0</td>\n",
       "      <td>TABLET, FILM COATED</td>\n",
       "      <td>['Calcium Channel Antagonists [MoA]', 'Dihydro...</td>\n",
       "      <td>NaN</td>\n",
       "      <td>NaN</td>\n",
       "      <td>NaN</td>\n",
       "    </tr>\n",
       "    <tr>\n",
       "      <th>4</th>\n",
       "      <td>156279</td>\n",
       "      <td>DEXMETHYLPHENIDATE ER 40 MG CP</td>\n",
       "      <td>378408501</td>\n",
       "      <td>6.18075</td>\n",
       "      <td>12/23/2015</td>\n",
       "      <td>EA</td>\n",
       "      <td>C/I</td>\n",
       "      <td>N</td>\n",
       "      <td>1</td>\n",
       "      <td>G</td>\n",
       "      <td>...</td>\n",
       "      <td>[{'strength': '1.87 g/5mL', 'name': 'DEXTROSE'...</td>\n",
       "      <td>True</td>\n",
       "      <td>f8185acc-bd46-4832-8cc4-9eee48fa58e5</td>\n",
       "      <td>NaN</td>\n",
       "      <td>20201231.0</td>\n",
       "      <td>SOLUTION</td>\n",
       "      <td>NaN</td>\n",
       "      <td>NaN</td>\n",
       "      <td>NaN</td>\n",
       "      <td>NaN</td>\n",
       "    </tr>\n",
       "  </tbody>\n",
       "</table>\n",
       "<p>5 rows × 36 columns</p>\n",
       "</div>"
      ],
      "text/plain": [
       "   Unnamed: 0_x                               NDC Description          NDC  \\\n",
       "0        108671  BENAZEPRIL-HYDROCHLOROTHIAZIDE 5-6.25 MG TAB  60505026101   \n",
       "1       1217978                 HYDROCHLOROTHIAZIDE 50 MG TAB  60505264101   \n",
       "2        147609                  AMLODIPINE-ATORVAST 10-10 MG  59762673007   \n",
       "3       2168723                  AMLODIPINE-ATORVAST 10-10 MG  59762673005   \n",
       "4        156279                DEXMETHYLPHENIDATE ER 40 MG CP    378408501   \n",
       "\n",
       "   NADAC_Per_Unit Effective_Date Pricing_Unit Pharmacy_Type_Indicator OTC  \\\n",
       "0         1.48708     07/22/2015           EA                     C/I   N   \n",
       "1         0.03750     12/17/2014           EA                     C/I   N   \n",
       "2         3.58298     12/23/2015           EA                     C/I   N   \n",
       "3         3.86789     12/17/2014           EA                     C/I   N   \n",
       "4         6.18075     12/23/2015           EA                     C/I   N   \n",
       "\n",
       "  Explanation_Code Classification_for_Rate_Setting  ...  \\\n",
       "0                4                               G  ...   \n",
       "1                1                               G  ...   \n",
       "2             1, 6                               G  ...   \n",
       "3             1, 6                               G  ...   \n",
       "4                1                               G  ...   \n",
       "\n",
       "                                  active_ingredients finished  \\\n",
       "0  [{'strength': '250 mg/1', 'name': 'BIVALIRUDIN'}]     True   \n",
       "1  [{'strength': '250 mg/1', 'name': 'BIVALIRUDIN'}]     True   \n",
       "2  [{'strength': '10 mg/1', 'name': 'AMLODIPINE B...     True   \n",
       "3  [{'strength': '10 mg/1', 'name': 'AMLODIPINE B...     True   \n",
       "4  [{'strength': '1.87 g/5mL', 'name': 'DEXTROSE'...     True   \n",
       "\n",
       "                                 spl_id application_number  \\\n",
       "0  e1032ac4-affd-767b-4960-b26ecbaab80f         ANDA204876   \n",
       "1  e1032ac4-affd-767b-4960-b26ecbaab80f         ANDA204876   \n",
       "2  97aad811-2166-4af3-b137-5938d16a3c29          NDA021540   \n",
       "3  97aad811-2166-4af3-b137-5938d16a3c29          NDA021540   \n",
       "4  f8185acc-bd46-4832-8cc4-9eee48fa58e5                NaN   \n",
       "\n",
       "   listing_expiration_date                                   dosage_form  \\\n",
       "0                      NaN  INJECTION, POWDER, LYOPHILIZED, FOR SOLUTION   \n",
       "1                      NaN  INJECTION, POWDER, LYOPHILIZED, FOR SOLUTION   \n",
       "2               20211231.0                           TABLET, FILM COATED   \n",
       "3               20211231.0                           TABLET, FILM COATED   \n",
       "4               20201231.0                                      SOLUTION   \n",
       "\n",
       "                                         pharm_class brand_name_suffix  \\\n",
       "0  ['Anti-coagulant [EPC]', 'Direct Thrombin Inhi...               NaN   \n",
       "1  ['Anti-coagulant [EPC]', 'Direct Thrombin Inhi...               NaN   \n",
       "2  ['Calcium Channel Antagonists [MoA]', 'Dihydro...               NaN   \n",
       "3  ['Calcium Channel Antagonists [MoA]', 'Dihydro...               NaN   \n",
       "4                                                NaN               NaN   \n",
       "\n",
       "  marketing_end_date dea_schedule  \n",
       "0         20210301.0          NaN  \n",
       "1         20210301.0          NaN  \n",
       "2                NaN          NaN  \n",
       "3                NaN          NaN  \n",
       "4                NaN          NaN  \n",
       "\n",
       "[5 rows x 36 columns]"
      ]
     },
     "execution_count": 70,
     "metadata": {},
     "output_type": "execute_result"
    }
   ],
   "source": [
    "nadac_ndc.head()"
   ]
  },
  {
   "cell_type": "code",
   "execution_count": 71,
   "metadata": {},
   "outputs": [
    {
     "data": {
      "text/plain": [
       "Unnamed: 0_x                                 198\n",
       "NDC Description                              198\n",
       "NDC                                          198\n",
       "NADAC_Per_Unit                               198\n",
       "Effective_Date                               198\n",
       "Pricing_Unit                                 198\n",
       "Pharmacy_Type_Indicator                      198\n",
       "OTC                                          198\n",
       "Explanation_Code                             198\n",
       "Classification_for_Rate_Setting              198\n",
       "Corresponding_Generic_Drug_NADAC_Per_Unit     36\n",
       "Corresponding_Generic_Drug_Effective_Date     36\n",
       "As of Date                                   198\n",
       "ndc_code                                     198\n",
       "Unnamed: 0_y                                 198\n",
       "marketing_start_date                         198\n",
       "product_type                                 198\n",
       "product_id                                   198\n",
       "marketing_category                           198\n",
       "route                                        186\n",
       "generic_name                                 198\n",
       "openfda                                      198\n",
       "brand_name                                   190\n",
       "brand_name_base                              190\n",
       "labeler_name                                 198\n",
       "packaging                                    189\n",
       "active_ingredients                           193\n",
       "finished                                     198\n",
       "spl_id                                       198\n",
       "application_number                           186\n",
       "listing_expiration_date                      191\n",
       "dosage_form                                  198\n",
       "pharm_class                                   86\n",
       "brand_name_suffix                             35\n",
       "marketing_end_date                             7\n",
       "dea_schedule                                  15\n",
       "dtype: int64"
      ]
     },
     "execution_count": 71,
     "metadata": {},
     "output_type": "execute_result"
    }
   ],
   "source": [
    "nadac_ndc.notnull().sum()"
   ]
  },
  {
   "cell_type": "code",
   "execution_count": 74,
   "metadata": {},
   "outputs": [
    {
     "data": {
      "text/plain": [
       "(198, 36)"
      ]
     },
     "execution_count": 74,
     "metadata": {},
     "output_type": "execute_result"
    }
   ],
   "source": [
    "nadac_ndc.shape"
   ]
  },
  {
   "cell_type": "code",
   "execution_count": 75,
   "metadata": {},
   "outputs": [
    {
     "data": {
      "text/plain": [
       "Unnamed: 0                                     int64\n",
       "NDC Description                               object\n",
       "NDC                                            int64\n",
       "NADAC_Per_Unit                               float64\n",
       "Effective_Date                                object\n",
       "Pricing_Unit                                  object\n",
       "Pharmacy_Type_Indicator                       object\n",
       "OTC                                           object\n",
       "Explanation_Code                              object\n",
       "Classification_for_Rate_Setting               object\n",
       "Corresponding_Generic_Drug_NADAC_Per_Unit    float64\n",
       "Corresponding_Generic_Drug_Effective_Date     object\n",
       "As of Date                                    object\n",
       "ndc_code                                      object\n",
       "dtype: object"
      ]
     },
     "execution_count": 75,
     "metadata": {},
     "output_type": "execute_result"
    }
   ],
   "source": [
    "nadac.dtypes"
   ]
  },
  {
   "cell_type": "code",
   "execution_count": 73,
   "metadata": {},
   "outputs": [
    {
     "ename": "ValueError",
     "evalue": "Found input variables with inconsistent numbers of samples: [36, 198]",
     "output_type": "error",
     "traceback": [
      "\u001b[1;31m---------------------------------------------------------------------------\u001b[0m",
      "\u001b[1;31mValueError\u001b[0m                                Traceback (most recent call last)",
      "\u001b[1;32m<ipython-input-73-b876eb19e0dd>\u001b[0m in \u001b[0;36m<module>\u001b[1;34m\u001b[0m\n\u001b[0;32m      5\u001b[0m \u001b[0my\u001b[0m \u001b[1;33m=\u001b[0m \u001b[0mnadac_ndc\u001b[0m\u001b[1;33m[\u001b[0m\u001b[1;34m'NADAC_Per_Unit'\u001b[0m\u001b[1;33m]\u001b[0m\u001b[1;33m\u001b[0m\u001b[1;33m\u001b[0m\u001b[0m\n\u001b[0;32m      6\u001b[0m \u001b[1;33m\u001b[0m\u001b[0m\n\u001b[1;32m----> 7\u001b[1;33m \u001b[0mX_train\u001b[0m\u001b[1;33m,\u001b[0m \u001b[0mX_test\u001b[0m\u001b[1;33m,\u001b[0m \u001b[0my_train\u001b[0m\u001b[1;33m,\u001b[0m \u001b[0my_test\u001b[0m \u001b[1;33m=\u001b[0m \u001b[0mtrain_test_split\u001b[0m\u001b[1;33m(\u001b[0m\u001b[0mX\u001b[0m\u001b[1;33m,\u001b[0m\u001b[0my\u001b[0m\u001b[1;33m,\u001b[0m \u001b[0mrandom_state\u001b[0m\u001b[1;33m=\u001b[0m\u001b[1;36m17\u001b[0m\u001b[1;33m)\u001b[0m\u001b[1;33m\u001b[0m\u001b[1;33m\u001b[0m\u001b[0m\n\u001b[0m",
      "\u001b[1;32m~\\anaconda3\\lib\\site-packages\\sklearn\\model_selection\\_split.py\u001b[0m in \u001b[0;36mtrain_test_split\u001b[1;34m(*arrays, **options)\u001b[0m\n\u001b[0;32m   2116\u001b[0m         \u001b[1;32mraise\u001b[0m \u001b[0mTypeError\u001b[0m\u001b[1;33m(\u001b[0m\u001b[1;34m\"Invalid parameters passed: %s\"\u001b[0m \u001b[1;33m%\u001b[0m \u001b[0mstr\u001b[0m\u001b[1;33m(\u001b[0m\u001b[0moptions\u001b[0m\u001b[1;33m)\u001b[0m\u001b[1;33m)\u001b[0m\u001b[1;33m\u001b[0m\u001b[1;33m\u001b[0m\u001b[0m\n\u001b[0;32m   2117\u001b[0m \u001b[1;33m\u001b[0m\u001b[0m\n\u001b[1;32m-> 2118\u001b[1;33m     \u001b[0marrays\u001b[0m \u001b[1;33m=\u001b[0m \u001b[0mindexable\u001b[0m\u001b[1;33m(\u001b[0m\u001b[1;33m*\u001b[0m\u001b[0marrays\u001b[0m\u001b[1;33m)\u001b[0m\u001b[1;33m\u001b[0m\u001b[1;33m\u001b[0m\u001b[0m\n\u001b[0m\u001b[0;32m   2119\u001b[0m \u001b[1;33m\u001b[0m\u001b[0m\n\u001b[0;32m   2120\u001b[0m     \u001b[0mn_samples\u001b[0m \u001b[1;33m=\u001b[0m \u001b[0m_num_samples\u001b[0m\u001b[1;33m(\u001b[0m\u001b[0marrays\u001b[0m\u001b[1;33m[\u001b[0m\u001b[1;36m0\u001b[0m\u001b[1;33m]\u001b[0m\u001b[1;33m)\u001b[0m\u001b[1;33m\u001b[0m\u001b[1;33m\u001b[0m\u001b[0m\n",
      "\u001b[1;32m~\\anaconda3\\lib\\site-packages\\sklearn\\utils\\validation.py\u001b[0m in \u001b[0;36mindexable\u001b[1;34m(*iterables)\u001b[0m\n\u001b[0;32m    246\u001b[0m     \"\"\"\n\u001b[0;32m    247\u001b[0m     \u001b[0mresult\u001b[0m \u001b[1;33m=\u001b[0m \u001b[1;33m[\u001b[0m\u001b[0m_make_indexable\u001b[0m\u001b[1;33m(\u001b[0m\u001b[0mX\u001b[0m\u001b[1;33m)\u001b[0m \u001b[1;32mfor\u001b[0m \u001b[0mX\u001b[0m \u001b[1;32min\u001b[0m \u001b[0miterables\u001b[0m\u001b[1;33m]\u001b[0m\u001b[1;33m\u001b[0m\u001b[1;33m\u001b[0m\u001b[0m\n\u001b[1;32m--> 248\u001b[1;33m     \u001b[0mcheck_consistent_length\u001b[0m\u001b[1;33m(\u001b[0m\u001b[1;33m*\u001b[0m\u001b[0mresult\u001b[0m\u001b[1;33m)\u001b[0m\u001b[1;33m\u001b[0m\u001b[1;33m\u001b[0m\u001b[0m\n\u001b[0m\u001b[0;32m    249\u001b[0m     \u001b[1;32mreturn\u001b[0m \u001b[0mresult\u001b[0m\u001b[1;33m\u001b[0m\u001b[1;33m\u001b[0m\u001b[0m\n\u001b[0;32m    250\u001b[0m \u001b[1;33m\u001b[0m\u001b[0m\n",
      "\u001b[1;32m~\\anaconda3\\lib\\site-packages\\sklearn\\utils\\validation.py\u001b[0m in \u001b[0;36mcheck_consistent_length\u001b[1;34m(*arrays)\u001b[0m\n\u001b[0;32m    210\u001b[0m     \u001b[1;32mif\u001b[0m \u001b[0mlen\u001b[0m\u001b[1;33m(\u001b[0m\u001b[0muniques\u001b[0m\u001b[1;33m)\u001b[0m \u001b[1;33m>\u001b[0m \u001b[1;36m1\u001b[0m\u001b[1;33m:\u001b[0m\u001b[1;33m\u001b[0m\u001b[1;33m\u001b[0m\u001b[0m\n\u001b[0;32m    211\u001b[0m         raise ValueError(\"Found input variables with inconsistent numbers of\"\n\u001b[1;32m--> 212\u001b[1;33m                          \" samples: %r\" % [int(l) for l in lengths])\n\u001b[0m\u001b[0;32m    213\u001b[0m \u001b[1;33m\u001b[0m\u001b[0m\n\u001b[0;32m    214\u001b[0m \u001b[1;33m\u001b[0m\u001b[0m\n",
      "\u001b[1;31mValueError\u001b[0m: Found input variables with inconsistent numbers of samples: [36, 198]"
     ]
    }
   ],
   "source": [
    "from sklearn.model_selection import train_test_split\n",
    "from sklearn.linear_model import LinearRegression\n",
    "\n",
    "X = [col for col in nadac_ndc if col != 'NADAC_per_unit']\n",
    "y = nadac_ndc['NADAC_Per_Unit']\n",
    "#Get Dummies\n",
    "#X_train, X_test, y_train, y_test = train_test_split(X,y, random_state=17)\n",
    "#linear regression"
   ]
  },
  {
   "cell_type": "code",
   "execution_count": null,
   "metadata": {},
   "outputs": [],
   "source": []
  }
 ],
 "metadata": {
  "kernelspec": {
   "display_name": "Python 3",
   "language": "python",
   "name": "python3"
  },
  "language_info": {
   "codemirror_mode": {
    "name": "ipython",
    "version": 3
   },
   "file_extension": ".py",
   "mimetype": "text/x-python",
   "name": "python",
   "nbconvert_exporter": "python",
   "pygments_lexer": "ipython3",
   "version": "3.7.6"
  }
 },
 "nbformat": 4,
 "nbformat_minor": 4
}
