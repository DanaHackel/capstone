{
 "cells": [
  {
   "cell_type": "code",
   "execution_count": null,
   "metadata": {},
   "outputs": [],
   "source": [
    "#after removing the outlier, I wanted to get the new summary"
   ]
  },
  {
   "cell_type": "code",
   "execution_count": 1,
   "metadata": {},
   "outputs": [],
   "source": [
    "import pandas as pd\n",
    "import numpy as np"
   ]
  },
  {
   "cell_type": "code",
   "execution_count": 2,
   "metadata": {},
   "outputs": [
    {
     "name": "stderr",
     "output_type": "stream",
     "text": [
      "C:\\Users\\12155\\anaconda3\\lib\\site-packages\\IPython\\core\\interactiveshell.py:3063: DtypeWarning: Columns (11) have mixed types.Specify dtype option on import or set low_memory=False.\n",
      "  interactivity=interactivity, compiler=compiler, result=result)\n"
     ]
    }
   ],
   "source": [
    "all_drugs = pd.read_csv('./data/all_drugs.csv')\n",
    "all_drugs.drop(index=125625, inplace=True)"
   ]
  },
  {
   "cell_type": "code",
   "execution_count": 3,
   "metadata": {},
   "outputs": [
    {
     "data": {
      "text/html": [
       "<div>\n",
       "<style scoped>\n",
       "    .dataframe tbody tr th:only-of-type {\n",
       "        vertical-align: middle;\n",
       "    }\n",
       "\n",
       "    .dataframe tbody tr th {\n",
       "        vertical-align: top;\n",
       "    }\n",
       "\n",
       "    .dataframe thead th {\n",
       "        text-align: right;\n",
       "    }\n",
       "</style>\n",
       "<table border=\"1\" class=\"dataframe\">\n",
       "  <thead>\n",
       "    <tr style=\"text-align: right;\">\n",
       "      <th></th>\n",
       "      <th>NDC</th>\n",
       "      <th>NADAC_Per_Unit</th>\n",
       "      <th>Corresponding_Generic_Drug_NADAC_Per_Unit</th>\n",
       "      <th>Unnamed: 0</th>\n",
       "      <th>Appl_No</th>\n",
       "      <th>Product_No</th>\n",
       "    </tr>\n",
       "  </thead>\n",
       "  <tbody>\n",
       "    <tr>\n",
       "      <th>count</th>\n",
       "      <td>1.269760e+05</td>\n",
       "      <td>126976.000000</td>\n",
       "      <td>95.000000</td>\n",
       "      <td>126976.000000</td>\n",
       "      <td>126976.000000</td>\n",
       "      <td>126976.000000</td>\n",
       "    </tr>\n",
       "    <tr>\n",
       "      <th>mean</th>\n",
       "      <td>4.036995e+10</td>\n",
       "      <td>1.525946</td>\n",
       "      <td>2.961639</td>\n",
       "      <td>28378.761262</td>\n",
       "      <td>113970.712135</td>\n",
       "      <td>2.013735</td>\n",
       "    </tr>\n",
       "    <tr>\n",
       "      <th>std</th>\n",
       "      <td>2.749963e+10</td>\n",
       "      <td>12.129198</td>\n",
       "      <td>5.117169</td>\n",
       "      <td>6227.083251</td>\n",
       "      <td>59995.887990</td>\n",
       "      <td>1.215779</td>\n",
       "    </tr>\n",
       "    <tr>\n",
       "      <th>min</th>\n",
       "      <td>2.445301e+06</td>\n",
       "      <td>0.000700</td>\n",
       "      <td>0.030880</td>\n",
       "      <td>14.000000</td>\n",
       "      <td>7073.000000</td>\n",
       "      <td>1.000000</td>\n",
       "    </tr>\n",
       "    <tr>\n",
       "      <th>25%</th>\n",
       "      <td>1.070201e+10</td>\n",
       "      <td>0.049040</td>\n",
       "      <td>0.207530</td>\n",
       "      <td>25566.750000</td>\n",
       "      <td>76110.000000</td>\n",
       "      <td>1.000000</td>\n",
       "    </tr>\n",
       "    <tr>\n",
       "      <th>50%</th>\n",
       "      <td>5.107902e+10</td>\n",
       "      <td>0.127610</td>\n",
       "      <td>1.193610</td>\n",
       "      <td>29439.000000</td>\n",
       "      <td>78708.000000</td>\n",
       "      <td>2.000000</td>\n",
       "    </tr>\n",
       "    <tr>\n",
       "      <th>75%</th>\n",
       "      <td>6.586201e+10</td>\n",
       "      <td>0.356400</td>\n",
       "      <td>3.297330</td>\n",
       "      <td>31352.000000</td>\n",
       "      <td>202168.000000</td>\n",
       "      <td>3.000000</td>\n",
       "    </tr>\n",
       "    <tr>\n",
       "      <th>max</th>\n",
       "      <td>7.643901e+10</td>\n",
       "      <td>346.904260</td>\n",
       "      <td>30.122190</td>\n",
       "      <td>38828.000000</td>\n",
       "      <td>213967.000000</td>\n",
       "      <td>6.000000</td>\n",
       "    </tr>\n",
       "  </tbody>\n",
       "</table>\n",
       "</div>"
      ],
      "text/plain": [
       "                NDC  NADAC_Per_Unit  \\\n",
       "count  1.269760e+05   126976.000000   \n",
       "mean   4.036995e+10        1.525946   \n",
       "std    2.749963e+10       12.129198   \n",
       "min    2.445301e+06        0.000700   \n",
       "25%    1.070201e+10        0.049040   \n",
       "50%    5.107902e+10        0.127610   \n",
       "75%    6.586201e+10        0.356400   \n",
       "max    7.643901e+10      346.904260   \n",
       "\n",
       "       Corresponding_Generic_Drug_NADAC_Per_Unit     Unnamed: 0  \\\n",
       "count                                  95.000000  126976.000000   \n",
       "mean                                    2.961639   28378.761262   \n",
       "std                                     5.117169    6227.083251   \n",
       "min                                     0.030880      14.000000   \n",
       "25%                                     0.207530   25566.750000   \n",
       "50%                                     1.193610   29439.000000   \n",
       "75%                                     3.297330   31352.000000   \n",
       "max                                    30.122190   38828.000000   \n",
       "\n",
       "             Appl_No     Product_No  \n",
       "count  126976.000000  126976.000000  \n",
       "mean   113970.712135       2.013735  \n",
       "std     59995.887990       1.215779  \n",
       "min      7073.000000       1.000000  \n",
       "25%     76110.000000       1.000000  \n",
       "50%     78708.000000       2.000000  \n",
       "75%    202168.000000       3.000000  \n",
       "max    213967.000000       6.000000  "
      ]
     },
     "execution_count": 3,
     "metadata": {},
     "output_type": "execute_result"
    }
   ],
   "source": [
    "all_drugs.describe()"
   ]
  },
  {
   "cell_type": "code",
   "execution_count": null,
   "metadata": {},
   "outputs": [],
   "source": []
  }
 ],
 "metadata": {
  "kernelspec": {
   "display_name": "Python 3",
   "language": "python",
   "name": "python3"
  },
  "language_info": {
   "codemirror_mode": {
    "name": "ipython",
    "version": 3
   },
   "file_extension": ".py",
   "mimetype": "text/x-python",
   "name": "python",
   "nbconvert_exporter": "python",
   "pygments_lexer": "ipython3",
   "version": "3.7.6"
  }
 },
 "nbformat": 4,
 "nbformat_minor": 4
}
