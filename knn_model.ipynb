{
 "cells": [
  {
   "cell_type": "code",
   "execution_count": null,
   "metadata": {},
   "outputs": [],
   "source": [
    "#running knn gridsearch on a separate notebook because the model_refine notebook was still running and I am inpatient"
   ]
  },
  {
   "cell_type": "code",
   "execution_count": 1,
   "metadata": {},
   "outputs": [],
   "source": [
    "import pandas as pd\n",
    "import numpy as np\n",
    "from sklearn.ensemble import AdaBoostRegressor\n",
    "from sklearn.neighbors import KNeighborsRegressor\n",
    "from sklearn.preprocessing import StandardScaler\n",
    "from sklearn.model_selection import GridSearchCV, train_test_split\n",
    "from sklearn.svm import LinearSVR\n",
    "from warnings import filterwarnings"
   ]
  },
  {
   "cell_type": "code",
   "execution_count": 2,
   "metadata": {},
   "outputs": [
    {
     "name": "stderr",
     "output_type": "stream",
     "text": [
      "C:\\Users\\12155\\anaconda3\\lib\\site-packages\\IPython\\core\\interactiveshell.py:3063: DtypeWarning: Columns (11) have mixed types.Specify dtype option on import or set low_memory=False.\n",
      "  interactivity=interactivity, compiler=compiler, result=result)\n"
     ]
    },
    {
     "data": {
      "text/html": [
       "<div>\n",
       "<style scoped>\n",
       "    .dataframe tbody tr th:only-of-type {\n",
       "        vertical-align: middle;\n",
       "    }\n",
       "\n",
       "    .dataframe tbody tr th {\n",
       "        vertical-align: top;\n",
       "    }\n",
       "\n",
       "    .dataframe thead th {\n",
       "        text-align: right;\n",
       "    }\n",
       "</style>\n",
       "<table border=\"1\" class=\"dataframe\">\n",
       "  <thead>\n",
       "    <tr style=\"text-align: right;\">\n",
       "      <th></th>\n",
       "      <th>key_0</th>\n",
       "      <th>NDC Description</th>\n",
       "      <th>NDC</th>\n",
       "      <th>NADAC_Per_Unit</th>\n",
       "      <th>Effective_Date</th>\n",
       "      <th>Pricing_Unit</th>\n",
       "      <th>Pharmacy_Type_Indicator</th>\n",
       "      <th>OTC</th>\n",
       "      <th>Explanation_Code</th>\n",
       "      <th>Classification_for_Rate_Setting</th>\n",
       "      <th>...</th>\n",
       "      <th>Appl_No</th>\n",
       "      <th>Product_No</th>\n",
       "      <th>TE_Code</th>\n",
       "      <th>Approval_Date</th>\n",
       "      <th>RLD</th>\n",
       "      <th>RS</th>\n",
       "      <th>Type</th>\n",
       "      <th>Applicant_Full_Name</th>\n",
       "      <th>dosage_form</th>\n",
       "      <th>route</th>\n",
       "    </tr>\n",
       "  </thead>\n",
       "  <tbody>\n",
       "    <tr>\n",
       "      <th>0</th>\n",
       "      <td>OLANZAPINE 10MG ORAL</td>\n",
       "      <td>OLANZAPINE 10MG TABLET</td>\n",
       "      <td>904637661</td>\n",
       "      <td>0.2202</td>\n",
       "      <td>12/23/2015</td>\n",
       "      <td>EA</td>\n",
       "      <td>C/I</td>\n",
       "      <td>N</td>\n",
       "      <td>1</td>\n",
       "      <td>G</td>\n",
       "      <td>...</td>\n",
       "      <td>204320</td>\n",
       "      <td>2</td>\n",
       "      <td>NaN</td>\n",
       "      <td>May 30, 2017</td>\n",
       "      <td>No</td>\n",
       "      <td>No</td>\n",
       "      <td>DISCN</td>\n",
       "      <td>AJANTA PHARMA LTD</td>\n",
       "      <td>TABLET, ORALLY DISINTEGRATING</td>\n",
       "      <td>ORAL</td>\n",
       "    </tr>\n",
       "    <tr>\n",
       "      <th>1</th>\n",
       "      <td>OLANZAPINE 10MG ORAL</td>\n",
       "      <td>OLANZAPINE 10MG TABLET</td>\n",
       "      <td>904637661</td>\n",
       "      <td>0.2202</td>\n",
       "      <td>12/23/2015</td>\n",
       "      <td>EA</td>\n",
       "      <td>C/I</td>\n",
       "      <td>N</td>\n",
       "      <td>1</td>\n",
       "      <td>G</td>\n",
       "      <td>...</td>\n",
       "      <td>91265</td>\n",
       "      <td>2</td>\n",
       "      <td>AB</td>\n",
       "      <td>Oct 24, 2011</td>\n",
       "      <td>No</td>\n",
       "      <td>No</td>\n",
       "      <td>RX</td>\n",
       "      <td>APOTEX INC</td>\n",
       "      <td>TABLET, ORALLY DISINTEGRATING</td>\n",
       "      <td>ORAL</td>\n",
       "    </tr>\n",
       "    <tr>\n",
       "      <th>2</th>\n",
       "      <td>OLANZAPINE 10MG ORAL</td>\n",
       "      <td>OLANZAPINE 10MG TABLET</td>\n",
       "      <td>904637661</td>\n",
       "      <td>0.2202</td>\n",
       "      <td>12/23/2015</td>\n",
       "      <td>EA</td>\n",
       "      <td>C/I</td>\n",
       "      <td>N</td>\n",
       "      <td>1</td>\n",
       "      <td>G</td>\n",
       "      <td>...</td>\n",
       "      <td>203708</td>\n",
       "      <td>2</td>\n",
       "      <td>AB</td>\n",
       "      <td>May 15, 2014</td>\n",
       "      <td>No</td>\n",
       "      <td>No</td>\n",
       "      <td>RX</td>\n",
       "      <td>AUROBINDO PHARMA LTD</td>\n",
       "      <td>TABLET, ORALLY DISINTEGRATING</td>\n",
       "      <td>ORAL</td>\n",
       "    </tr>\n",
       "    <tr>\n",
       "      <th>3</th>\n",
       "      <td>OLANZAPINE 10MG ORAL</td>\n",
       "      <td>OLANZAPINE 10MG TABLET</td>\n",
       "      <td>904637661</td>\n",
       "      <td>0.2202</td>\n",
       "      <td>12/23/2015</td>\n",
       "      <td>EA</td>\n",
       "      <td>C/I</td>\n",
       "      <td>N</td>\n",
       "      <td>1</td>\n",
       "      <td>G</td>\n",
       "      <td>...</td>\n",
       "      <td>77243</td>\n",
       "      <td>2</td>\n",
       "      <td>AB</td>\n",
       "      <td>Jan 30, 2012</td>\n",
       "      <td>No</td>\n",
       "      <td>No</td>\n",
       "      <td>RX</td>\n",
       "      <td>BARR LABORATORIES INC</td>\n",
       "      <td>TABLET, ORALLY DISINTEGRATING</td>\n",
       "      <td>ORAL</td>\n",
       "    </tr>\n",
       "    <tr>\n",
       "      <th>4</th>\n",
       "      <td>OLANZAPINE 10MG ORAL</td>\n",
       "      <td>OLANZAPINE 10MG TABLET</td>\n",
       "      <td>904637661</td>\n",
       "      <td>0.2202</td>\n",
       "      <td>12/23/2015</td>\n",
       "      <td>EA</td>\n",
       "      <td>C/I</td>\n",
       "      <td>N</td>\n",
       "      <td>1</td>\n",
       "      <td>G</td>\n",
       "      <td>...</td>\n",
       "      <td>76534</td>\n",
       "      <td>2</td>\n",
       "      <td>AB</td>\n",
       "      <td>Oct 24, 2011</td>\n",
       "      <td>No</td>\n",
       "      <td>No</td>\n",
       "      <td>RX</td>\n",
       "      <td>DR REDDYS LABORATORIES LTD</td>\n",
       "      <td>TABLET, ORALLY DISINTEGRATING</td>\n",
       "      <td>ORAL</td>\n",
       "    </tr>\n",
       "  </tbody>\n",
       "</table>\n",
       "<p>5 rows × 30 columns</p>\n",
       "</div>"
      ],
      "text/plain": [
       "                  key_0         NDC Description        NDC  NADAC_Per_Unit  \\\n",
       "0  OLANZAPINE 10MG ORAL  OLANZAPINE 10MG TABLET  904637661          0.2202   \n",
       "1  OLANZAPINE 10MG ORAL  OLANZAPINE 10MG TABLET  904637661          0.2202   \n",
       "2  OLANZAPINE 10MG ORAL  OLANZAPINE 10MG TABLET  904637661          0.2202   \n",
       "3  OLANZAPINE 10MG ORAL  OLANZAPINE 10MG TABLET  904637661          0.2202   \n",
       "4  OLANZAPINE 10MG ORAL  OLANZAPINE 10MG TABLET  904637661          0.2202   \n",
       "\n",
       "  Effective_Date Pricing_Unit Pharmacy_Type_Indicator OTC Explanation_Code  \\\n",
       "0     12/23/2015           EA                     C/I   N                1   \n",
       "1     12/23/2015           EA                     C/I   N                1   \n",
       "2     12/23/2015           EA                     C/I   N                1   \n",
       "3     12/23/2015           EA                     C/I   N                1   \n",
       "4     12/23/2015           EA                     C/I   N                1   \n",
       "\n",
       "  Classification_for_Rate_Setting  ...  Appl_No Product_No TE_Code  \\\n",
       "0                               G  ...   204320          2     NaN   \n",
       "1                               G  ...    91265          2      AB   \n",
       "2                               G  ...   203708          2      AB   \n",
       "3                               G  ...    77243          2      AB   \n",
       "4                               G  ...    76534          2      AB   \n",
       "\n",
       "   Approval_Date RLD  RS   Type         Applicant_Full_Name  \\\n",
       "0   May 30, 2017  No  No  DISCN           AJANTA PHARMA LTD   \n",
       "1   Oct 24, 2011  No  No     RX                  APOTEX INC   \n",
       "2   May 15, 2014  No  No     RX        AUROBINDO PHARMA LTD   \n",
       "3   Jan 30, 2012  No  No     RX       BARR LABORATORIES INC   \n",
       "4   Oct 24, 2011  No  No     RX  DR REDDYS LABORATORIES LTD   \n",
       "\n",
       "                     dosage_form route  \n",
       "0  TABLET, ORALLY DISINTEGRATING  ORAL  \n",
       "1  TABLET, ORALLY DISINTEGRATING  ORAL  \n",
       "2  TABLET, ORALLY DISINTEGRATING  ORAL  \n",
       "3  TABLET, ORALLY DISINTEGRATING  ORAL  \n",
       "4  TABLET, ORALLY DISINTEGRATING  ORAL  \n",
       "\n",
       "[5 rows x 30 columns]"
      ]
     },
     "execution_count": 2,
     "metadata": {},
     "output_type": "execute_result"
    }
   ],
   "source": [
    "all_drugs = pd.read_csv('./data/all_drugs.csv')\n",
    "all_drugs.head()"
   ]
  },
  {
   "cell_type": "code",
   "execution_count": 4,
   "metadata": {},
   "outputs": [],
   "source": [
    "all_drugs.drop(index=125625, inplace=True)"
   ]
  },
  {
   "cell_type": "code",
   "execution_count": 5,
   "metadata": {},
   "outputs": [],
   "source": [
    "all_drugs.drop(columns=['Corresponding_Generic_Drug_Effective_Date', 'Unnamed: 0', 'DF;Route'], inplace=True) #remove unneeded columns\n",
    "features =  all_drugs[['NDC Description','Pharmacy_Type_Indicator', 'Classification_for_Rate_Setting', 'dosage_form', 'route', #specify columns I want to use\n",
    "           'Ingredient', 'Type']].copy()\n",
    "feature_dummies = pd.get_dummies(features, columns = ['NDC Description','Pharmacy_Type_Indicator', 'Classification_for_Rate_Setting', 'dosage_form', 'route',\n",
    "           'Ingredient', 'Type'], drop_first=True) #get dummies\n",
    "X = feature_dummies\n",
    "y = all_drugs['NADAC_Per_Unit']"
   ]
  },
  {
   "cell_type": "code",
   "execution_count": 6,
   "metadata": {},
   "outputs": [],
   "source": [
    "sc = StandardScaler() #scale data\n",
    "X_sc = sc.fit_transform(X)\n",
    "\n",
    "X_train, X_test, y_train, y_test = train_test_split(X_sc, y, random_state=17)"
   ]
  },
  {
   "cell_type": "code",
   "execution_count": 7,
   "metadata": {},
   "outputs": [
    {
     "data": {
      "text/plain": [
       "KNeighborsRegressor(algorithm='auto', leaf_size=30, metric='minkowski',\n",
       "                    metric_params=None, n_jobs=None, n_neighbors=9, p=2,\n",
       "                    weights='distance')"
      ]
     },
     "execution_count": 7,
     "metadata": {},
     "output_type": "execute_result"
    }
   ],
   "source": [
    "knn = KNeighborsRegressor(n_neighbors = 9, weights = 'distance' )\n",
    "knn.fit(X_train, y_train)"
   ]
  },
  {
   "cell_type": "code",
   "execution_count": 8,
   "metadata": {},
   "outputs": [
    {
     "data": {
      "text/plain": [
       "0.9236967965505535"
      ]
     },
     "execution_count": 8,
     "metadata": {},
     "output_type": "execute_result"
    }
   ],
   "source": [
    "knn.score(X_train, y_train)"
   ]
  },
  {
   "cell_type": "code",
   "execution_count": 9,
   "metadata": {},
   "outputs": [
    {
     "data": {
      "text/plain": [
       "0.8930206881385168"
      ]
     },
     "execution_count": 9,
     "metadata": {},
     "output_type": "execute_result"
    }
   ],
   "source": [
    "knn.score(X_test, y_test)"
   ]
  },
  {
   "cell_type": "code",
   "execution_count": 12,
   "metadata": {},
   "outputs": [],
   "source": [
    "knn_preds = knn.predict(X_test)"
   ]
  },
  {
   "cell_type": "code",
   "execution_count": 14,
   "metadata": {},
   "outputs": [
    {
     "data": {
      "text/plain": [
       "4.249708026142643"
      ]
     },
     "execution_count": 14,
     "metadata": {},
     "output_type": "execute_result"
    }
   ],
   "source": [
    "from sklearn import metrics\n",
    "metrics.mean_squared_error(y_test, knn_preds, squared=False)"
   ]
  },
  {
   "cell_type": "code",
   "execution_count": 16,
   "metadata": {},
   "outputs": [
    {
     "data": {
      "image/png": "[encoded data removed]",
      "text/plain": [
       "<Figure size 432x288 with 1 Axes>"
      ]
     },
     "metadata": {
      "needs_background": "light"
     },
     "output_type": "display_data"
    }
   ],
   "source": [
    "import matplotlib.pyplot as plt\n",
    "plt.scatter(y_test, knn_preds)\n",
    "plt.title('Actual Price vs. Predicted Price, KNN')\n",
    "plt.xlabel('Actual Price')\n",
    "plt.ylabel('Predicted Price');"
   ]
  },
  {
   "cell_type": "code",
   "execution_count": null,
   "metadata": {},
   "outputs": [],
   "source": []
  }
 ],
 "metadata": {
  "kernelspec": {
   "display_name": "Python 3",
   "language": "python",
   "name": "python3"
  },
  "language_info": {
   "codemirror_mode": {
    "name": "ipython",
    "version": 3
   },
   "file_extension": ".py",
   "mimetype": "text/x-python",
   "name": "python",
   "nbconvert_exporter": "python",
   "pygments_lexer": "ipython3",
   "version": "3.7.6"
  }
 },
 "nbformat": 4,
 "nbformat_minor": 4
}
